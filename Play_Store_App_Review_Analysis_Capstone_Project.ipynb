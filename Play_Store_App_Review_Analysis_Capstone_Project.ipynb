{
  "nbformat": 4,
  "nbformat_minor": 0,
  "metadata": {
    "kernelspec": {
      "display_name": "Python 3",
      "language": "python",
      "name": "python3"
    },
    "language_info": {
      "codemirror_mode": {
        "name": "ipython",
        "version": 3
      },
      "file_extension": ".py",
      "mimetype": "text/x-python",
      "name": "python",
      "nbconvert_exporter": "python",
      "pygments_lexer": "ipython3",
      "version": "3.6.6"
    },
    "colab": {
      "name": "Play Store App Review Analysis - Capstone Project.ipynb",
      "provenance": [],
      "collapsed_sections": [],
      "include_colab_link": true
    }
  },
  "cells": [
    {
      "cell_type": "markdown",
      "metadata": {
        "id": "view-in-github",
        "colab_type": "text"
      },
      "source": [
        "<a href=\"https://colab.research.google.com/github/sunanda-debnath/EDA-PLAYSTORE-APP/blob/main/Play_Store_App_Review_Analysis_Capstone_Project.ipynb\" target=\"_parent\"><img src=\"https://colab.research.google.com/assets/colab-badge.svg\" alt=\"Open In Colab\"/></a>"
      ]
    },
    {
      "cell_type": "markdown",
      "metadata": {
        "id": "Y06xIdG26kRF"
      },
      "source": [
        "## <b> The Play Store apps data has enormous potential to drive app-making businesses to success. Actionable insights can be drawn for developers to work on and capture the Android market. </b>\n",
        "\n",
        "## <b> Each app (row) has values for catergory, rating, size, and more. Another dataset contains customer reviews of the android apps.</b>\n",
        "\n",
        "## <b> Explore and analyze the data to discover key factors responsible for app engagement and success. </b>"
      ]
    },
    {
      "cell_type": "markdown",
      "source": [
        ""
      ],
      "metadata": {
        "id": "XSsnmbtjeG2n"
      }
    },
    {
      "cell_type": "code",
      "source": [
        ""
      ],
      "metadata": {
        "id": "8r7xv9x2hux8"
      },
      "execution_count": null,
      "outputs": []
    },
    {
      "cell_type": "markdown",
      "source": [
        "I did my best to follow a comprehensive, but not exhaustive, analysis of the data. I'm far from reporting a rigorous study in this kernel, but I hope that it can be useful for the community, so I'm sharing how I applied some of those data analysis principles to this problem.\n",
        "\n",
        "I gave to the chapters, what we are doing in this kernel is something like:\n",
        "\n",
        "*   **loading the data into data frame**.\n",
        "*   **Basic cleaning**. \n",
        "*   **exploratory analysis and visualizations**\n",
        "*   **questions that can be asked from the visulization**\n",
        "*   **conclution**\n",
        "\n",
        "\n",
        "\n",
        "\n",
        "\n",
        "\n",
        "\n",
        "\n",
        "\n",
        "\n",
        "\n",
        "\n",
        "\n",
        "\n",
        "\n",
        "\n",
        "\n",
        "\n",
        "\n",
        "\n",
        "\n"
      ],
      "metadata": {
        "id": "JshBTbdZATIs"
      }
    },
    {
      "cell_type": "markdown",
      "source": [
        "# **Importing Libraries**"
      ],
      "metadata": {
        "id": "B0J7VC1JTXV2"
      }
    },
    {
      "cell_type": "code",
      "source": [
        "import numpy as np\n",
        "import pandas as pd\n",
        "import seaborn as sns\n",
        "import matplotlib.pyplot as plt\n",
        "%matplotlib inline\n",
        "import warnings\n",
        "warnings.filterwarnings('ignore')"
      ],
      "metadata": {
        "id": "nfM6jatASMNP"
      },
      "execution_count": 1,
      "outputs": []
    },
    {
      "cell_type": "code",
      "source": [
        "from google.colab import drive\n",
        "drive.mount('/content/drive')"
      ],
      "metadata": {
        "colab": {
          "base_uri": "https://localhost:8080/"
        },
        "id": "yp4t_5YfU1zc",
        "outputId": "c7da1060-c86e-4b43-b023-1b0400f50320"
      },
      "execution_count": 2,
      "outputs": [
        {
          "output_type": "stream",
          "name": "stdout",
          "text": [
            "Mounted at /content/drive\n"
          ]
        }
      ]
    },
    {
      "cell_type": "markdown",
      "source": [
        "# Importing the dataset"
      ],
      "metadata": {
        "id": "WWCfUcBKVTPH"
      }
    },
    {
      "cell_type": "code",
      "source": [
        "df = pd.read_csv(\"/content/drive/MyDrive/ eda project 1/playstore original/Play Store Data.csv\")\n",
        "df_new = df.copy() #for not tampering the original data"
      ],
      "metadata": {
        "id": "mD11WLbvVBtd"
      },
      "execution_count": 3,
      "outputs": []
    },
    {
      "cell_type": "markdown",
      "source": [
        "# Data Overview"
      ],
      "metadata": {
        "id": "ldX-ji6MTycd"
      }
    },
    {
      "cell_type": "code",
      "source": [
        "print(df_new.shape)\n",
        "df_new.head()"
      ],
      "metadata": {
        "id": "sz2lYiTydsal",
        "colab": {
          "base_uri": "https://localhost:8080/",
          "height": 372
        },
        "outputId": "6b093960-81c4-4000-9fe7-7354d6c9898f"
      },
      "execution_count": 4,
      "outputs": [
        {
          "output_type": "stream",
          "name": "stdout",
          "text": [
            "(10841, 13)\n"
          ]
        },
        {
          "output_type": "execute_result",
          "data": {
            "text/plain": [
              "                                                 App        Category  Rating  \\\n",
              "0     Photo Editor & Candy Camera & Grid & ScrapBook  ART_AND_DESIGN     4.1   \n",
              "1                                Coloring book moana  ART_AND_DESIGN     3.9   \n",
              "2  U Launcher Lite – FREE Live Cool Themes, Hide ...  ART_AND_DESIGN     4.7   \n",
              "3                              Sketch - Draw & Paint  ART_AND_DESIGN     4.5   \n",
              "4              Pixel Draw - Number Art Coloring Book  ART_AND_DESIGN     4.3   \n",
              "\n",
              "  Reviews  Size     Installs  Type Price Content Rating  \\\n",
              "0     159   19M      10,000+  Free     0       Everyone   \n",
              "1     967   14M     500,000+  Free     0       Everyone   \n",
              "2   87510  8.7M   5,000,000+  Free     0       Everyone   \n",
              "3  215644   25M  50,000,000+  Free     0           Teen   \n",
              "4     967  2.8M     100,000+  Free     0       Everyone   \n",
              "\n",
              "                      Genres      Last Updated         Current Ver  \\\n",
              "0               Art & Design   January 7, 2018               1.0.0   \n",
              "1  Art & Design;Pretend Play  January 15, 2018               2.0.0   \n",
              "2               Art & Design    August 1, 2018               1.2.4   \n",
              "3               Art & Design      June 8, 2018  Varies with device   \n",
              "4    Art & Design;Creativity     June 20, 2018                 1.1   \n",
              "\n",
              "    Android Ver  \n",
              "0  4.0.3 and up  \n",
              "1  4.0.3 and up  \n",
              "2  4.0.3 and up  \n",
              "3    4.2 and up  \n",
              "4    4.4 and up  "
            ],
            "text/html": [
              "\n",
              "  <div id=\"df-3df93104-f6b3-44eb-abf3-7810fdfd76d7\">\n",
              "    <div class=\"colab-df-container\">\n",
              "      <div>\n",
              "<style scoped>\n",
              "    .dataframe tbody tr th:only-of-type {\n",
              "        vertical-align: middle;\n",
              "    }\n",
              "\n",
              "    .dataframe tbody tr th {\n",
              "        vertical-align: top;\n",
              "    }\n",
              "\n",
              "    .dataframe thead th {\n",
              "        text-align: right;\n",
              "    }\n",
              "</style>\n",
              "<table border=\"1\" class=\"dataframe\">\n",
              "  <thead>\n",
              "    <tr style=\"text-align: right;\">\n",
              "      <th></th>\n",
              "      <th>App</th>\n",
              "      <th>Category</th>\n",
              "      <th>Rating</th>\n",
              "      <th>Reviews</th>\n",
              "      <th>Size</th>\n",
              "      <th>Installs</th>\n",
              "      <th>Type</th>\n",
              "      <th>Price</th>\n",
              "      <th>Content Rating</th>\n",
              "      <th>Genres</th>\n",
              "      <th>Last Updated</th>\n",
              "      <th>Current Ver</th>\n",
              "      <th>Android Ver</th>\n",
              "    </tr>\n",
              "  </thead>\n",
              "  <tbody>\n",
              "    <tr>\n",
              "      <th>0</th>\n",
              "      <td>Photo Editor &amp; Candy Camera &amp; Grid &amp; ScrapBook</td>\n",
              "      <td>ART_AND_DESIGN</td>\n",
              "      <td>4.1</td>\n",
              "      <td>159</td>\n",
              "      <td>19M</td>\n",
              "      <td>10,000+</td>\n",
              "      <td>Free</td>\n",
              "      <td>0</td>\n",
              "      <td>Everyone</td>\n",
              "      <td>Art &amp; Design</td>\n",
              "      <td>January 7, 2018</td>\n",
              "      <td>1.0.0</td>\n",
              "      <td>4.0.3 and up</td>\n",
              "    </tr>\n",
              "    <tr>\n",
              "      <th>1</th>\n",
              "      <td>Coloring book moana</td>\n",
              "      <td>ART_AND_DESIGN</td>\n",
              "      <td>3.9</td>\n",
              "      <td>967</td>\n",
              "      <td>14M</td>\n",
              "      <td>500,000+</td>\n",
              "      <td>Free</td>\n",
              "      <td>0</td>\n",
              "      <td>Everyone</td>\n",
              "      <td>Art &amp; Design;Pretend Play</td>\n",
              "      <td>January 15, 2018</td>\n",
              "      <td>2.0.0</td>\n",
              "      <td>4.0.3 and up</td>\n",
              "    </tr>\n",
              "    <tr>\n",
              "      <th>2</th>\n",
              "      <td>U Launcher Lite – FREE Live Cool Themes, Hide ...</td>\n",
              "      <td>ART_AND_DESIGN</td>\n",
              "      <td>4.7</td>\n",
              "      <td>87510</td>\n",
              "      <td>8.7M</td>\n",
              "      <td>5,000,000+</td>\n",
              "      <td>Free</td>\n",
              "      <td>0</td>\n",
              "      <td>Everyone</td>\n",
              "      <td>Art &amp; Design</td>\n",
              "      <td>August 1, 2018</td>\n",
              "      <td>1.2.4</td>\n",
              "      <td>4.0.3 and up</td>\n",
              "    </tr>\n",
              "    <tr>\n",
              "      <th>3</th>\n",
              "      <td>Sketch - Draw &amp; Paint</td>\n",
              "      <td>ART_AND_DESIGN</td>\n",
              "      <td>4.5</td>\n",
              "      <td>215644</td>\n",
              "      <td>25M</td>\n",
              "      <td>50,000,000+</td>\n",
              "      <td>Free</td>\n",
              "      <td>0</td>\n",
              "      <td>Teen</td>\n",
              "      <td>Art &amp; Design</td>\n",
              "      <td>June 8, 2018</td>\n",
              "      <td>Varies with device</td>\n",
              "      <td>4.2 and up</td>\n",
              "    </tr>\n",
              "    <tr>\n",
              "      <th>4</th>\n",
              "      <td>Pixel Draw - Number Art Coloring Book</td>\n",
              "      <td>ART_AND_DESIGN</td>\n",
              "      <td>4.3</td>\n",
              "      <td>967</td>\n",
              "      <td>2.8M</td>\n",
              "      <td>100,000+</td>\n",
              "      <td>Free</td>\n",
              "      <td>0</td>\n",
              "      <td>Everyone</td>\n",
              "      <td>Art &amp; Design;Creativity</td>\n",
              "      <td>June 20, 2018</td>\n",
              "      <td>1.1</td>\n",
              "      <td>4.4 and up</td>\n",
              "    </tr>\n",
              "  </tbody>\n",
              "</table>\n",
              "</div>\n",
              "      <button class=\"colab-df-convert\" onclick=\"convertToInteractive('df-3df93104-f6b3-44eb-abf3-7810fdfd76d7')\"\n",
              "              title=\"Convert this dataframe to an interactive table.\"\n",
              "              style=\"display:none;\">\n",
              "        \n",
              "  <svg xmlns=\"http://www.w3.org/2000/svg\" height=\"24px\"viewBox=\"0 0 24 24\"\n",
              "       width=\"24px\">\n",
              "    <path d=\"M0 0h24v24H0V0z\" fill=\"none\"/>\n",
              "    <path d=\"M18.56 5.44l.94 2.06.94-2.06 2.06-.94-2.06-.94-.94-2.06-.94 2.06-2.06.94zm-11 1L8.5 8.5l.94-2.06 2.06-.94-2.06-.94L8.5 2.5l-.94 2.06-2.06.94zm10 10l.94 2.06.94-2.06 2.06-.94-2.06-.94-.94-2.06-.94 2.06-2.06.94z\"/><path d=\"M17.41 7.96l-1.37-1.37c-.4-.4-.92-.59-1.43-.59-.52 0-1.04.2-1.43.59L10.3 9.45l-7.72 7.72c-.78.78-.78 2.05 0 2.83L4 21.41c.39.39.9.59 1.41.59.51 0 1.02-.2 1.41-.59l7.78-7.78 2.81-2.81c.8-.78.8-2.07 0-2.86zM5.41 20L4 18.59l7.72-7.72 1.47 1.35L5.41 20z\"/>\n",
              "  </svg>\n",
              "      </button>\n",
              "      \n",
              "  <style>\n",
              "    .colab-df-container {\n",
              "      display:flex;\n",
              "      flex-wrap:wrap;\n",
              "      gap: 12px;\n",
              "    }\n",
              "\n",
              "    .colab-df-convert {\n",
              "      background-color: #E8F0FE;\n",
              "      border: none;\n",
              "      border-radius: 50%;\n",
              "      cursor: pointer;\n",
              "      display: none;\n",
              "      fill: #1967D2;\n",
              "      height: 32px;\n",
              "      padding: 0 0 0 0;\n",
              "      width: 32px;\n",
              "    }\n",
              "\n",
              "    .colab-df-convert:hover {\n",
              "      background-color: #E2EBFA;\n",
              "      box-shadow: 0px 1px 2px rgba(60, 64, 67, 0.3), 0px 1px 3px 1px rgba(60, 64, 67, 0.15);\n",
              "      fill: #174EA6;\n",
              "    }\n",
              "\n",
              "    [theme=dark] .colab-df-convert {\n",
              "      background-color: #3B4455;\n",
              "      fill: #D2E3FC;\n",
              "    }\n",
              "\n",
              "    [theme=dark] .colab-df-convert:hover {\n",
              "      background-color: #434B5C;\n",
              "      box-shadow: 0px 1px 3px 1px rgba(0, 0, 0, 0.15);\n",
              "      filter: drop-shadow(0px 1px 2px rgba(0, 0, 0, 0.3));\n",
              "      fill: #FFFFFF;\n",
              "    }\n",
              "  </style>\n",
              "\n",
              "      <script>\n",
              "        const buttonEl =\n",
              "          document.querySelector('#df-3df93104-f6b3-44eb-abf3-7810fdfd76d7 button.colab-df-convert');\n",
              "        buttonEl.style.display =\n",
              "          google.colab.kernel.accessAllowed ? 'block' : 'none';\n",
              "\n",
              "        async function convertToInteractive(key) {\n",
              "          const element = document.querySelector('#df-3df93104-f6b3-44eb-abf3-7810fdfd76d7');\n",
              "          const dataTable =\n",
              "            await google.colab.kernel.invokeFunction('convertToInteractive',\n",
              "                                                     [key], {});\n",
              "          if (!dataTable) return;\n",
              "\n",
              "          const docLinkHtml = 'Like what you see? Visit the ' +\n",
              "            '<a target=\"_blank\" href=https://colab.research.google.com/notebooks/data_table.ipynb>data table notebook</a>'\n",
              "            + ' to learn more about interactive tables.';\n",
              "          element.innerHTML = '';\n",
              "          dataTable['output_type'] = 'display_data';\n",
              "          await google.colab.output.renderOutput(dataTable, element);\n",
              "          const docLink = document.createElement('div');\n",
              "          docLink.innerHTML = docLinkHtml;\n",
              "          element.appendChild(docLink);\n",
              "        }\n",
              "      </script>\n",
              "    </div>\n",
              "  </div>\n",
              "  "
            ]
          },
          "metadata": {},
          "execution_count": 4
        }
      ]
    },
    {
      "cell_type": "code",
      "metadata": {
        "id": "dByMsuzT8Tnw",
        "colab": {
          "base_uri": "https://localhost:8080/"
        },
        "outputId": "67a811e3-44bc-4099-915e-9bcfebd2dccb"
      },
      "source": [
        "df_new.info()"
      ],
      "execution_count": 5,
      "outputs": [
        {
          "output_type": "stream",
          "name": "stdout",
          "text": [
            "<class 'pandas.core.frame.DataFrame'>\n",
            "RangeIndex: 10841 entries, 0 to 10840\n",
            "Data columns (total 13 columns):\n",
            " #   Column          Non-Null Count  Dtype  \n",
            "---  ------          --------------  -----  \n",
            " 0   App             10841 non-null  object \n",
            " 1   Category        10841 non-null  object \n",
            " 2   Rating          9367 non-null   float64\n",
            " 3   Reviews         10841 non-null  object \n",
            " 4   Size            10841 non-null  object \n",
            " 5   Installs        10841 non-null  object \n",
            " 6   Type            10840 non-null  object \n",
            " 7   Price           10841 non-null  object \n",
            " 8   Content Rating  10840 non-null  object \n",
            " 9   Genres          10841 non-null  object \n",
            " 10  Last Updated    10841 non-null  object \n",
            " 11  Current Ver     10833 non-null  object \n",
            " 12  Android Ver     10838 non-null  object \n",
            "dtypes: float64(1), object(12)\n",
            "memory usage: 1.1+ MB\n"
          ]
        }
      ]
    },
    {
      "cell_type": "markdown",
      "source": [
        "###All features are object data type except rating"
      ],
      "metadata": {
        "id": "_gYL_o9Mi_RZ"
      }
    },
    {
      "cell_type": "markdown",
      "source": [
        "# Checking what columns are there in the dataset"
      ],
      "metadata": {
        "id": "nk6mTx8Bgw4n"
      }
    },
    {
      "cell_type": "code",
      "source": [
        "df_new.columns"
      ],
      "metadata": {
        "colab": {
          "base_uri": "https://localhost:8080/"
        },
        "id": "hiIC7V5Ui3SP",
        "outputId": "f110b73c-8fa9-4aee-e681-89da463bb37a"
      },
      "execution_count": 6,
      "outputs": [
        {
          "output_type": "execute_result",
          "data": {
            "text/plain": [
              "Index(['App', 'Category', 'Rating', 'Reviews', 'Size', 'Installs', 'Type',\n",
              "       'Price', 'Content Rating', 'Genres', 'Last Updated', 'Current Ver',\n",
              "       'Android Ver'],\n",
              "      dtype='object')"
            ]
          },
          "metadata": {},
          "execution_count": 6
        }
      ]
    },
    {
      "cell_type": "markdown",
      "source": [
        "# Descriptive statistics"
      ],
      "metadata": {
        "id": "Z9c3mKuNjzgH"
      }
    },
    {
      "cell_type": "code",
      "source": [
        "df_new.describe()"
      ],
      "metadata": {
        "colab": {
          "base_uri": "https://localhost:8080/",
          "height": 300
        },
        "id": "xNjlBHKjjy5H",
        "outputId": "17615701-a43f-47dc-9410-ebf296db3368"
      },
      "execution_count": 7,
      "outputs": [
        {
          "output_type": "execute_result",
          "data": {
            "text/plain": [
              "            Rating\n",
              "count  9367.000000\n",
              "mean      4.193338\n",
              "std       0.537431\n",
              "min       1.000000\n",
              "25%       4.000000\n",
              "50%       4.300000\n",
              "75%       4.500000\n",
              "max      19.000000"
            ],
            "text/html": [
              "\n",
              "  <div id=\"df-3e18252b-b093-4e1c-8f8e-8aedb4a7b1ab\">\n",
              "    <div class=\"colab-df-container\">\n",
              "      <div>\n",
              "<style scoped>\n",
              "    .dataframe tbody tr th:only-of-type {\n",
              "        vertical-align: middle;\n",
              "    }\n",
              "\n",
              "    .dataframe tbody tr th {\n",
              "        vertical-align: top;\n",
              "    }\n",
              "\n",
              "    .dataframe thead th {\n",
              "        text-align: right;\n",
              "    }\n",
              "</style>\n",
              "<table border=\"1\" class=\"dataframe\">\n",
              "  <thead>\n",
              "    <tr style=\"text-align: right;\">\n",
              "      <th></th>\n",
              "      <th>Rating</th>\n",
              "    </tr>\n",
              "  </thead>\n",
              "  <tbody>\n",
              "    <tr>\n",
              "      <th>count</th>\n",
              "      <td>9367.000000</td>\n",
              "    </tr>\n",
              "    <tr>\n",
              "      <th>mean</th>\n",
              "      <td>4.193338</td>\n",
              "    </tr>\n",
              "    <tr>\n",
              "      <th>std</th>\n",
              "      <td>0.537431</td>\n",
              "    </tr>\n",
              "    <tr>\n",
              "      <th>min</th>\n",
              "      <td>1.000000</td>\n",
              "    </tr>\n",
              "    <tr>\n",
              "      <th>25%</th>\n",
              "      <td>4.000000</td>\n",
              "    </tr>\n",
              "    <tr>\n",
              "      <th>50%</th>\n",
              "      <td>4.300000</td>\n",
              "    </tr>\n",
              "    <tr>\n",
              "      <th>75%</th>\n",
              "      <td>4.500000</td>\n",
              "    </tr>\n",
              "    <tr>\n",
              "      <th>max</th>\n",
              "      <td>19.000000</td>\n",
              "    </tr>\n",
              "  </tbody>\n",
              "</table>\n",
              "</div>\n",
              "      <button class=\"colab-df-convert\" onclick=\"convertToInteractive('df-3e18252b-b093-4e1c-8f8e-8aedb4a7b1ab')\"\n",
              "              title=\"Convert this dataframe to an interactive table.\"\n",
              "              style=\"display:none;\">\n",
              "        \n",
              "  <svg xmlns=\"http://www.w3.org/2000/svg\" height=\"24px\"viewBox=\"0 0 24 24\"\n",
              "       width=\"24px\">\n",
              "    <path d=\"M0 0h24v24H0V0z\" fill=\"none\"/>\n",
              "    <path d=\"M18.56 5.44l.94 2.06.94-2.06 2.06-.94-2.06-.94-.94-2.06-.94 2.06-2.06.94zm-11 1L8.5 8.5l.94-2.06 2.06-.94-2.06-.94L8.5 2.5l-.94 2.06-2.06.94zm10 10l.94 2.06.94-2.06 2.06-.94-2.06-.94-.94-2.06-.94 2.06-2.06.94z\"/><path d=\"M17.41 7.96l-1.37-1.37c-.4-.4-.92-.59-1.43-.59-.52 0-1.04.2-1.43.59L10.3 9.45l-7.72 7.72c-.78.78-.78 2.05 0 2.83L4 21.41c.39.39.9.59 1.41.59.51 0 1.02-.2 1.41-.59l7.78-7.78 2.81-2.81c.8-.78.8-2.07 0-2.86zM5.41 20L4 18.59l7.72-7.72 1.47 1.35L5.41 20z\"/>\n",
              "  </svg>\n",
              "      </button>\n",
              "      \n",
              "  <style>\n",
              "    .colab-df-container {\n",
              "      display:flex;\n",
              "      flex-wrap:wrap;\n",
              "      gap: 12px;\n",
              "    }\n",
              "\n",
              "    .colab-df-convert {\n",
              "      background-color: #E8F0FE;\n",
              "      border: none;\n",
              "      border-radius: 50%;\n",
              "      cursor: pointer;\n",
              "      display: none;\n",
              "      fill: #1967D2;\n",
              "      height: 32px;\n",
              "      padding: 0 0 0 0;\n",
              "      width: 32px;\n",
              "    }\n",
              "\n",
              "    .colab-df-convert:hover {\n",
              "      background-color: #E2EBFA;\n",
              "      box-shadow: 0px 1px 2px rgba(60, 64, 67, 0.3), 0px 1px 3px 1px rgba(60, 64, 67, 0.15);\n",
              "      fill: #174EA6;\n",
              "    }\n",
              "\n",
              "    [theme=dark] .colab-df-convert {\n",
              "      background-color: #3B4455;\n",
              "      fill: #D2E3FC;\n",
              "    }\n",
              "\n",
              "    [theme=dark] .colab-df-convert:hover {\n",
              "      background-color: #434B5C;\n",
              "      box-shadow: 0px 1px 3px 1px rgba(0, 0, 0, 0.15);\n",
              "      filter: drop-shadow(0px 1px 2px rgba(0, 0, 0, 0.3));\n",
              "      fill: #FFFFFF;\n",
              "    }\n",
              "  </style>\n",
              "\n",
              "      <script>\n",
              "        const buttonEl =\n",
              "          document.querySelector('#df-3e18252b-b093-4e1c-8f8e-8aedb4a7b1ab button.colab-df-convert');\n",
              "        buttonEl.style.display =\n",
              "          google.colab.kernel.accessAllowed ? 'block' : 'none';\n",
              "\n",
              "        async function convertToInteractive(key) {\n",
              "          const element = document.querySelector('#df-3e18252b-b093-4e1c-8f8e-8aedb4a7b1ab');\n",
              "          const dataTable =\n",
              "            await google.colab.kernel.invokeFunction('convertToInteractive',\n",
              "                                                     [key], {});\n",
              "          if (!dataTable) return;\n",
              "\n",
              "          const docLinkHtml = 'Like what you see? Visit the ' +\n",
              "            '<a target=\"_blank\" href=https://colab.research.google.com/notebooks/data_table.ipynb>data table notebook</a>'\n",
              "            + ' to learn more about interactive tables.';\n",
              "          element.innerHTML = '';\n",
              "          dataTable['output_type'] = 'display_data';\n",
              "          await google.colab.output.renderOutput(dataTable, element);\n",
              "          const docLink = document.createElement('div');\n",
              "          docLink.innerHTML = docLinkHtml;\n",
              "          element.appendChild(docLink);\n",
              "        }\n",
              "      </script>\n",
              "    </div>\n",
              "  </div>\n",
              "  "
            ]
          },
          "metadata": {},
          "execution_count": 7
        }
      ]
    },
    {
      "cell_type": "code",
      "source": [
        "df_new['App'].duplicated().value_counts()"
      ],
      "metadata": {
        "colab": {
          "base_uri": "https://localhost:8080/"
        },
        "id": "GdYrUljZqW9o",
        "outputId": "94dedea7-4d83-400c-c851-1d48bd707413"
      },
      "execution_count": 8,
      "outputs": [
        {
          "output_type": "execute_result",
          "data": {
            "text/plain": [
              "False    9660\n",
              "True     1181\n",
              "Name: App, dtype: int64"
            ]
          },
          "metadata": {},
          "execution_count": 8
        }
      ]
    },
    {
      "cell_type": "code",
      "source": [
        "df_new.loc[df_new['App'].duplicated()] #no of duplicates"
      ],
      "metadata": {
        "colab": {
          "base_uri": "https://localhost:8080/",
          "height": 658
        },
        "id": "SizrfeKpqkOu",
        "outputId": "18596b0e-72d5-4ce8-efa0-601ca9756621"
      },
      "execution_count": 9,
      "outputs": [
        {
          "output_type": "execute_result",
          "data": {
            "text/plain": [
              "                                      App       Category  Rating Reviews  \\\n",
              "229          Quick PDF Scanner + OCR FREE       BUSINESS     4.2   80805   \n",
              "236                                   Box       BUSINESS     4.2  159872   \n",
              "239                    Google My Business       BUSINESS     4.4   70991   \n",
              "256                   ZOOM Cloud Meetings       BUSINESS     4.4   31614   \n",
              "261             join.me - Simple Meetings       BUSINESS     4.0    6989   \n",
              "...                                   ...            ...     ...     ...   \n",
              "10715                  FarmersOnly Dating         DATING     3.0    1145   \n",
              "10720  Firefox Focus: The privacy browser  COMMUNICATION     4.4   36981   \n",
              "10730                         FP Notebook        MEDICAL     4.5     410   \n",
              "10753      Slickdeals: Coupons & Shopping       SHOPPING     4.5   33599   \n",
              "10768                                AAFP        MEDICAL     3.8      63   \n",
              "\n",
              "                     Size     Installs  Type Price Content Rating  \\\n",
              "229    Varies with device   5,000,000+  Free     0       Everyone   \n",
              "236    Varies with device  10,000,000+  Free     0       Everyone   \n",
              "239    Varies with device   5,000,000+  Free     0       Everyone   \n",
              "256                   37M  10,000,000+  Free     0       Everyone   \n",
              "261    Varies with device   1,000,000+  Free     0       Everyone   \n",
              "...                   ...          ...   ...   ...            ...   \n",
              "10715                1.4M     100,000+  Free     0     Mature 17+   \n",
              "10720                4.0M   1,000,000+  Free     0       Everyone   \n",
              "10730                 60M      50,000+  Free     0       Everyone   \n",
              "10753                 12M   1,000,000+  Free     0       Everyone   \n",
              "10768                 24M      10,000+  Free     0       Everyone   \n",
              "\n",
              "              Genres       Last Updated         Current Ver  \\\n",
              "229         Business  February 26, 2018  Varies with device   \n",
              "236         Business      July 31, 2018  Varies with device   \n",
              "239         Business      July 24, 2018    2.19.0.204537701   \n",
              "256         Business      July 20, 2018      4.1.28165.0716   \n",
              "261         Business      July 16, 2018           4.3.0.508   \n",
              "...              ...                ...                 ...   \n",
              "10715         Dating  February 25, 2016                 2.2   \n",
              "10720  Communication       July 6, 2018                 5.2   \n",
              "10730        Medical     March 24, 2018           2.1.0.372   \n",
              "10753       Shopping      July 30, 2018                 3.9   \n",
              "10768        Medical      June 22, 2018               2.3.1   \n",
              "\n",
              "              Android Ver  \n",
              "229          4.0.3 and up  \n",
              "236    Varies with device  \n",
              "239            4.4 and up  \n",
              "256            4.0 and up  \n",
              "261            4.4 and up  \n",
              "...                   ...  \n",
              "10715          4.0 and up  \n",
              "10720          5.0 and up  \n",
              "10730          4.4 and up  \n",
              "10753          4.4 and up  \n",
              "10768          5.0 and up  \n",
              "\n",
              "[1181 rows x 13 columns]"
            ],
            "text/html": [
              "\n",
              "  <div id=\"df-acd88bdc-46ba-4d7d-b354-bd3d7dd64447\">\n",
              "    <div class=\"colab-df-container\">\n",
              "      <div>\n",
              "<style scoped>\n",
              "    .dataframe tbody tr th:only-of-type {\n",
              "        vertical-align: middle;\n",
              "    }\n",
              "\n",
              "    .dataframe tbody tr th {\n",
              "        vertical-align: top;\n",
              "    }\n",
              "\n",
              "    .dataframe thead th {\n",
              "        text-align: right;\n",
              "    }\n",
              "</style>\n",
              "<table border=\"1\" class=\"dataframe\">\n",
              "  <thead>\n",
              "    <tr style=\"text-align: right;\">\n",
              "      <th></th>\n",
              "      <th>App</th>\n",
              "      <th>Category</th>\n",
              "      <th>Rating</th>\n",
              "      <th>Reviews</th>\n",
              "      <th>Size</th>\n",
              "      <th>Installs</th>\n",
              "      <th>Type</th>\n",
              "      <th>Price</th>\n",
              "      <th>Content Rating</th>\n",
              "      <th>Genres</th>\n",
              "      <th>Last Updated</th>\n",
              "      <th>Current Ver</th>\n",
              "      <th>Android Ver</th>\n",
              "    </tr>\n",
              "  </thead>\n",
              "  <tbody>\n",
              "    <tr>\n",
              "      <th>229</th>\n",
              "      <td>Quick PDF Scanner + OCR FREE</td>\n",
              "      <td>BUSINESS</td>\n",
              "      <td>4.2</td>\n",
              "      <td>80805</td>\n",
              "      <td>Varies with device</td>\n",
              "      <td>5,000,000+</td>\n",
              "      <td>Free</td>\n",
              "      <td>0</td>\n",
              "      <td>Everyone</td>\n",
              "      <td>Business</td>\n",
              "      <td>February 26, 2018</td>\n",
              "      <td>Varies with device</td>\n",
              "      <td>4.0.3 and up</td>\n",
              "    </tr>\n",
              "    <tr>\n",
              "      <th>236</th>\n",
              "      <td>Box</td>\n",
              "      <td>BUSINESS</td>\n",
              "      <td>4.2</td>\n",
              "      <td>159872</td>\n",
              "      <td>Varies with device</td>\n",
              "      <td>10,000,000+</td>\n",
              "      <td>Free</td>\n",
              "      <td>0</td>\n",
              "      <td>Everyone</td>\n",
              "      <td>Business</td>\n",
              "      <td>July 31, 2018</td>\n",
              "      <td>Varies with device</td>\n",
              "      <td>Varies with device</td>\n",
              "    </tr>\n",
              "    <tr>\n",
              "      <th>239</th>\n",
              "      <td>Google My Business</td>\n",
              "      <td>BUSINESS</td>\n",
              "      <td>4.4</td>\n",
              "      <td>70991</td>\n",
              "      <td>Varies with device</td>\n",
              "      <td>5,000,000+</td>\n",
              "      <td>Free</td>\n",
              "      <td>0</td>\n",
              "      <td>Everyone</td>\n",
              "      <td>Business</td>\n",
              "      <td>July 24, 2018</td>\n",
              "      <td>2.19.0.204537701</td>\n",
              "      <td>4.4 and up</td>\n",
              "    </tr>\n",
              "    <tr>\n",
              "      <th>256</th>\n",
              "      <td>ZOOM Cloud Meetings</td>\n",
              "      <td>BUSINESS</td>\n",
              "      <td>4.4</td>\n",
              "      <td>31614</td>\n",
              "      <td>37M</td>\n",
              "      <td>10,000,000+</td>\n",
              "      <td>Free</td>\n",
              "      <td>0</td>\n",
              "      <td>Everyone</td>\n",
              "      <td>Business</td>\n",
              "      <td>July 20, 2018</td>\n",
              "      <td>4.1.28165.0716</td>\n",
              "      <td>4.0 and up</td>\n",
              "    </tr>\n",
              "    <tr>\n",
              "      <th>261</th>\n",
              "      <td>join.me - Simple Meetings</td>\n",
              "      <td>BUSINESS</td>\n",
              "      <td>4.0</td>\n",
              "      <td>6989</td>\n",
              "      <td>Varies with device</td>\n",
              "      <td>1,000,000+</td>\n",
              "      <td>Free</td>\n",
              "      <td>0</td>\n",
              "      <td>Everyone</td>\n",
              "      <td>Business</td>\n",
              "      <td>July 16, 2018</td>\n",
              "      <td>4.3.0.508</td>\n",
              "      <td>4.4 and up</td>\n",
              "    </tr>\n",
              "    <tr>\n",
              "      <th>...</th>\n",
              "      <td>...</td>\n",
              "      <td>...</td>\n",
              "      <td>...</td>\n",
              "      <td>...</td>\n",
              "      <td>...</td>\n",
              "      <td>...</td>\n",
              "      <td>...</td>\n",
              "      <td>...</td>\n",
              "      <td>...</td>\n",
              "      <td>...</td>\n",
              "      <td>...</td>\n",
              "      <td>...</td>\n",
              "      <td>...</td>\n",
              "    </tr>\n",
              "    <tr>\n",
              "      <th>10715</th>\n",
              "      <td>FarmersOnly Dating</td>\n",
              "      <td>DATING</td>\n",
              "      <td>3.0</td>\n",
              "      <td>1145</td>\n",
              "      <td>1.4M</td>\n",
              "      <td>100,000+</td>\n",
              "      <td>Free</td>\n",
              "      <td>0</td>\n",
              "      <td>Mature 17+</td>\n",
              "      <td>Dating</td>\n",
              "      <td>February 25, 2016</td>\n",
              "      <td>2.2</td>\n",
              "      <td>4.0 and up</td>\n",
              "    </tr>\n",
              "    <tr>\n",
              "      <th>10720</th>\n",
              "      <td>Firefox Focus: The privacy browser</td>\n",
              "      <td>COMMUNICATION</td>\n",
              "      <td>4.4</td>\n",
              "      <td>36981</td>\n",
              "      <td>4.0M</td>\n",
              "      <td>1,000,000+</td>\n",
              "      <td>Free</td>\n",
              "      <td>0</td>\n",
              "      <td>Everyone</td>\n",
              "      <td>Communication</td>\n",
              "      <td>July 6, 2018</td>\n",
              "      <td>5.2</td>\n",
              "      <td>5.0 and up</td>\n",
              "    </tr>\n",
              "    <tr>\n",
              "      <th>10730</th>\n",
              "      <td>FP Notebook</td>\n",
              "      <td>MEDICAL</td>\n",
              "      <td>4.5</td>\n",
              "      <td>410</td>\n",
              "      <td>60M</td>\n",
              "      <td>50,000+</td>\n",
              "      <td>Free</td>\n",
              "      <td>0</td>\n",
              "      <td>Everyone</td>\n",
              "      <td>Medical</td>\n",
              "      <td>March 24, 2018</td>\n",
              "      <td>2.1.0.372</td>\n",
              "      <td>4.4 and up</td>\n",
              "    </tr>\n",
              "    <tr>\n",
              "      <th>10753</th>\n",
              "      <td>Slickdeals: Coupons &amp; Shopping</td>\n",
              "      <td>SHOPPING</td>\n",
              "      <td>4.5</td>\n",
              "      <td>33599</td>\n",
              "      <td>12M</td>\n",
              "      <td>1,000,000+</td>\n",
              "      <td>Free</td>\n",
              "      <td>0</td>\n",
              "      <td>Everyone</td>\n",
              "      <td>Shopping</td>\n",
              "      <td>July 30, 2018</td>\n",
              "      <td>3.9</td>\n",
              "      <td>4.4 and up</td>\n",
              "    </tr>\n",
              "    <tr>\n",
              "      <th>10768</th>\n",
              "      <td>AAFP</td>\n",
              "      <td>MEDICAL</td>\n",
              "      <td>3.8</td>\n",
              "      <td>63</td>\n",
              "      <td>24M</td>\n",
              "      <td>10,000+</td>\n",
              "      <td>Free</td>\n",
              "      <td>0</td>\n",
              "      <td>Everyone</td>\n",
              "      <td>Medical</td>\n",
              "      <td>June 22, 2018</td>\n",
              "      <td>2.3.1</td>\n",
              "      <td>5.0 and up</td>\n",
              "    </tr>\n",
              "  </tbody>\n",
              "</table>\n",
              "<p>1181 rows × 13 columns</p>\n",
              "</div>\n",
              "      <button class=\"colab-df-convert\" onclick=\"convertToInteractive('df-acd88bdc-46ba-4d7d-b354-bd3d7dd64447')\"\n",
              "              title=\"Convert this dataframe to an interactive table.\"\n",
              "              style=\"display:none;\">\n",
              "        \n",
              "  <svg xmlns=\"http://www.w3.org/2000/svg\" height=\"24px\"viewBox=\"0 0 24 24\"\n",
              "       width=\"24px\">\n",
              "    <path d=\"M0 0h24v24H0V0z\" fill=\"none\"/>\n",
              "    <path d=\"M18.56 5.44l.94 2.06.94-2.06 2.06-.94-2.06-.94-.94-2.06-.94 2.06-2.06.94zm-11 1L8.5 8.5l.94-2.06 2.06-.94-2.06-.94L8.5 2.5l-.94 2.06-2.06.94zm10 10l.94 2.06.94-2.06 2.06-.94-2.06-.94-.94-2.06-.94 2.06-2.06.94z\"/><path d=\"M17.41 7.96l-1.37-1.37c-.4-.4-.92-.59-1.43-.59-.52 0-1.04.2-1.43.59L10.3 9.45l-7.72 7.72c-.78.78-.78 2.05 0 2.83L4 21.41c.39.39.9.59 1.41.59.51 0 1.02-.2 1.41-.59l7.78-7.78 2.81-2.81c.8-.78.8-2.07 0-2.86zM5.41 20L4 18.59l7.72-7.72 1.47 1.35L5.41 20z\"/>\n",
              "  </svg>\n",
              "      </button>\n",
              "      \n",
              "  <style>\n",
              "    .colab-df-container {\n",
              "      display:flex;\n",
              "      flex-wrap:wrap;\n",
              "      gap: 12px;\n",
              "    }\n",
              "\n",
              "    .colab-df-convert {\n",
              "      background-color: #E8F0FE;\n",
              "      border: none;\n",
              "      border-radius: 50%;\n",
              "      cursor: pointer;\n",
              "      display: none;\n",
              "      fill: #1967D2;\n",
              "      height: 32px;\n",
              "      padding: 0 0 0 0;\n",
              "      width: 32px;\n",
              "    }\n",
              "\n",
              "    .colab-df-convert:hover {\n",
              "      background-color: #E2EBFA;\n",
              "      box-shadow: 0px 1px 2px rgba(60, 64, 67, 0.3), 0px 1px 3px 1px rgba(60, 64, 67, 0.15);\n",
              "      fill: #174EA6;\n",
              "    }\n",
              "\n",
              "    [theme=dark] .colab-df-convert {\n",
              "      background-color: #3B4455;\n",
              "      fill: #D2E3FC;\n",
              "    }\n",
              "\n",
              "    [theme=dark] .colab-df-convert:hover {\n",
              "      background-color: #434B5C;\n",
              "      box-shadow: 0px 1px 3px 1px rgba(0, 0, 0, 0.15);\n",
              "      filter: drop-shadow(0px 1px 2px rgba(0, 0, 0, 0.3));\n",
              "      fill: #FFFFFF;\n",
              "    }\n",
              "  </style>\n",
              "\n",
              "      <script>\n",
              "        const buttonEl =\n",
              "          document.querySelector('#df-acd88bdc-46ba-4d7d-b354-bd3d7dd64447 button.colab-df-convert');\n",
              "        buttonEl.style.display =\n",
              "          google.colab.kernel.accessAllowed ? 'block' : 'none';\n",
              "\n",
              "        async function convertToInteractive(key) {\n",
              "          const element = document.querySelector('#df-acd88bdc-46ba-4d7d-b354-bd3d7dd64447');\n",
              "          const dataTable =\n",
              "            await google.colab.kernel.invokeFunction('convertToInteractive',\n",
              "                                                     [key], {});\n",
              "          if (!dataTable) return;\n",
              "\n",
              "          const docLinkHtml = 'Like what you see? Visit the ' +\n",
              "            '<a target=\"_blank\" href=https://colab.research.google.com/notebooks/data_table.ipynb>data table notebook</a>'\n",
              "            + ' to learn more about interactive tables.';\n",
              "          element.innerHTML = '';\n",
              "          dataTable['output_type'] = 'display_data';\n",
              "          await google.colab.output.renderOutput(dataTable, element);\n",
              "          const docLink = document.createElement('div');\n",
              "          docLink.innerHTML = docLinkHtml;\n",
              "          element.appendChild(docLink);\n",
              "        }\n",
              "      </script>\n",
              "    </div>\n",
              "  </div>\n",
              "  "
            ]
          },
          "metadata": {},
          "execution_count": 9
        }
      ]
    },
    {
      "cell_type": "markdown",
      "source": [
        "### Droping the duplicates"
      ],
      "metadata": {
        "id": "g--PFOMNlxYn"
      }
    },
    {
      "cell_type": "code",
      "source": [
        "df_new = df_new.drop_duplicates('App') "
      ],
      "metadata": {
        "id": "2eQ-EhElkKMH"
      },
      "execution_count": 10,
      "outputs": []
    },
    {
      "cell_type": "code",
      "source": [
        "df_new.info()\n"
      ],
      "metadata": {
        "id": "wk7A7tZCXkSA",
        "colab": {
          "base_uri": "https://localhost:8080/"
        },
        "outputId": "d60b38cf-cd66-44d4-f455-2c144cbee28d"
      },
      "execution_count": 11,
      "outputs": [
        {
          "output_type": "stream",
          "name": "stdout",
          "text": [
            "<class 'pandas.core.frame.DataFrame'>\n",
            "Int64Index: 9660 entries, 0 to 10840\n",
            "Data columns (total 13 columns):\n",
            " #   Column          Non-Null Count  Dtype  \n",
            "---  ------          --------------  -----  \n",
            " 0   App             9660 non-null   object \n",
            " 1   Category        9660 non-null   object \n",
            " 2   Rating          8197 non-null   float64\n",
            " 3   Reviews         9660 non-null   object \n",
            " 4   Size            9660 non-null   object \n",
            " 5   Installs        9660 non-null   object \n",
            " 6   Type            9659 non-null   object \n",
            " 7   Price           9660 non-null   object \n",
            " 8   Content Rating  9659 non-null   object \n",
            " 9   Genres          9660 non-null   object \n",
            " 10  Last Updated    9660 non-null   object \n",
            " 11  Current Ver     9652 non-null   object \n",
            " 12  Android Ver     9657 non-null   object \n",
            "dtypes: float64(1), object(12)\n",
            "memory usage: 1.0+ MB\n"
          ]
        }
      ]
    },
    {
      "cell_type": "markdown",
      "source": [
        "###Find null values"
      ],
      "metadata": {
        "id": "2dA4a__6DqAY"
      }
    },
    {
      "cell_type": "code",
      "source": [
        "df_new.isna().sum()"
      ],
      "metadata": {
        "colab": {
          "base_uri": "https://localhost:8080/"
        },
        "id": "2DzFKGuID3Dm",
        "outputId": "3d02eaa7-e2ec-4d18-b15a-3a1f0b66eb21"
      },
      "execution_count": 12,
      "outputs": [
        {
          "output_type": "execute_result",
          "data": {
            "text/plain": [
              "App                  0\n",
              "Category             0\n",
              "Rating            1463\n",
              "Reviews              0\n",
              "Size                 0\n",
              "Installs             0\n",
              "Type                 1\n",
              "Price                0\n",
              "Content Rating       1\n",
              "Genres               0\n",
              "Last Updated         0\n",
              "Current Ver          8\n",
              "Android Ver          3\n",
              "dtype: int64"
            ]
          },
          "metadata": {},
          "execution_count": 12
        }
      ]
    },
    {
      "cell_type": "code",
      "source": [
        "#For minimize the lossing data we fill the null values in (Rating) column by mean through catagory wise.\n",
        "df_new['Rating'].fillna(df_new.groupby('Category')['Rating'].transform('mean'),inplace=True)"
      ],
      "metadata": {
        "id": "kXYp-qUJEWKs"
      },
      "execution_count": 13,
      "outputs": []
    },
    {
      "cell_type": "code",
      "source": [
        "df_new.isna().sum()"
      ],
      "metadata": {
        "colab": {
          "base_uri": "https://localhost:8080/"
        },
        "id": "u01kj9XKGwSS",
        "outputId": "21d22373-f5f3-421d-b311-8d2e17cb7cf0"
      },
      "execution_count": 14,
      "outputs": [
        {
          "output_type": "execute_result",
          "data": {
            "text/plain": [
              "App               0\n",
              "Category          0\n",
              "Rating            0\n",
              "Reviews           0\n",
              "Size              0\n",
              "Installs          0\n",
              "Type              1\n",
              "Price             0\n",
              "Content Rating    1\n",
              "Genres            0\n",
              "Last Updated      0\n",
              "Current Ver       8\n",
              "Android Ver       3\n",
              "dtype: int64"
            ]
          },
          "metadata": {},
          "execution_count": 14
        }
      ]
    },
    {
      "cell_type": "markdown",
      "source": [
        "###Dropping other null rows"
      ],
      "metadata": {
        "id": "g0mwo8raHLlV"
      }
    },
    {
      "cell_type": "code",
      "source": [
        "df_new.dropna(inplace=True)"
      ],
      "metadata": {
        "id": "usf5MfozHTsy"
      },
      "execution_count": 15,
      "outputs": []
    },
    {
      "cell_type": "markdown",
      "source": [
        "## correcting the data types\n",
        "### Which all variables need to be brought to numeric types?\n",
        "### Installs\n",
        "### size\n",
        "### Reviews\n",
        "### Price"
      ],
      "metadata": {
        "id": "hmlzCMEFc5Mx"
      }
    },
    {
      "cell_type": "markdown",
      "source": [
        "### Convert the 'Installs' column to int type"
      ],
      "metadata": {
        "id": "dfdrtMeCRlYc"
      }
    },
    {
      "cell_type": "code",
      "source": [
        "df_new['Installs'] = df_new['Installs'].apply(lambda x:x .replace('+',''))     #replacing '+' sign from each intalls values \n",
        "df_new['Installs'] = df_new['Installs'].apply(lambda x:x .replace(',',''))\n",
        "df_new['Installs'] = df_new['Installs'].astype(int)\n"
      ],
      "metadata": {
        "id": "AdKRA-hNR9uZ"
      },
      "execution_count": 16,
      "outputs": []
    },
    {
      "cell_type": "markdown",
      "source": [
        "###Convert 'Size' column to float type and all values in Megabytes "
      ],
      "metadata": {
        "id": "_QnB7fEfgAzC"
      }
    },
    {
      "cell_type": "code",
      "source": [
        "#replacing the string 'Varies with device' into NaN value and leter filled by mean value catagory wise\n",
        "df_new['Size'].replace('Varies with device', np.nan, inplace = True)\n",
        "df_new['Size'] =df_new['Size'].apply(lambda x:str(x).replace('M',''))\n",
        "df_new['Size'] =df_new['Size'].apply(lambda x:str(x).replace('k','e-3')) #replace k(kilobytes) to megabytes\n",
        "df_new['Size'] =df_new['Size'].astype(float) #convert to float\n",
        "df_new['Size'].fillna(df_new.groupby('Category')['Size'].transform('mean'),inplace = True) #fill NaN values with mean of the size of the apps by its category respectively"
      ],
      "metadata": {
        "id": "vgCE-Qkbigfr"
      },
      "execution_count": 17,
      "outputs": []
    },
    {
      "cell_type": "code",
      "source": [
        "df_new['Size'].unique() #unique values in 'Size' column"
      ],
      "metadata": {
        "colab": {
          "base_uri": "https://localhost:8080/"
        },
        "id": "yUiRh5WMtHM0",
        "outputId": "337dcc41-b99b-46a1-fcd6-8488104b9210"
      },
      "execution_count": 18,
      "outputs": [
        {
          "output_type": "execute_result",
          "data": {
            "text/plain": [
              "array([1.90000000e+01, 1.40000000e+01, 8.70000000e+00, 2.50000000e+01,\n",
              "       2.80000000e+00, 5.60000000e+00, 2.90000000e+01, 3.30000000e+01,\n",
              "       3.10000000e+00, 2.80000000e+01, 1.20000000e+01, 2.00000000e+01,\n",
              "       2.10000000e+01, 3.70000000e+01, 5.50000000e+00, 1.70000000e+01,\n",
              "       3.90000000e+01, 3.10000000e+01, 4.20000000e+00, 7.00000000e+00,\n",
              "       2.30000000e+01, 6.00000000e+00, 6.10000000e+00, 4.60000000e+00,\n",
              "       9.20000000e+00, 5.20000000e+00, 1.10000000e+01, 2.40000000e+01,\n",
              "       1.25295082e+01, 9.40000000e+00, 1.50000000e+01, 1.00000000e+01,\n",
              "       1.20000000e+00, 2.60000000e+01, 8.00000000e+00, 7.90000000e+00,\n",
              "       5.60000000e+01, 5.70000000e+01, 2.00371467e+01, 3.50000000e+01,\n",
              "       5.40000000e+01, 2.01000000e-01, 3.60000000e+00, 5.70000000e+00,\n",
              "       8.60000000e+00, 2.40000000e+00, 2.70000000e+01, 2.70000000e+00,\n",
              "       2.50000000e+00, 1.60000000e+01, 3.40000000e+00, 8.90000000e+00,\n",
              "       3.90000000e+00, 2.90000000e+00, 3.80000000e+01, 3.20000000e+01,\n",
              "       5.40000000e+00, 1.80000000e+01, 1.10000000e+00, 2.20000000e+00,\n",
              "       4.50000000e+00, 9.80000000e+00, 1.37957447e+01, 5.20000000e+01,\n",
              "       9.00000000e+00, 6.70000000e+00, 3.00000000e+01, 2.60000000e+00,\n",
              "       7.10000000e+00, 3.70000000e+00, 2.20000000e+01, 7.40000000e+00,\n",
              "       6.40000000e+00, 3.20000000e+00, 8.20000000e+00, 9.90000000e+00,\n",
              "       1.31993472e+01, 4.90000000e+00, 9.50000000e+00, 5.00000000e+00,\n",
              "       5.90000000e+00, 1.30000000e+01, 7.30000000e+01, 6.80000000e+00,\n",
              "       3.50000000e+00, 4.00000000e+00, 2.30000000e+00, 7.20000000e+00,\n",
              "       2.10000000e+00, 4.20000000e+01, 7.30000000e+00, 1.38671941e+01,\n",
              "       9.10000000e+00, 5.50000000e+01, 2.30000000e-02, 6.50000000e+00,\n",
              "       1.50000000e+00, 7.50000000e+00, 5.10000000e+01, 4.10000000e+01,\n",
              "       4.80000000e+01, 8.50000000e+00, 4.60000000e+01, 1.37949592e+01,\n",
              "       8.30000000e+00, 4.30000000e+00, 4.70000000e+00, 3.30000000e+00,\n",
              "       4.00000000e+01, 7.80000000e+00, 1.13074298e+01, 8.80000000e+00,\n",
              "       6.60000000e+00, 5.10000000e+00, 6.10000000e+01, 6.60000000e+01,\n",
              "       7.90000000e-02, 8.40000000e+00, 1.18000000e-01, 4.40000000e+01,\n",
              "       6.95000000e-01, 1.60000000e+00, 1.56611195e+01, 6.20000000e+00,\n",
              "       1.80000000e-02, 5.30000000e+01, 1.40000000e+00, 3.00000000e+00,\n",
              "       5.80000000e+00, 3.80000000e+00, 9.60000000e+00, 4.50000000e+01,\n",
              "       6.30000000e+01, 4.90000000e+01, 7.70000000e+01, 4.40000000e+00,\n",
              "       4.80000000e+00, 7.00000000e+01, 6.90000000e+00, 9.30000000e+00,\n",
              "       8.10000000e+00, 3.60000000e+01, 1.90571011e+01, 8.40000000e+01,\n",
              "       9.70000000e+01, 2.00000000e+00, 1.90000000e+00, 1.80000000e+00,\n",
              "       5.30000000e+00, 4.70000000e+01, 5.56000000e-01, 5.26000000e-01,\n",
              "       7.60000000e+01, 7.60000000e+00, 5.90000000e+01, 2.30437500e+01,\n",
              "       9.70000000e+00, 7.80000000e+01, 7.20000000e+01, 4.30000000e+01,\n",
              "       7.70000000e+00, 6.30000000e+00, 1.39637544e+01, 3.34000000e-01,\n",
              "       3.40000000e+01, 1.73681271e+01, 9.30000000e+01, 6.50000000e+01,\n",
              "       7.90000000e+01, 1.00000000e+02, 5.80000000e+01, 5.00000000e+01,\n",
              "       6.80000000e+01, 2.04943182e+01, 6.40000000e+01, 2.06697069e+01,\n",
              "       6.70000000e+01, 6.00000000e+01, 9.40000000e+01, 1.59702581e+01,\n",
              "       1.07352812e+01, 2.32000000e-01, 9.90000000e+01, 6.24000000e-01,\n",
              "       9.50000000e+01, 8.50000000e-03, 4.10000000e-02, 2.92000000e-01,\n",
              "       8.00000000e+01, 1.70000000e+00, 1.48449162e+01, 7.40000000e+01,\n",
              "       4.18666094e+01, 6.20000000e+01, 6.90000000e+01, 7.50000000e+01,\n",
              "       9.80000000e+01, 8.50000000e+01, 8.20000000e+01, 9.60000000e+01,\n",
              "       8.70000000e+01, 7.10000000e+01, 8.60000000e+01, 9.10000000e+01,\n",
              "       8.10000000e+01, 9.20000000e+01, 8.30000000e+01, 8.80000000e+01,\n",
              "       2.72228932e+01, 7.04000000e-01, 1.91893995e+01, 8.62000000e-01,\n",
              "       8.99000000e-01, 3.78000000e-01, 2.66000000e-01, 3.75000000e-01,\n",
              "       1.30000000e+00, 9.75000000e-01, 9.80000000e-01, 1.59840899e+01,\n",
              "       4.10000000e+00, 8.90000000e+01, 1.54914345e+01, 1.56661577e+01,\n",
              "       2.40583614e+01, 2.42044104e+01, 8.79467353e+00, 6.96000000e-01,\n",
              "       5.44000000e-01, 5.25000000e-01, 1.12514126e+01, 9.20000000e-01,\n",
              "       7.79000000e-01, 8.53000000e-01, 1.23425052e+01, 7.20000000e-01,\n",
              "       7.13000000e-01, 2.25129630e+01, 1.26800357e+01, 1.57927559e+01,\n",
              "       1.24701891e+01, 1.63681215e+01, 7.72000000e-01, 3.18000000e-01,\n",
              "       5.80000000e-02, 2.41000000e-01, 1.96000000e-01, 8.57000000e-01,\n",
              "       5.10000000e-02, 9.53000000e-01, 8.65000000e-01, 2.51000000e-01,\n",
              "       9.30000000e-01, 5.40000000e-01, 3.13000000e-01, 7.46000000e-01,\n",
              "       2.03000000e-01, 2.60000000e-02, 3.14000000e-01, 2.39000000e-01,\n",
              "       3.71000000e-01, 2.20000000e-01, 7.30000000e-01, 7.56000000e-01,\n",
              "       9.10000000e-02, 2.93000000e-01, 1.70000000e-02, 7.40000000e-02,\n",
              "       1.40000000e-02, 3.17000000e-01, 7.80000000e-02, 9.24000000e-01,\n",
              "       9.02000000e-01, 8.18000000e-01, 8.10000000e-02, 9.39000000e-01,\n",
              "       1.69000000e-01, 4.50000000e-02, 4.75000000e-01, 9.65000000e-01,\n",
              "       9.00000000e+01, 5.45000000e-01, 6.10000000e-02, 2.83000000e-01,\n",
              "       6.55000000e-01, 7.14000000e-01, 9.30000000e-02, 8.72000000e-01,\n",
              "       1.21000000e-01, 3.22000000e-01, 1.00000000e+00, 9.76000000e-01,\n",
              "       1.72000000e-01, 2.38000000e-01, 5.49000000e-01, 2.06000000e-01,\n",
              "       9.54000000e-01, 4.44000000e-01, 7.17000000e-01, 2.10000000e-01,\n",
              "       6.09000000e-01, 3.08000000e-01, 7.05000000e-01, 3.06000000e-01,\n",
              "       9.04000000e-01, 4.73000000e-01, 1.75000000e-01, 3.50000000e-01,\n",
              "       3.83000000e-01, 4.54000000e-01, 4.21000000e-01, 7.00000000e-02,\n",
              "       8.12000000e-01, 4.42000000e-01, 8.42000000e-01, 4.17000000e-01,\n",
              "       4.12000000e-01, 4.59000000e-01, 4.78000000e-01, 3.35000000e-01,\n",
              "       7.82000000e-01, 7.21000000e-01, 4.30000000e-01, 4.29000000e-01,\n",
              "       1.92000000e-01, 2.00000000e-01, 4.60000000e-01, 7.28000000e-01,\n",
              "       4.96000000e-01, 8.16000000e-01, 4.14000000e-01, 5.06000000e-01,\n",
              "       8.87000000e-01, 6.13000000e-01, 2.43000000e-01, 5.69000000e-01,\n",
              "       7.78000000e-01, 6.83000000e-01, 5.92000000e-01, 3.19000000e-01,\n",
              "       1.86000000e-01, 8.40000000e-01, 6.47000000e-01, 1.91000000e-01,\n",
              "       3.73000000e-01, 4.37000000e-01, 5.98000000e-01, 7.16000000e-01,\n",
              "       5.85000000e-01, 9.82000000e-01, 2.19000000e-01, 5.50000000e-02,\n",
              "       9.48000000e-01, 3.23000000e-01, 6.91000000e-01, 5.11000000e-01,\n",
              "       9.51000000e-01, 9.63000000e-01, 2.50000000e-02, 5.54000000e-01,\n",
              "       3.51000000e-01, 2.70000000e-02, 8.20000000e-02, 2.08000000e-01,\n",
              "       9.13000000e-01, 5.14000000e-01, 5.51000000e-01, 2.90000000e-02,\n",
              "       1.03000000e-01, 8.98000000e-01, 7.43000000e-01, 1.16000000e-01,\n",
              "       1.53000000e-01, 2.09000000e-01, 3.53000000e-01, 4.99000000e-01,\n",
              "       1.73000000e-01, 5.97000000e-01, 8.09000000e-01, 1.22000000e-01,\n",
              "       4.11000000e-01, 4.00000000e-01, 8.01000000e-01, 7.87000000e-01,\n",
              "       5.00000000e-02, 6.43000000e-01, 9.86000000e-01, 9.70000000e-02,\n",
              "       5.16000000e-01, 8.37000000e-01, 7.80000000e-01, 9.61000000e-01,\n",
              "       2.69000000e-01, 2.00000000e-02, 4.98000000e-01, 6.00000000e-01,\n",
              "       7.49000000e-01, 6.42000000e-01, 8.81000000e-01, 7.20000000e-02,\n",
              "       6.56000000e-01, 6.01000000e-01, 2.21000000e-01, 2.28000000e-01,\n",
              "       1.08000000e-01, 9.40000000e-01, 1.76000000e-01, 3.30000000e-02,\n",
              "       6.63000000e-01, 3.40000000e-02, 9.42000000e-01, 2.59000000e-01,\n",
              "       1.64000000e-01, 4.58000000e-01, 2.45000000e-01, 6.29000000e-01,\n",
              "       2.80000000e-02, 2.88000000e-01, 7.75000000e-01, 7.85000000e-01,\n",
              "       6.36000000e-01, 9.16000000e-01, 9.94000000e-01, 3.09000000e-01,\n",
              "       4.85000000e-01, 9.14000000e-01, 9.03000000e-01, 6.08000000e-01,\n",
              "       5.00000000e-01, 5.40000000e-02, 5.62000000e-01, 8.47000000e-01,\n",
              "       9.57000000e-01, 6.88000000e-01, 8.11000000e-01, 2.70000000e-01,\n",
              "       4.80000000e-02, 3.29000000e-01, 5.23000000e-01, 9.21000000e-01,\n",
              "       8.74000000e-01, 9.81000000e-01, 7.84000000e-01, 2.80000000e-01,\n",
              "       2.40000000e-02, 5.18000000e-01, 7.54000000e-01, 8.92000000e-01,\n",
              "       1.54000000e-01, 8.60000000e-01, 3.64000000e-01, 3.87000000e-01,\n",
              "       6.26000000e-01, 1.61000000e-01, 8.79000000e-01, 3.90000000e-02,\n",
              "       9.70000000e-01, 1.70000000e-01, 1.41000000e-01, 1.60000000e-01,\n",
              "       1.44000000e-01, 1.43000000e-01, 1.90000000e-01, 3.76000000e-01,\n",
              "       1.93000000e-01, 2.46000000e-01, 7.30000000e-02, 9.92000000e-01,\n",
              "       2.53000000e-01, 4.20000000e-01, 4.04000000e-01, 4.70000000e-01,\n",
              "       2.26000000e-01, 2.40000000e-01, 8.90000000e-02, 2.34000000e-01,\n",
              "       2.57000000e-01, 8.61000000e-01, 4.67000000e-01, 1.57000000e-01,\n",
              "       4.40000000e-02, 6.76000000e-01, 6.70000000e-02, 5.52000000e-01,\n",
              "       8.85000000e-01, 1.02000000e+00, 5.82000000e-01, 6.19000000e-01])"
            ]
          },
          "metadata": {},
          "execution_count": 18
        }
      ]
    },
    {
      "cell_type": "markdown",
      "source": [
        ""
      ],
      "metadata": {
        "id": "EuSJ6h0QbbAZ"
      }
    },
    {
      "cell_type": "markdown",
      "source": [
        "###Convert Price column object to number type"
      ],
      "metadata": {
        "id": "EKc3nKqG20dN"
      }
    },
    {
      "cell_type": "code",
      "source": [
        "df_new['Price']=df_new['Price'].apply(lambda x:x.replace('$',''))\n",
        "df_new['Price']=df_new['Price'].astype(float)"
      ],
      "metadata": {
        "id": "11-z0Wj0vREt"
      },
      "execution_count": 19,
      "outputs": []
    },
    {
      "cell_type": "markdown",
      "source": [
        "###Convert Reviews column to numaric"
      ],
      "metadata": {
        "id": "xvctx8kz61M-"
      }
    },
    {
      "cell_type": "code",
      "source": [
        "df_new['Reviews'] =df_new['Reviews'].astype(int)"
      ],
      "metadata": {
        "id": "DB31PRvuz8pp"
      },
      "execution_count": 20,
      "outputs": []
    },
    {
      "cell_type": "markdown",
      "source": [
        "# Sanity cheak\n",
        "##1.Avg rating should be between 1 and 5,only these values are allowed on the playstore.\n",
        "###Are there any such records?drop if so"
      ],
      "metadata": {
        "id": "ujWSYa0D7j9F"
      }
    },
    {
      "cell_type": "code",
      "source": [
        "(df_new['Rating']<1).sum()"
      ],
      "metadata": {
        "colab": {
          "base_uri": "https://localhost:8080/"
        },
        "id": "SaRvRnOS7jLl",
        "outputId": "ba7ec4b1-f811-4509-d868-c7acee0a1d05"
      },
      "execution_count": 21,
      "outputs": [
        {
          "output_type": "execute_result",
          "data": {
            "text/plain": [
              "0"
            ]
          },
          "metadata": {},
          "execution_count": 21
        }
      ]
    },
    {
      "cell_type": "code",
      "source": [
        "(df_new['Rating']>5).sum()"
      ],
      "metadata": {
        "colab": {
          "base_uri": "https://localhost:8080/"
        },
        "id": "-54-pQqaz8bU",
        "outputId": "4f0737a0-65e4-4fde-836c-83871c0af69f"
      },
      "execution_count": 22,
      "outputs": [
        {
          "output_type": "execute_result",
          "data": {
            "text/plain": [
              "0"
            ]
          },
          "metadata": {},
          "execution_count": 22
        }
      ]
    },
    {
      "cell_type": "markdown",
      "source": [
        "##2.Reviews should not be more than installs as only those who installed can review the app\n",
        "###Are there any such records? Drop if so."
      ],
      "metadata": {
        "id": "DrhvZYi3-OVY"
      }
    },
    {
      "cell_type": "code",
      "source": [
        "df_new[df_new['Reviews'] > df_new['Installs']]"
      ],
      "metadata": {
        "colab": {
          "base_uri": "https://localhost:8080/",
          "height": 646
        },
        "id": "v-wP1NhfCNey",
        "outputId": "a21fb25a-f13e-4c21-9b8a-4137a09ae84d"
      },
      "execution_count": 23,
      "outputs": [
        {
          "output_type": "execute_result",
          "data": {
            "text/plain": [
              "                                     App         Category    Rating  Reviews  \\\n",
              "2454                 KBA-EZ Health Guide          MEDICAL  5.000000        4   \n",
              "4550   RMEduS - 음성인식을 활용한 R 프로그래밍 실습 시스템           FAMILY  4.179664        4   \n",
              "4663       Alarmy (Sleep If U Can) - Pro        LIFESTYLE  4.800000    10249   \n",
              "5812             AX Watch for WatchMaker  PERSONALIZATION  4.332215        2   \n",
              "5917                            Ra Ga Ba             GAME  5.000000        2   \n",
              "6508                          Sam.BN Pro            TOOLS  4.039554       11   \n",
              "6700                    Brick Breaker BR             GAME  5.000000        7   \n",
              "7402                Trovami se ci riesci             GAME  5.000000       11   \n",
              "8591                             DN Blog           SOCIAL  5.000000       20   \n",
              "9096                           DZ Puzzle           FAMILY  4.179664       14   \n",
              "10697                            Mu.F.O.             GAME  5.000000        2   \n",
              "\n",
              "            Size  Installs  Type  Price Content Rating           Genres  \\\n",
              "2454   25.000000         1  Free   0.00       Everyone          Medical   \n",
              "4550   64.000000         1  Free   0.00       Everyone        Education   \n",
              "4663   14.844916     10000  Paid   2.49       Everyone        Lifestyle   \n",
              "5812    0.238000         1  Paid   0.99       Everyone  Personalization   \n",
              "5917   20.000000         1  Paid   1.49       Everyone           Arcade   \n",
              "6508    2.000000        10  Paid   0.99       Everyone            Tools   \n",
              "6700   19.000000         5  Free   0.00       Everyone           Arcade   \n",
              "7402    6.100000        10  Free   0.00       Everyone           Arcade   \n",
              "8591    4.200000        10  Free   0.00           Teen           Social   \n",
              "9096   47.000000        10  Paid   0.99       Everyone           Puzzle   \n",
              "10697  16.000000         1  Paid   0.99       Everyone           Arcade   \n",
              "\n",
              "           Last Updated         Current Ver         Android Ver  \n",
              "2454     August 2, 2018              1.0.72        4.0.3 and up  \n",
              "4550      July 17, 2018               1.0.1          4.4 and up  \n",
              "4663      July 30, 2018  Varies with device  Varies with device  \n",
              "5812    August 18, 2017                 1.0          2.3 and up  \n",
              "5917   February 8, 2017               1.0.4          2.3 and up  \n",
              "6508     March 27, 2015               1.0.0        4.0.3 and up  \n",
              "6700      July 23, 2018                 1.0          4.1 and up  \n",
              "7402     March 11, 2017                 0.1          2.3 and up  \n",
              "8591      July 23, 2018                 1.0          4.0 and up  \n",
              "9096     April 22, 2017                 1.2          2.3 and up  \n",
              "10697     March 3, 2017                 1.0          2.3 and up  "
            ],
            "text/html": [
              "\n",
              "  <div id=\"df-7f092586-069c-4930-8f2b-91790c4f595a\">\n",
              "    <div class=\"colab-df-container\">\n",
              "      <div>\n",
              "<style scoped>\n",
              "    .dataframe tbody tr th:only-of-type {\n",
              "        vertical-align: middle;\n",
              "    }\n",
              "\n",
              "    .dataframe tbody tr th {\n",
              "        vertical-align: top;\n",
              "    }\n",
              "\n",
              "    .dataframe thead th {\n",
              "        text-align: right;\n",
              "    }\n",
              "</style>\n",
              "<table border=\"1\" class=\"dataframe\">\n",
              "  <thead>\n",
              "    <tr style=\"text-align: right;\">\n",
              "      <th></th>\n",
              "      <th>App</th>\n",
              "      <th>Category</th>\n",
              "      <th>Rating</th>\n",
              "      <th>Reviews</th>\n",
              "      <th>Size</th>\n",
              "      <th>Installs</th>\n",
              "      <th>Type</th>\n",
              "      <th>Price</th>\n",
              "      <th>Content Rating</th>\n",
              "      <th>Genres</th>\n",
              "      <th>Last Updated</th>\n",
              "      <th>Current Ver</th>\n",
              "      <th>Android Ver</th>\n",
              "    </tr>\n",
              "  </thead>\n",
              "  <tbody>\n",
              "    <tr>\n",
              "      <th>2454</th>\n",
              "      <td>KBA-EZ Health Guide</td>\n",
              "      <td>MEDICAL</td>\n",
              "      <td>5.000000</td>\n",
              "      <td>4</td>\n",
              "      <td>25.000000</td>\n",
              "      <td>1</td>\n",
              "      <td>Free</td>\n",
              "      <td>0.00</td>\n",
              "      <td>Everyone</td>\n",
              "      <td>Medical</td>\n",
              "      <td>August 2, 2018</td>\n",
              "      <td>1.0.72</td>\n",
              "      <td>4.0.3 and up</td>\n",
              "    </tr>\n",
              "    <tr>\n",
              "      <th>4550</th>\n",
              "      <td>RMEduS - 음성인식을 활용한 R 프로그래밍 실습 시스템</td>\n",
              "      <td>FAMILY</td>\n",
              "      <td>4.179664</td>\n",
              "      <td>4</td>\n",
              "      <td>64.000000</td>\n",
              "      <td>1</td>\n",
              "      <td>Free</td>\n",
              "      <td>0.00</td>\n",
              "      <td>Everyone</td>\n",
              "      <td>Education</td>\n",
              "      <td>July 17, 2018</td>\n",
              "      <td>1.0.1</td>\n",
              "      <td>4.4 and up</td>\n",
              "    </tr>\n",
              "    <tr>\n",
              "      <th>4663</th>\n",
              "      <td>Alarmy (Sleep If U Can) - Pro</td>\n",
              "      <td>LIFESTYLE</td>\n",
              "      <td>4.800000</td>\n",
              "      <td>10249</td>\n",
              "      <td>14.844916</td>\n",
              "      <td>10000</td>\n",
              "      <td>Paid</td>\n",
              "      <td>2.49</td>\n",
              "      <td>Everyone</td>\n",
              "      <td>Lifestyle</td>\n",
              "      <td>July 30, 2018</td>\n",
              "      <td>Varies with device</td>\n",
              "      <td>Varies with device</td>\n",
              "    </tr>\n",
              "    <tr>\n",
              "      <th>5812</th>\n",
              "      <td>AX Watch for WatchMaker</td>\n",
              "      <td>PERSONALIZATION</td>\n",
              "      <td>4.332215</td>\n",
              "      <td>2</td>\n",
              "      <td>0.238000</td>\n",
              "      <td>1</td>\n",
              "      <td>Paid</td>\n",
              "      <td>0.99</td>\n",
              "      <td>Everyone</td>\n",
              "      <td>Personalization</td>\n",
              "      <td>August 18, 2017</td>\n",
              "      <td>1.0</td>\n",
              "      <td>2.3 and up</td>\n",
              "    </tr>\n",
              "    <tr>\n",
              "      <th>5917</th>\n",
              "      <td>Ra Ga Ba</td>\n",
              "      <td>GAME</td>\n",
              "      <td>5.000000</td>\n",
              "      <td>2</td>\n",
              "      <td>20.000000</td>\n",
              "      <td>1</td>\n",
              "      <td>Paid</td>\n",
              "      <td>1.49</td>\n",
              "      <td>Everyone</td>\n",
              "      <td>Arcade</td>\n",
              "      <td>February 8, 2017</td>\n",
              "      <td>1.0.4</td>\n",
              "      <td>2.3 and up</td>\n",
              "    </tr>\n",
              "    <tr>\n",
              "      <th>6508</th>\n",
              "      <td>Sam.BN Pro</td>\n",
              "      <td>TOOLS</td>\n",
              "      <td>4.039554</td>\n",
              "      <td>11</td>\n",
              "      <td>2.000000</td>\n",
              "      <td>10</td>\n",
              "      <td>Paid</td>\n",
              "      <td>0.99</td>\n",
              "      <td>Everyone</td>\n",
              "      <td>Tools</td>\n",
              "      <td>March 27, 2015</td>\n",
              "      <td>1.0.0</td>\n",
              "      <td>4.0.3 and up</td>\n",
              "    </tr>\n",
              "    <tr>\n",
              "      <th>6700</th>\n",
              "      <td>Brick Breaker BR</td>\n",
              "      <td>GAME</td>\n",
              "      <td>5.000000</td>\n",
              "      <td>7</td>\n",
              "      <td>19.000000</td>\n",
              "      <td>5</td>\n",
              "      <td>Free</td>\n",
              "      <td>0.00</td>\n",
              "      <td>Everyone</td>\n",
              "      <td>Arcade</td>\n",
              "      <td>July 23, 2018</td>\n",
              "      <td>1.0</td>\n",
              "      <td>4.1 and up</td>\n",
              "    </tr>\n",
              "    <tr>\n",
              "      <th>7402</th>\n",
              "      <td>Trovami se ci riesci</td>\n",
              "      <td>GAME</td>\n",
              "      <td>5.000000</td>\n",
              "      <td>11</td>\n",
              "      <td>6.100000</td>\n",
              "      <td>10</td>\n",
              "      <td>Free</td>\n",
              "      <td>0.00</td>\n",
              "      <td>Everyone</td>\n",
              "      <td>Arcade</td>\n",
              "      <td>March 11, 2017</td>\n",
              "      <td>0.1</td>\n",
              "      <td>2.3 and up</td>\n",
              "    </tr>\n",
              "    <tr>\n",
              "      <th>8591</th>\n",
              "      <td>DN Blog</td>\n",
              "      <td>SOCIAL</td>\n",
              "      <td>5.000000</td>\n",
              "      <td>20</td>\n",
              "      <td>4.200000</td>\n",
              "      <td>10</td>\n",
              "      <td>Free</td>\n",
              "      <td>0.00</td>\n",
              "      <td>Teen</td>\n",
              "      <td>Social</td>\n",
              "      <td>July 23, 2018</td>\n",
              "      <td>1.0</td>\n",
              "      <td>4.0 and up</td>\n",
              "    </tr>\n",
              "    <tr>\n",
              "      <th>9096</th>\n",
              "      <td>DZ Puzzle</td>\n",
              "      <td>FAMILY</td>\n",
              "      <td>4.179664</td>\n",
              "      <td>14</td>\n",
              "      <td>47.000000</td>\n",
              "      <td>10</td>\n",
              "      <td>Paid</td>\n",
              "      <td>0.99</td>\n",
              "      <td>Everyone</td>\n",
              "      <td>Puzzle</td>\n",
              "      <td>April 22, 2017</td>\n",
              "      <td>1.2</td>\n",
              "      <td>2.3 and up</td>\n",
              "    </tr>\n",
              "    <tr>\n",
              "      <th>10697</th>\n",
              "      <td>Mu.F.O.</td>\n",
              "      <td>GAME</td>\n",
              "      <td>5.000000</td>\n",
              "      <td>2</td>\n",
              "      <td>16.000000</td>\n",
              "      <td>1</td>\n",
              "      <td>Paid</td>\n",
              "      <td>0.99</td>\n",
              "      <td>Everyone</td>\n",
              "      <td>Arcade</td>\n",
              "      <td>March 3, 2017</td>\n",
              "      <td>1.0</td>\n",
              "      <td>2.3 and up</td>\n",
              "    </tr>\n",
              "  </tbody>\n",
              "</table>\n",
              "</div>\n",
              "      <button class=\"colab-df-convert\" onclick=\"convertToInteractive('df-7f092586-069c-4930-8f2b-91790c4f595a')\"\n",
              "              title=\"Convert this dataframe to an interactive table.\"\n",
              "              style=\"display:none;\">\n",
              "        \n",
              "  <svg xmlns=\"http://www.w3.org/2000/svg\" height=\"24px\"viewBox=\"0 0 24 24\"\n",
              "       width=\"24px\">\n",
              "    <path d=\"M0 0h24v24H0V0z\" fill=\"none\"/>\n",
              "    <path d=\"M18.56 5.44l.94 2.06.94-2.06 2.06-.94-2.06-.94-.94-2.06-.94 2.06-2.06.94zm-11 1L8.5 8.5l.94-2.06 2.06-.94-2.06-.94L8.5 2.5l-.94 2.06-2.06.94zm10 10l.94 2.06.94-2.06 2.06-.94-2.06-.94-.94-2.06-.94 2.06-2.06.94z\"/><path d=\"M17.41 7.96l-1.37-1.37c-.4-.4-.92-.59-1.43-.59-.52 0-1.04.2-1.43.59L10.3 9.45l-7.72 7.72c-.78.78-.78 2.05 0 2.83L4 21.41c.39.39.9.59 1.41.59.51 0 1.02-.2 1.41-.59l7.78-7.78 2.81-2.81c.8-.78.8-2.07 0-2.86zM5.41 20L4 18.59l7.72-7.72 1.47 1.35L5.41 20z\"/>\n",
              "  </svg>\n",
              "      </button>\n",
              "      \n",
              "  <style>\n",
              "    .colab-df-container {\n",
              "      display:flex;\n",
              "      flex-wrap:wrap;\n",
              "      gap: 12px;\n",
              "    }\n",
              "\n",
              "    .colab-df-convert {\n",
              "      background-color: #E8F0FE;\n",
              "      border: none;\n",
              "      border-radius: 50%;\n",
              "      cursor: pointer;\n",
              "      display: none;\n",
              "      fill: #1967D2;\n",
              "      height: 32px;\n",
              "      padding: 0 0 0 0;\n",
              "      width: 32px;\n",
              "    }\n",
              "\n",
              "    .colab-df-convert:hover {\n",
              "      background-color: #E2EBFA;\n",
              "      box-shadow: 0px 1px 2px rgba(60, 64, 67, 0.3), 0px 1px 3px 1px rgba(60, 64, 67, 0.15);\n",
              "      fill: #174EA6;\n",
              "    }\n",
              "\n",
              "    [theme=dark] .colab-df-convert {\n",
              "      background-color: #3B4455;\n",
              "      fill: #D2E3FC;\n",
              "    }\n",
              "\n",
              "    [theme=dark] .colab-df-convert:hover {\n",
              "      background-color: #434B5C;\n",
              "      box-shadow: 0px 1px 3px 1px rgba(0, 0, 0, 0.15);\n",
              "      filter: drop-shadow(0px 1px 2px rgba(0, 0, 0, 0.3));\n",
              "      fill: #FFFFFF;\n",
              "    }\n",
              "  </style>\n",
              "\n",
              "      <script>\n",
              "        const buttonEl =\n",
              "          document.querySelector('#df-7f092586-069c-4930-8f2b-91790c4f595a button.colab-df-convert');\n",
              "        buttonEl.style.display =\n",
              "          google.colab.kernel.accessAllowed ? 'block' : 'none';\n",
              "\n",
              "        async function convertToInteractive(key) {\n",
              "          const element = document.querySelector('#df-7f092586-069c-4930-8f2b-91790c4f595a');\n",
              "          const dataTable =\n",
              "            await google.colab.kernel.invokeFunction('convertToInteractive',\n",
              "                                                     [key], {});\n",
              "          if (!dataTable) return;\n",
              "\n",
              "          const docLinkHtml = 'Like what you see? Visit the ' +\n",
              "            '<a target=\"_blank\" href=https://colab.research.google.com/notebooks/data_table.ipynb>data table notebook</a>'\n",
              "            + ' to learn more about interactive tables.';\n",
              "          element.innerHTML = '';\n",
              "          dataTable['output_type'] = 'display_data';\n",
              "          await google.colab.output.renderOutput(dataTable, element);\n",
              "          const docLink = document.createElement('div');\n",
              "          docLink.innerHTML = docLinkHtml;\n",
              "          element.appendChild(docLink);\n",
              "        }\n",
              "      </script>\n",
              "    </div>\n",
              "  </div>\n",
              "  "
            ]
          },
          "metadata": {},
          "execution_count": 23
        }
      ]
    },
    {
      "cell_type": "code",
      "source": [
        "df_new.drop(df_new[df_new['Reviews']>df_new['Installs']].index,inplace=True) #droping \n",
        "df_new[df_new['Reviews'] > df_new['Installs']] #cheaking the output"
      ],
      "metadata": {
        "colab": {
          "base_uri": "https://localhost:8080/",
          "height": 49
        },
        "id": "zpe_CBjwC1E3",
        "outputId": "9c43ded3-5f48-4867-88cd-a5e80241ca1c"
      },
      "execution_count": 24,
      "outputs": [
        {
          "output_type": "execute_result",
          "data": {
            "text/plain": [
              "Empty DataFrame\n",
              "Columns: [App, Category, Rating, Reviews, Size, Installs, Type, Price, Content Rating, Genres, Last Updated, Current Ver, Android Ver]\n",
              "Index: []"
            ],
            "text/html": [
              "\n",
              "  <div id=\"df-067cffc0-a472-4e3d-8550-22e0e71bb8dd\">\n",
              "    <div class=\"colab-df-container\">\n",
              "      <div>\n",
              "<style scoped>\n",
              "    .dataframe tbody tr th:only-of-type {\n",
              "        vertical-align: middle;\n",
              "    }\n",
              "\n",
              "    .dataframe tbody tr th {\n",
              "        vertical-align: top;\n",
              "    }\n",
              "\n",
              "    .dataframe thead th {\n",
              "        text-align: right;\n",
              "    }\n",
              "</style>\n",
              "<table border=\"1\" class=\"dataframe\">\n",
              "  <thead>\n",
              "    <tr style=\"text-align: right;\">\n",
              "      <th></th>\n",
              "      <th>App</th>\n",
              "      <th>Category</th>\n",
              "      <th>Rating</th>\n",
              "      <th>Reviews</th>\n",
              "      <th>Size</th>\n",
              "      <th>Installs</th>\n",
              "      <th>Type</th>\n",
              "      <th>Price</th>\n",
              "      <th>Content Rating</th>\n",
              "      <th>Genres</th>\n",
              "      <th>Last Updated</th>\n",
              "      <th>Current Ver</th>\n",
              "      <th>Android Ver</th>\n",
              "    </tr>\n",
              "  </thead>\n",
              "  <tbody>\n",
              "  </tbody>\n",
              "</table>\n",
              "</div>\n",
              "      <button class=\"colab-df-convert\" onclick=\"convertToInteractive('df-067cffc0-a472-4e3d-8550-22e0e71bb8dd')\"\n",
              "              title=\"Convert this dataframe to an interactive table.\"\n",
              "              style=\"display:none;\">\n",
              "        \n",
              "  <svg xmlns=\"http://www.w3.org/2000/svg\" height=\"24px\"viewBox=\"0 0 24 24\"\n",
              "       width=\"24px\">\n",
              "    <path d=\"M0 0h24v24H0V0z\" fill=\"none\"/>\n",
              "    <path d=\"M18.56 5.44l.94 2.06.94-2.06 2.06-.94-2.06-.94-.94-2.06-.94 2.06-2.06.94zm-11 1L8.5 8.5l.94-2.06 2.06-.94-2.06-.94L8.5 2.5l-.94 2.06-2.06.94zm10 10l.94 2.06.94-2.06 2.06-.94-2.06-.94-.94-2.06-.94 2.06-2.06.94z\"/><path d=\"M17.41 7.96l-1.37-1.37c-.4-.4-.92-.59-1.43-.59-.52 0-1.04.2-1.43.59L10.3 9.45l-7.72 7.72c-.78.78-.78 2.05 0 2.83L4 21.41c.39.39.9.59 1.41.59.51 0 1.02-.2 1.41-.59l7.78-7.78 2.81-2.81c.8-.78.8-2.07 0-2.86zM5.41 20L4 18.59l7.72-7.72 1.47 1.35L5.41 20z\"/>\n",
              "  </svg>\n",
              "      </button>\n",
              "      \n",
              "  <style>\n",
              "    .colab-df-container {\n",
              "      display:flex;\n",
              "      flex-wrap:wrap;\n",
              "      gap: 12px;\n",
              "    }\n",
              "\n",
              "    .colab-df-convert {\n",
              "      background-color: #E8F0FE;\n",
              "      border: none;\n",
              "      border-radius: 50%;\n",
              "      cursor: pointer;\n",
              "      display: none;\n",
              "      fill: #1967D2;\n",
              "      height: 32px;\n",
              "      padding: 0 0 0 0;\n",
              "      width: 32px;\n",
              "    }\n",
              "\n",
              "    .colab-df-convert:hover {\n",
              "      background-color: #E2EBFA;\n",
              "      box-shadow: 0px 1px 2px rgba(60, 64, 67, 0.3), 0px 1px 3px 1px rgba(60, 64, 67, 0.15);\n",
              "      fill: #174EA6;\n",
              "    }\n",
              "\n",
              "    [theme=dark] .colab-df-convert {\n",
              "      background-color: #3B4455;\n",
              "      fill: #D2E3FC;\n",
              "    }\n",
              "\n",
              "    [theme=dark] .colab-df-convert:hover {\n",
              "      background-color: #434B5C;\n",
              "      box-shadow: 0px 1px 3px 1px rgba(0, 0, 0, 0.15);\n",
              "      filter: drop-shadow(0px 1px 2px rgba(0, 0, 0, 0.3));\n",
              "      fill: #FFFFFF;\n",
              "    }\n",
              "  </style>\n",
              "\n",
              "      <script>\n",
              "        const buttonEl =\n",
              "          document.querySelector('#df-067cffc0-a472-4e3d-8550-22e0e71bb8dd button.colab-df-convert');\n",
              "        buttonEl.style.display =\n",
              "          google.colab.kernel.accessAllowed ? 'block' : 'none';\n",
              "\n",
              "        async function convertToInteractive(key) {\n",
              "          const element = document.querySelector('#df-067cffc0-a472-4e3d-8550-22e0e71bb8dd');\n",
              "          const dataTable =\n",
              "            await google.colab.kernel.invokeFunction('convertToInteractive',\n",
              "                                                     [key], {});\n",
              "          if (!dataTable) return;\n",
              "\n",
              "          const docLinkHtml = 'Like what you see? Visit the ' +\n",
              "            '<a target=\"_blank\" href=https://colab.research.google.com/notebooks/data_table.ipynb>data table notebook</a>'\n",
              "            + ' to learn more about interactive tables.';\n",
              "          element.innerHTML = '';\n",
              "          dataTable['output_type'] = 'display_data';\n",
              "          await google.colab.output.renderOutput(dataTable, element);\n",
              "          const docLink = document.createElement('div');\n",
              "          docLink.innerHTML = docLinkHtml;\n",
              "          element.appendChild(docLink);\n",
              "        }\n",
              "      </script>\n",
              "    </div>\n",
              "  </div>\n",
              "  "
            ]
          },
          "metadata": {},
          "execution_count": 24
        }
      ]
    },
    {
      "cell_type": "code",
      "source": [
        "df_new.info()"
      ],
      "metadata": {
        "colab": {
          "base_uri": "https://localhost:8080/"
        },
        "id": "dA5JJlrfEKan",
        "outputId": "da62e0a5-f38e-4390-d6e4-cb7aa83765d3"
      },
      "execution_count": 25,
      "outputs": [
        {
          "output_type": "stream",
          "name": "stdout",
          "text": [
            "<class 'pandas.core.frame.DataFrame'>\n",
            "Int64Index: 9637 entries, 0 to 10840\n",
            "Data columns (total 13 columns):\n",
            " #   Column          Non-Null Count  Dtype  \n",
            "---  ------          --------------  -----  \n",
            " 0   App             9637 non-null   object \n",
            " 1   Category        9637 non-null   object \n",
            " 2   Rating          9637 non-null   float64\n",
            " 3   Reviews         9637 non-null   int64  \n",
            " 4   Size            9637 non-null   float64\n",
            " 5   Installs        9637 non-null   int64  \n",
            " 6   Type            9637 non-null   object \n",
            " 7   Price           9637 non-null   float64\n",
            " 8   Content Rating  9637 non-null   object \n",
            " 9   Genres          9637 non-null   object \n",
            " 10  Last Updated    9637 non-null   object \n",
            " 11  Current Ver     9637 non-null   object \n",
            " 12  Android Ver     9637 non-null   object \n",
            "dtypes: float64(3), int64(2), object(8)\n",
            "memory usage: 1.0+ MB\n"
          ]
        }
      ]
    },
    {
      "cell_type": "markdown",
      "source": [
        "# Data Visulisation for Basic EDA\n",
        "###1.App size"
      ],
      "metadata": {
        "id": "cYHl0_vQtF1-"
      }
    },
    {
      "cell_type": "code",
      "source": [
        "plt.figure(figsize=(10,5))\n",
        "sns.distplot(df_new['Size'],color='purple')\n",
        "plt.title('App Size Distribution')\n",
        "plt.show()"
      ],
      "metadata": {
        "colab": {
          "base_uri": "https://localhost:8080/",
          "height": 350
        },
        "id": "iezJDXF5wbe-",
        "outputId": "696d118f-dd9d-4aab-84b5-18d242c31e3b"
      },
      "execution_count": 26,
      "outputs": [
        {
          "output_type": "display_data",
          "data": {
            "text/plain": [
              "<Figure size 720x360 with 1 Axes>"
            ],
            "image/png": "[encoded data removed]"
          },
          "metadata": {
            "needs_background": "light"
          }
        }
      ]
    },
    {
      "cell_type": "code",
      "source": [
        "#Most of the apps size lie in 0 to 20 mb range\n",
        "(df_new[df_new['Size']<=20].shape[0]/df_new['Size'].shape[0])*100   # % of the apps size less or equal than to 20 mb"
      ],
      "metadata": {
        "colab": {
          "base_uri": "https://localhost:8080/"
        },
        "id": "9PUqnrLN6Rsn",
        "outputId": "9ebcd8b0-c4b0-493d-e35e-740a913e8398"
      },
      "execution_count": 27,
      "outputs": [
        {
          "output_type": "execute_result",
          "data": {
            "text/plain": [
              "64.97872781986095"
            ]
          },
          "metadata": {},
          "execution_count": 27
        }
      ]
    },
    {
      "cell_type": "markdown",
      "source": [
        "approx 65% of the apps come under 0 to 20 mb in in size "
      ],
      "metadata": {
        "id": "d4Bv6bsw7c8W"
      }
    },
    {
      "cell_type": "code",
      "source": [
        "plt.figure(figsize=(10,6))\n",
        "plt.title('Rating Distributions',size = 18)\n",
        "sns.distplot(df['Rating'],color='purple')\n",
        "plt.xlim(0,7.5)\n",
        "plt.show()"
      ],
      "metadata": {
        "colab": {
          "base_uri": "https://localhost:8080/",
          "height": 408
        },
        "id": "h_ihCdwB91Zl",
        "outputId": "2993b656-ffda-4038-e243-275b4b13fa5a"
      },
      "execution_count": 28,
      "outputs": [
        {
          "output_type": "display_data",
          "data": {
            "text/plain": [
              "<Figure size 720x432 with 1 Axes>"
            ],
            "image/png": "[encoded data removed]"
          },
          "metadata": {
            "needs_background": "light"
          }
        }
      ]
    },
    {
      "cell_type": "markdown",
      "source": [
        "Maximum of the apps are rated around 4 to 4.5"
      ],
      "metadata": {
        "id": "M4rAtK8w0UZc"
      }
    },
    {
      "cell_type": "markdown",
      "source": [
        "###2.Relationship Analysis"
      ],
      "metadata": {
        "id": "5dj1DjUABU9o"
      }
    },
    {
      "cell_type": "code",
      "source": [
        "df_new.corr()"
      ],
      "metadata": {
        "colab": {
          "base_uri": "https://localhost:8080/",
          "height": 206
        },
        "id": "osiZQq7YBfk5",
        "outputId": "b699e719-a8a9-4cba-9828-222c149bccd1"
      },
      "execution_count": 29,
      "outputs": [
        {
          "output_type": "execute_result",
          "data": {
            "text/plain": [
              "            Rating   Reviews      Size  Installs     Price\n",
              "Rating    1.000000  0.055304  0.057262  0.040464 -0.019678\n",
              "Reviews   0.055304  1.000000  0.075486  0.625151 -0.007607\n",
              "Size      0.057262  0.075486  1.000000  0.040682 -0.021618\n",
              "Installs  0.040464  0.625151  0.040682  1.000000 -0.009417\n",
              "Price    -0.019678 -0.007607 -0.021618 -0.009417  1.000000"
            ],
            "text/html": [
              "\n",
              "  <div id=\"df-f188748e-6bb0-49e1-b021-8e9517511db1\">\n",
              "    <div class=\"colab-df-container\">\n",
              "      <div>\n",
              "<style scoped>\n",
              "    .dataframe tbody tr th:only-of-type {\n",
              "        vertical-align: middle;\n",
              "    }\n",
              "\n",
              "    .dataframe tbody tr th {\n",
              "        vertical-align: top;\n",
              "    }\n",
              "\n",
              "    .dataframe thead th {\n",
              "        text-align: right;\n",
              "    }\n",
              "</style>\n",
              "<table border=\"1\" class=\"dataframe\">\n",
              "  <thead>\n",
              "    <tr style=\"text-align: right;\">\n",
              "      <th></th>\n",
              "      <th>Rating</th>\n",
              "      <th>Reviews</th>\n",
              "      <th>Size</th>\n",
              "      <th>Installs</th>\n",
              "      <th>Price</th>\n",
              "    </tr>\n",
              "  </thead>\n",
              "  <tbody>\n",
              "    <tr>\n",
              "      <th>Rating</th>\n",
              "      <td>1.000000</td>\n",
              "      <td>0.055304</td>\n",
              "      <td>0.057262</td>\n",
              "      <td>0.040464</td>\n",
              "      <td>-0.019678</td>\n",
              "    </tr>\n",
              "    <tr>\n",
              "      <th>Reviews</th>\n",
              "      <td>0.055304</td>\n",
              "      <td>1.000000</td>\n",
              "      <td>0.075486</td>\n",
              "      <td>0.625151</td>\n",
              "      <td>-0.007607</td>\n",
              "    </tr>\n",
              "    <tr>\n",
              "      <th>Size</th>\n",
              "      <td>0.057262</td>\n",
              "      <td>0.075486</td>\n",
              "      <td>1.000000</td>\n",
              "      <td>0.040682</td>\n",
              "      <td>-0.021618</td>\n",
              "    </tr>\n",
              "    <tr>\n",
              "      <th>Installs</th>\n",
              "      <td>0.040464</td>\n",
              "      <td>0.625151</td>\n",
              "      <td>0.040682</td>\n",
              "      <td>1.000000</td>\n",
              "      <td>-0.009417</td>\n",
              "    </tr>\n",
              "    <tr>\n",
              "      <th>Price</th>\n",
              "      <td>-0.019678</td>\n",
              "      <td>-0.007607</td>\n",
              "      <td>-0.021618</td>\n",
              "      <td>-0.009417</td>\n",
              "      <td>1.000000</td>\n",
              "    </tr>\n",
              "  </tbody>\n",
              "</table>\n",
              "</div>\n",
              "      <button class=\"colab-df-convert\" onclick=\"convertToInteractive('df-f188748e-6bb0-49e1-b021-8e9517511db1')\"\n",
              "              title=\"Convert this dataframe to an interactive table.\"\n",
              "              style=\"display:none;\">\n",
              "        \n",
              "  <svg xmlns=\"http://www.w3.org/2000/svg\" height=\"24px\"viewBox=\"0 0 24 24\"\n",
              "       width=\"24px\">\n",
              "    <path d=\"M0 0h24v24H0V0z\" fill=\"none\"/>\n",
              "    <path d=\"M18.56 5.44l.94 2.06.94-2.06 2.06-.94-2.06-.94-.94-2.06-.94 2.06-2.06.94zm-11 1L8.5 8.5l.94-2.06 2.06-.94-2.06-.94L8.5 2.5l-.94 2.06-2.06.94zm10 10l.94 2.06.94-2.06 2.06-.94-2.06-.94-.94-2.06-.94 2.06-2.06.94z\"/><path d=\"M17.41 7.96l-1.37-1.37c-.4-.4-.92-.59-1.43-.59-.52 0-1.04.2-1.43.59L10.3 9.45l-7.72 7.72c-.78.78-.78 2.05 0 2.83L4 21.41c.39.39.9.59 1.41.59.51 0 1.02-.2 1.41-.59l7.78-7.78 2.81-2.81c.8-.78.8-2.07 0-2.86zM5.41 20L4 18.59l7.72-7.72 1.47 1.35L5.41 20z\"/>\n",
              "  </svg>\n",
              "      </button>\n",
              "      \n",
              "  <style>\n",
              "    .colab-df-container {\n",
              "      display:flex;\n",
              "      flex-wrap:wrap;\n",
              "      gap: 12px;\n",
              "    }\n",
              "\n",
              "    .colab-df-convert {\n",
              "      background-color: #E8F0FE;\n",
              "      border: none;\n",
              "      border-radius: 50%;\n",
              "      cursor: pointer;\n",
              "      display: none;\n",
              "      fill: #1967D2;\n",
              "      height: 32px;\n",
              "      padding: 0 0 0 0;\n",
              "      width: 32px;\n",
              "    }\n",
              "\n",
              "    .colab-df-convert:hover {\n",
              "      background-color: #E2EBFA;\n",
              "      box-shadow: 0px 1px 2px rgba(60, 64, 67, 0.3), 0px 1px 3px 1px rgba(60, 64, 67, 0.15);\n",
              "      fill: #174EA6;\n",
              "    }\n",
              "\n",
              "    [theme=dark] .colab-df-convert {\n",
              "      background-color: #3B4455;\n",
              "      fill: #D2E3FC;\n",
              "    }\n",
              "\n",
              "    [theme=dark] .colab-df-convert:hover {\n",
              "      background-color: #434B5C;\n",
              "      box-shadow: 0px 1px 3px 1px rgba(0, 0, 0, 0.15);\n",
              "      filter: drop-shadow(0px 1px 2px rgba(0, 0, 0, 0.3));\n",
              "      fill: #FFFFFF;\n",
              "    }\n",
              "  </style>\n",
              "\n",
              "      <script>\n",
              "        const buttonEl =\n",
              "          document.querySelector('#df-f188748e-6bb0-49e1-b021-8e9517511db1 button.colab-df-convert');\n",
              "        buttonEl.style.display =\n",
              "          google.colab.kernel.accessAllowed ? 'block' : 'none';\n",
              "\n",
              "        async function convertToInteractive(key) {\n",
              "          const element = document.querySelector('#df-f188748e-6bb0-49e1-b021-8e9517511db1');\n",
              "          const dataTable =\n",
              "            await google.colab.kernel.invokeFunction('convertToInteractive',\n",
              "                                                     [key], {});\n",
              "          if (!dataTable) return;\n",
              "\n",
              "          const docLinkHtml = 'Like what you see? Visit the ' +\n",
              "            '<a target=\"_blank\" href=https://colab.research.google.com/notebooks/data_table.ipynb>data table notebook</a>'\n",
              "            + ' to learn more about interactive tables.';\n",
              "          element.innerHTML = '';\n",
              "          dataTable['output_type'] = 'display_data';\n",
              "          await google.colab.output.renderOutput(dataTable, element);\n",
              "          const docLink = document.createElement('div');\n",
              "          docLink.innerHTML = docLinkHtml;\n",
              "          element.appendChild(docLink);\n",
              "        }\n",
              "      </script>\n",
              "    </div>\n",
              "  </div>\n",
              "  "
            ]
          },
          "metadata": {},
          "execution_count": 29
        }
      ]
    },
    {
      "cell_type": "code",
      "source": [
        "plt.figure(figsize=(8,6))\n",
        "sns.heatmap(df_new.corr(),cmap=\"YlGnBu\",annot=True)\n",
        "plt.show()"
      ],
      "metadata": {
        "colab": {
          "base_uri": "https://localhost:8080/",
          "height": 378
        },
        "id": "Xn8tH3kSBwrY",
        "outputId": "a2916f3d-5f10-4c7e-e958-08e5eafa136d"
      },
      "execution_count": 30,
      "outputs": [
        {
          "output_type": "display_data",
          "data": {
            "text/plain": [
              "<Figure size 576x432 with 2 Axes>"
            ],
            "image/png": "[encoded data removed]"
          },
          "metadata": {
            "needs_background": "light"
          }
        }
      ]
    },
    {
      "cell_type": "markdown",
      "source": [
        "Most of them columns are correlated negatively with Price column"
      ],
      "metadata": {
        "id": "6WXJNGRi0Fmj"
      }
    },
    {
      "cell_type": "code",
      "source": [
        "sns.pairplot(df_new,hue='Type')"
      ],
      "metadata": {
        "id": "yU7kphcTDo2Z"
      },
      "execution_count": null,
      "outputs": []
    },
    {
      "cell_type": "markdown",
      "source": [
        "###3.Corelations in Genres and Installs with types"
      ],
      "metadata": {
        "id": "qq70ynov3Th9"
      }
    },
    {
      "cell_type": "code",
      "source": [
        "plt.figure(figsize=(25,5))\n",
        "sns.scatterplot(df_new['Genres'], df_new['Installs'],hue=df_new['Type']) \n",
        "plt.xticks(rotation=90)\n",
        "plt.show()"
      ],
      "metadata": {
        "id": "ojIFYCblxt7E"
      },
      "execution_count": null,
      "outputs": []
    },
    {
      "cell_type": "markdown",
      "source": [
        "###4.Paid app price distribution with catagory wise"
      ],
      "metadata": {
        "id": "hOYuc2wbBjO9"
      }
    },
    {
      "cell_type": "code",
      "source": [
        "paid_apps = df_new[df_new['Type']=='Paid']\n",
        "plt.figure(figsize=(10,7))\n",
        "sns.scatterplot(data=paid_apps,y='Category',x='Price')\n",
        "plt.show()"
      ],
      "metadata": {
        "id": "AxDkOBi21aaU"
      },
      "execution_count": null,
      "outputs": []
    },
    {
      "cell_type": "code",
      "source": [
        "paid_apps[paid_apps['Price']>=50]['Category'].value_counts().plot(kind='bar') #Apps price above 50$"
      ],
      "metadata": {
        "id": "QdYi70ybC_eP"
      },
      "execution_count": null,
      "outputs": []
    },
    {
      "cell_type": "markdown",
      "source": [
        "Most of the apps in paid section are Family and Medical."
      ],
      "metadata": {
        "id": "ag-Q8AMoDSqh"
      }
    },
    {
      "cell_type": "markdown",
      "source": [
        "###5.Total Number of Apps based on Type (Paid/Free)."
      ],
      "metadata": {
        "id": "2FnggEkMRDwC"
      }
    },
    {
      "cell_type": "code",
      "source": [
        "labels =df_new['Type'].value_counts(sort = True).index\n",
        "plt.figure(figsize=(6,6))\n",
        "plt.pie(df_new['Type'].value_counts(),labels=labels,autopct='%1.1f%%')\n",
        "plt.legend()\n",
        "plt.show()"
      ],
      "metadata": {
        "id": "F78g8Sc2RPA4"
      },
      "execution_count": null,
      "outputs": []
    },
    {
      "cell_type": "markdown",
      "source": [
        "### 6.Rating vs content rating"
      ],
      "metadata": {
        "id": "1ho5QmYHUpZn"
      }
    },
    {
      "cell_type": "code",
      "source": [
        "df_new.groupby(['Content Rating'])['Rating'].count().plot.bar(color=\"red\")"
      ],
      "metadata": {
        "id": "bgYer-pfU4jv"
      },
      "execution_count": null,
      "outputs": []
    },
    {
      "cell_type": "markdown",
      "source": [
        "###7.Corelation of size on rating"
      ],
      "metadata": {
        "id": "sc1Tby_0HIYG"
      }
    },
    {
      "cell_type": "code",
      "source": [
        "sns.jointplot(data=df_new,y='Size',x='Rating')"
      ],
      "metadata": {
        "id": "PeDvL-0fFIf-"
      },
      "execution_count": null,
      "outputs": []
    },
    {
      "cell_type": "markdown",
      "source": [
        "co-relation between Size,Rating,There is increase in rating when there is increse in Size,but for as the size incresed there is constant ratings.\n"
      ],
      "metadata": {
        "id": "TUjXC7b9GXse"
      }
    },
    {
      "cell_type": "markdown",
      "source": [
        "#Conclusion:\n",
        "The objective of this Play store Data analysis is to know how different parameters can affect the app ratings and reviews and understand how these can impact the Play store app industry as a whole. So we can conclude that:\n",
        "\n",
        "1.Users mostly prefer the free apps. App size does not affect the decision of   using the paid or free apps much.\n",
        "\n",
        "The apps which have the higher rating above 4 are targeting all the people and not a certain age group.\n",
        "\n",
        "On average the application size is in between 10 MB to 20 MB.\n",
        "Family & Medical category Apps have the highest earning.\n",
        "Also at the same time Medical, Family, Tools, Game category apps are the most expensive apps which is clearly visible because these categories of the application market have the most invested money and indeed these are the right categories to make best profits.\n",
        "Customer ratings actually effect the category to release an app in that category.\n",
        "We can see that most positive sentiment reviews are from most polupar categories.\n",
        "Positive reviews are higher than negative and neutral sentiment reviews."
      ],
      "metadata": {
        "id": "bjH1YSpNP8dH"
      }
    },
    {
      "cell_type": "markdown",
      "source": [
        "\n",
        "# **The Play Store apps data has enormous potential to drive app-making businesses to success. Actionable insights can be drawn for developers to work on and capture the Android market.**\n",
        "# **Each app (row) has values for catergory, rating, size, and more. Another dataset contains customer reviews of the android apps.**\n",
        "# **Explore and analyze the data to discover key factors responsible for app engagement and success.**\n",
        "\n",
        "I did my best to follow a comprehensive, but not exhaustive, analysis of the data. I'm far from reporting a rigorous study in this kernel, but I hope that it can be useful for the community, so I'm sharing how I applied some of those data analysis principles to this problem."
      ],
      "metadata": {
        "id": "hWVCO6pwbwC1"
      }
    },
    {
      "cell_type": "code",
      "source": [
        "from google.colab import drive\n",
        "drive.mount('/content/drive')"
      ],
      "metadata": {
        "id": "Vl0HijbwC_X1"
      },
      "execution_count": null,
      "outputs": []
    },
    {
      "cell_type": "markdown",
      "source": [
        "## Importing Libraries"
      ],
      "metadata": {
        "id": "wvTFF4vB89Eg"
      }
    },
    {
      "cell_type": "code",
      "execution_count": null,
      "metadata": {
        "id": "zL8npMxdau2o"
      },
      "outputs": [],
      "source": [
        "import pandas as pd\n",
        "import numpy as np \n",
        "import matplotlib.pyplot as plt\n",
        "import seaborn as sns \n",
        "%matplotlib inline\n"
      ]
    },
    {
      "cell_type": "code",
      "source": [
        "import warnings\n",
        "warnings.filterwarnings(\"ignore\")"
      ],
      "metadata": {
        "id": "DaOnrVcFddTq"
      },
      "execution_count": null,
      "outputs": []
    },
    {
      "cell_type": "markdown",
      "source": [
        "## Importing the dataset"
      ],
      "metadata": {
        "id": "7jGaCM74nF_D"
      }
    },
    {
      "cell_type": "code",
      "source": [
        "playdf = pd.read_csv(\"/content/drive/MyDrive/ eda project 1/playstore original/Play Store Data.csv\")"
      ],
      "metadata": {
        "id": "nPb8LnAFdIkc"
      },
      "execution_count": null,
      "outputs": []
    },
    {
      "cell_type": "markdown",
      "source": [
        "## Checking what columns are there in the dataset"
      ],
      "metadata": {
        "id": "fcV3EEMF9q6a"
      }
    },
    {
      "cell_type": "code",
      "source": [
        "playdf.columns"
      ],
      "metadata": {
        "id": "iTCut6e80iYT"
      },
      "execution_count": null,
      "outputs": []
    },
    {
      "cell_type": "markdown",
      "source": [
        "## Data Overview"
      ],
      "metadata": {
        "id": "r5JGt11H9mKD"
      }
    },
    {
      "cell_type": "code",
      "source": [
        "playdf.head(5)"
      ],
      "metadata": {
        "id": "vAyXT6XnepWu"
      },
      "execution_count": null,
      "outputs": []
    },
    {
      "cell_type": "markdown",
      "source": [
        "Descriptive statistics"
      ],
      "metadata": {
        "id": "UNSp2318-2MC"
      }
    },
    {
      "cell_type": "code",
      "source": [
        "playdf.describe()"
      ],
      "metadata": {
        "id": "5loMte1iexa2"
      },
      "execution_count": null,
      "outputs": []
    },
    {
      "cell_type": "code",
      "source": [
        "playdf.describe(include='O').T"
      ],
      "metadata": {
        "id": "Vw42cgEgJHHv"
      },
      "execution_count": null,
      "outputs": []
    },
    {
      "cell_type": "code",
      "source": [
        "playdf.info()"
      ],
      "metadata": {
        "id": "YOIcH6oTe3wr"
      },
      "execution_count": null,
      "outputs": []
    },
    {
      "cell_type": "markdown",
      "source": [
        "###All features are object data type except rating"
      ],
      "metadata": {
        "id": "T3clpBpL99oW"
      }
    },
    {
      "cell_type": "markdown",
      "source": [
        "## Converting Rating,Reviews,Size,Installs and Price columns into 'int' dtype "
      ],
      "metadata": {
        "id": "ntP-83MfoQPt"
      }
    },
    {
      "cell_type": "code",
      "source": [
        "playdf.isnull().sum()"
      ],
      "metadata": {
        "id": "hBImbWG1fF0Y"
      },
      "execution_count": null,
      "outputs": []
    },
    {
      "cell_type": "markdown",
      "source": [
        "'Rating' contains 1474 null values "
      ],
      "metadata": {
        "id": "-UfG_A2Wr_Bs"
      }
    },
    {
      "cell_type": "code",
      "source": [
        "playdf['App'].duplicated().value_counts()"
      ],
      "metadata": {
        "id": "RAcYTMjB0PS-"
      },
      "execution_count": null,
      "outputs": []
    },
    {
      "cell_type": "markdown",
      "source": [
        "1181 Apps are duplicated entries in the dataset"
      ],
      "metadata": {
        "id": "QWOl9XUqslz5"
      }
    },
    {
      "cell_type": "markdown",
      "source": [
        "# **Data Cleaning**"
      ],
      "metadata": {
        "id": "yv_OlXbGs7DG"
      }
    },
    {
      "cell_type": "markdown",
      "source": [
        "## Droping the duplicates"
      ],
      "metadata": {
        "id": "qAsqKmCIFL2w"
      }
    },
    {
      "cell_type": "code",
      "source": [
        "playdf=playdf.drop_duplicates('App')"
      ],
      "metadata": {
        "id": "GJSPULJDK11v"
      },
      "execution_count": null,
      "outputs": []
    },
    {
      "cell_type": "code",
      "source": [
        "playdf.shape"
      ],
      "metadata": {
        "id": "lIHkAvfwK1yQ"
      },
      "execution_count": null,
      "outputs": []
    },
    {
      "cell_type": "markdown",
      "source": [
        "All duplicates values are removed from 'App' column"
      ],
      "metadata": {
        "id": "diWxyyR8Nltd"
      }
    },
    {
      "cell_type": "code",
      "source": [
        "playdf.isna().sum()"
      ],
      "metadata": {
        "id": "QdSaHArFeM6K"
      },
      "execution_count": null,
      "outputs": []
    },
    {
      "cell_type": "code",
      "source": [
        "#For minimize the lossing data we fill the null values in (Rating) column by mean through catagory wise.\n",
        "playdf['Rating'].fillna(playdf.groupby('Category')['Rating'].transform('mean'),inplace=True)     "
      ],
      "metadata": {
        "id": "5KnLxAy2eMqK"
      },
      "execution_count": null,
      "outputs": []
    },
    {
      "cell_type": "code",
      "source": [
        "playdf.isna().sum()"
      ],
      "metadata": {
        "id": "_SVe9GKaeMmJ"
      },
      "execution_count": null,
      "outputs": []
    },
    {
      "cell_type": "markdown",
      "source": [
        "###Dropping other null rows"
      ],
      "metadata": {
        "id": "5VWTOs02bi0M"
      }
    },
    {
      "cell_type": "code",
      "source": [
        "playdf.dropna(inplace=True)"
      ],
      "metadata": {
        "id": "GpVXgnhxe8-J"
      },
      "execution_count": null,
      "outputs": []
    },
    {
      "cell_type": "code",
      "source": [
        "playdf.isna().sum()"
      ],
      "metadata": {
        "id": "Zngl4WuWe86U"
      },
      "execution_count": null,
      "outputs": []
    },
    {
      "cell_type": "markdown",
      "source": [
        "## correcting the data types\n",
        "### Which all variables need to be brought to numeric types?\n",
        "### Installs\n",
        "### size\n",
        "### Reviews\n",
        "### Price"
      ],
      "metadata": {
        "id": "5dHtk22LcVsG"
      }
    },
    {
      "cell_type": "markdown",
      "source": [
        "\n",
        "### Convert Reviews column to numaric"
      ],
      "metadata": {
        "id": "SY7ntJ5LNsDj"
      }
    },
    {
      "cell_type": "code",
      "source": [
        "playdf['Reviews']=playdf['Reviews'].astype(int)                   # converting into int dtype"
      ],
      "metadata": {
        "id": "FMfXHOdsMQ9r"
      },
      "execution_count": null,
      "outputs": []
    },
    {
      "cell_type": "code",
      "source": [
        "playdf['Reviews'].dtype"
      ],
      "metadata": {
        "id": "AFfVlFJEWKcA"
      },
      "execution_count": null,
      "outputs": []
    },
    {
      "cell_type": "markdown",
      "source": [
        "###Convert 'Size' column to float type and all values in Megabytes \n",
        "\n"
      ],
      "metadata": {
        "id": "y8oKWbwHO0Z6"
      }
    },
    {
      "cell_type": "code",
      "source": [
        "playdf['Size'].unique()                              # Values contains M or k at the end as Megabytes or kilobytes resp.\n",
        "                                                     #Some value contains 'Varies with devices' '"
      ],
      "metadata": {
        "id": "EioCbsvoNNLe"
      },
      "execution_count": null,
      "outputs": []
    },
    {
      "cell_type": "code",
      "source": [
        "playdf['Size'].replace('Varies with device',np.nan, inplace=True)             # converting 'Varies with device' value to Null value"
      ],
      "metadata": {
        "id": "tHgTeeq_Shou"
      },
      "execution_count": null,
      "outputs": []
    },
    {
      "cell_type": "code",
      "source": [
        "playdf['Size']=playdf['Size'].apply(lambda x:str(x).replace('M',''))\n",
        "playdf['Size']=playdf['Size'].apply(lambda x:str(x).replace('k','e-3'))       # replacing k(kilobytes) into Megabytes format "
      ],
      "metadata": {
        "id": "5S-u2FvMNNGQ"
      },
      "execution_count": null,
      "outputs": []
    },
    {
      "cell_type": "code",
      "source": [
        "playdf['Size'].shape"
      ],
      "metadata": {
        "id": "7-PrmRZvRmw_"
      },
      "execution_count": null,
      "outputs": []
    },
    {
      "cell_type": "code",
      "source": [
        "playdf['Size']=playdf['Size'].astype(float)"
      ],
      "metadata": {
        "id": "aZJVygMFcPDF"
      },
      "execution_count": null,
      "outputs": []
    },
    {
      "cell_type": "code",
      "source": [
        "playdf['Size'].dtype"
      ],
      "metadata": {
        "id": "apvbWuJoWCAr"
      },
      "execution_count": null,
      "outputs": []
    },
    {
      "cell_type": "code",
      "source": [
        "playdf['Size'].fillna(playdf.groupby('Category')['Size'].transform('mean'), inplace=True)"
      ],
      "metadata": {
        "id": "HgP2OWi8qtks"
      },
      "execution_count": null,
      "outputs": []
    },
    {
      "cell_type": "markdown",
      "source": [
        "Conversion of 'Installs' column from object dtype to numerical dtype"
      ],
      "metadata": {
        "id": "IyKuTlHuUaIp"
      }
    },
    {
      "cell_type": "code",
      "source": [
        "playdf['Installs']"
      ],
      "metadata": {
        "id": "ip1yMmSISe8E"
      },
      "execution_count": null,
      "outputs": []
    },
    {
      "cell_type": "code",
      "source": [
        "playdf['Installs']=playdf['Installs'].apply(lambda x:x.replace('+',''))\n",
        "playdf['Installs']=playdf['Installs'].apply(lambda x:x.replace(',',''))"
      ],
      "metadata": {
        "id": "bqDBDlgoRlxA"
      },
      "execution_count": null,
      "outputs": []
    },
    {
      "cell_type": "code",
      "source": [
        "playdf['Installs']=playdf['Installs'].astype(int)                   # converting into int dtype"
      ],
      "metadata": {
        "id": "8BSHWeZYRlto"
      },
      "execution_count": null,
      "outputs": []
    },
    {
      "cell_type": "code",
      "source": [
        "playdf['Installs'].dtype"
      ],
      "metadata": {
        "id": "dwfi5_k7VkBY"
      },
      "execution_count": null,
      "outputs": []
    },
    {
      "cell_type": "code",
      "source": [
        "#Removing rows in which Reviews is greater than Installs. \n",
        "\n",
        "conditions = [    playdf['Reviews']>playdf['Installs'],                \n",
        "                  playdf['Reviews']<=playdf['Installs']          ]\n",
        "\n",
        "choice = ['Remove', 'Keep']\n",
        "\n",
        "playdf['Decision'] = np.select(conditions, choice)"
      ],
      "metadata": {
        "id": "NAzrf-cWV10A"
      },
      "execution_count": null,
      "outputs": []
    },
    {
      "cell_type": "code",
      "source": [
        "playdf['Decision'].value_counts()"
      ],
      "metadata": {
        "id": "Ng0-AhrtV1iT"
      },
      "execution_count": null,
      "outputs": []
    },
    {
      "cell_type": "code",
      "source": [
        "playdf.shape"
      ],
      "metadata": {
        "id": "_UM1QCoxV1fO"
      },
      "execution_count": null,
      "outputs": []
    },
    {
      "cell_type": "code",
      "source": [
        "playdf['Price']=playdf['Price'].apply(lambda x:x.replace('$',''))         # converting dtype of 'Price' from object to numerical."
      ],
      "metadata": {
        "id": "U3nT4UkSsTDi"
      },
      "execution_count": null,
      "outputs": []
    },
    {
      "cell_type": "code",
      "source": [
        "playdf['Price'].astype(float)"
      ],
      "metadata": {
        "id": "aTZcR1GcsmZ6"
      },
      "execution_count": null,
      "outputs": []
    },
    {
      "cell_type": "code",
      "source": [
        "playdf['Price']=playdf['Price'].astype(float)\n"
      ],
      "metadata": {
        "id": "QVtwlcdgtKYt"
      },
      "execution_count": null,
      "outputs": []
    },
    {
      "cell_type": "code",
      "source": [
        "playdf.isna().sum()"
      ],
      "metadata": {
        "id": "idWXuPlCqKos"
      },
      "execution_count": null,
      "outputs": []
    },
    {
      "cell_type": "code",
      "source": [
        "playdf.info()"
      ],
      "metadata": {
        "id": "Fov441UXtbz4"
      },
      "execution_count": null,
      "outputs": []
    },
    {
      "cell_type": "markdown",
      "source": [
        "Now we have five numerical dtype columns such as 'Rating ,Reviews, Size, Installs and Price'\n",
        "\n",
        "\n",
        "---\n",
        "\n"
      ],
      "metadata": {
        "id": "QrmfjR2EWiEZ"
      }
    },
    {
      "cell_type": "markdown",
      "source": [
        "# Data Visulisation for Basic EDA"
      ],
      "metadata": {
        "id": "Mz-AmbOmLoXi"
      }
    },
    {
      "cell_type": "markdown",
      "source": [
        "## Relationship Analysis"
      ],
      "metadata": {
        "id": "K39siPUhedWL"
      }
    },
    {
      "cell_type": "code",
      "source": [
        "plt.figure(figsize=(6,6))\n",
        "sns.pairplot(playdf,hue=\"Type\")"
      ],
      "metadata": {
        "id": "zz3Fbu5AWeGG"
      },
      "execution_count": null,
      "outputs": []
    },
    {
      "cell_type": "code",
      "source": [
        "plt.figure(figsize=(8,6))\n",
        "sns.heatmap(playdf.corr(),annot=True,linewidths=0.8,cmap=\"YlGnBu\")\n",
        "plt.show()"
      ],
      "metadata": {
        "id": "5R3qCCdiMiK-"
      },
      "execution_count": null,
      "outputs": []
    },
    {
      "cell_type": "markdown",
      "source": [
        "  What we got:\n",
        "\n",
        "  1. We can see that 'Rating' and 'Reviews' are highly positive correlated.\n",
        "  2. 'Installs' and 'Size' are also correlated positive.\n",
        "  3. Most of the columns are negative correlated with 'Price' column"
      ],
      "metadata": {
        "id": "IFkrmwrmYTYp"
      }
    },
    {
      "cell_type": "markdown",
      "source": [
        "**Content Rating**"
      ],
      "metadata": {
        "id": "XNVUUQpBavmI"
      }
    },
    {
      "cell_type": "code",
      "source": [
        "plt.figure(figsize=(8,5))\n",
        "playdf['Content Rating'].value_counts().plot(kind='bar')\n",
        "print(playdf['Content Rating'].value_counts())"
      ],
      "metadata": {
        "id": "j795ICxDRSo4"
      },
      "execution_count": null,
      "outputs": []
    },
    {
      "cell_type": "markdown",
      "source": [
        "      Most of the apps are rated \"Everyone\".Only fews are rated for \"Adults ony 18+\" and \"Unrated\""
      ],
      "metadata": {
        "id": "yKPJbBHLb-bd"
      }
    },
    {
      "cell_type": "markdown",
      "source": [
        "**Categories**"
      ],
      "metadata": {
        "id": "VoBGIulfclmA"
      }
    },
    {
      "cell_type": "code",
      "source": [
        "plt.figure(figsize=(10,5))\n",
        "sns.countplot(playdf['Category'])\n",
        "plt.xticks(rotation=90)\n",
        "plt.show()"
      ],
      "metadata": {
        "id": "2KNG71sYbXj6"
      },
      "execution_count": null,
      "outputs": []
    },
    {
      "cell_type": "markdown",
      "source": [
        "Majority of the apps are in Family category"
      ],
      "metadata": {
        "id": "5JhtstgSdcz3"
      }
    },
    {
      "cell_type": "code",
      "source": [
        "sns.countplot(x=playdf['Category'],order=pd.value_counts(playdf['Category']).iloc[:5].index)"
      ],
      "metadata": {
        "id": "yZAfJPaQdRfW"
      },
      "execution_count": null,
      "outputs": []
    },
    {
      "cell_type": "markdown",
      "source": [
        "        Top 5 Categories are:\n",
        "\n",
        "        1. Family\n",
        "        2. Game\n",
        "        3. Tools\n",
        "        4. Business\n",
        "        5. Medical"
      ],
      "metadata": {
        "id": "ONeNxS5zeLIA"
      }
    },
    {
      "cell_type": "markdown",
      "source": [
        "### Total Number of Apps based on Type (Paid/Free)."
      ],
      "metadata": {
        "id": "IbQ-vmFy3Ae-"
      }
    },
    {
      "cell_type": "code",
      "source": [
        "labels=playdf['Type'].value_counts(sort=True).index\n",
        "plt.figure(figsize=(6,6))\n",
        "plt.pie(playdf['Type'].value_counts(),labels=labels,autopct='%1.1f%%')\n",
        "plt.legend()\n",
        "plt.show()"
      ],
      "metadata": {
        "id": "kaj8rx72d6c8"
      },
      "execution_count": null,
      "outputs": []
    },
    {
      "cell_type": "markdown",
      "source": [
        "###Paid app price distribution with catagory wise \n",
        "\n",
        "\n"
      ],
      "metadata": {
        "id": "TJkHBOyp7ysY"
      }
    },
    {
      "cell_type": "code",
      "source": [
        "paid_apps=playdf[playdf['Type']=='Paid']"
      ],
      "metadata": {
        "id": "pBxct1MS6MC-"
      },
      "execution_count": null,
      "outputs": []
    },
    {
      "cell_type": "code",
      "source": [
        "playdf['Category']"
      ],
      "metadata": {
        "id": "Xg354Lwd_8AN"
      },
      "execution_count": null,
      "outputs": []
    },
    {
      "cell_type": "code",
      "source": [
        "plt.figure(figsize=(10,7))\n",
        "sns.scatterplot(data=paid_apps,x=playdf['Price'],y=playdf['Category'])\n",
        "plt.show()"
      ],
      "metadata": {
        "id": "f0pzTg_S8tal"
      },
      "execution_count": null,
      "outputs": []
    },
    {
      "cell_type": "markdown",
      "source": [
        "    Family and Medical have the most paid apps."
      ],
      "metadata": {
        "id": "OG2-3pyNAgXX"
      }
    },
    {
      "cell_type": "code",
      "source": [
        "paid_apps['Price'].max()"
      ],
      "metadata": {
        "id": "_cqYGI_o9Pn_"
      },
      "execution_count": null,
      "outputs": []
    },
    {
      "cell_type": "code",
      "source": [
        "paid_apps[paid_apps['Price']==400]"
      ],
      "metadata": {
        "id": "HL15IPQ0SEHi"
      },
      "execution_count": null,
      "outputs": []
    },
    {
      "cell_type": "markdown",
      "source": [
        "    The 'I'm Rich - Trump Edition' app is found to be the highest paid app."
      ],
      "metadata": {
        "id": "PgQYthiCTo6v"
      }
    },
    {
      "cell_type": "code",
      "source": [
        "paid_apps['Installs'].max()"
      ],
      "metadata": {
        "id": "JEUvmY8VUVEd"
      },
      "execution_count": null,
      "outputs": []
    },
    {
      "cell_type": "code",
      "source": [
        "paid_apps[paid_apps['Installs']==10000000]"
      ],
      "metadata": {
        "id": "yRwbF7J7THiV"
      },
      "execution_count": null,
      "outputs": []
    },
    {
      "cell_type": "markdown",
      "source": [
        "    Minecraft and Hitman Sniper are the most downloaded paid apps "
      ],
      "metadata": {
        "id": "gryaCgsCUlNe"
      }
    },
    {
      "cell_type": "markdown",
      "source": [
        "**Rating**"
      ],
      "metadata": {
        "id": "ttBUGyF0VUMw"
      }
    },
    {
      "cell_type": "code",
      "source": [
        "plt.figure(figsize=(12,6))\n",
        "plt.title('Rating Distributions',size = 18)\n",
        "sns.distplot(playdf['Rating'],color='green')\n",
        "plt.xlim(0,7.5)\n",
        "plt.show()"
      ],
      "metadata": {
        "id": "HFq-YGFiWpaf"
      },
      "execution_count": null,
      "outputs": []
    },
    {
      "cell_type": "markdown",
      "source": [
        "Maximum of the apps are rated around 4 to 4.5"
      ],
      "metadata": {
        "id": "Hr1kFJX1W1bI"
      }
    },
    {
      "cell_type": "code",
      "source": [
        "plt.figure(figsize=(10,7))\n",
        "sns.scatterplot(data=paid_apps,y=playdf['Rating'],x=playdf['Category'])\n",
        "plt.xticks(rotation=90)\n",
        "plt.show()"
      ],
      "metadata": {
        "id": "2jWf-Cr2UiDI"
      },
      "execution_count": null,
      "outputs": []
    },
    {
      "cell_type": "markdown",
      "source": [
        "    Category wise rating donot differ much"
      ],
      "metadata": {
        "id": "02vhwed7XN8g"
      }
    },
    {
      "cell_type": "markdown",
      "source": [
        "**Top 5 Categories based on Ratings (min. 15,000 downloads)**"
      ],
      "metadata": {
        "id": "adFtFYUMXkDg"
      }
    },
    {
      "cell_type": "code",
      "source": [
        "apps_with_15k=playdf[playdf['Installs']>=15000]"
      ],
      "metadata": {
        "id": "MHyDNqOcWRxe"
      },
      "execution_count": null,
      "outputs": []
    },
    {
      "cell_type": "code",
      "source": [
        "category_15k = apps_with_15k.groupby(['Category'])"
      ],
      "metadata": {
        "id": "3UvzVKFoYieW"
      },
      "execution_count": null,
      "outputs": []
    },
    {
      "cell_type": "code",
      "source": [
        "category_15k['Rating'].mean().sort_values(ascending=False).iloc[:5]"
      ],
      "metadata": {
        "id": "AkNBE7r6ZM8Q"
      },
      "execution_count": null,
      "outputs": []
    },
    {
      "cell_type": "markdown",
      "source": [
        "    So Top 5 Category based on ratings and having minimum 15k downloads are as shown above"
      ],
      "metadata": {
        "id": "npNL-H1EZpfA"
      }
    },
    {
      "cell_type": "markdown",
      "source": [
        "**Genres**"
      ],
      "metadata": {
        "id": "GsnDB_ZTZtH6"
      }
    },
    {
      "cell_type": "code",
      "source": [
        "playdf['Genres'].nunique()"
      ],
      "metadata": {
        "id": "rBL6myduaa6Z"
      },
      "execution_count": null,
      "outputs": []
    },
    {
      "cell_type": "code",
      "source": [
        "plt.figure(figsize=(10,6))\n",
        "sns.countplot(x=playdf['Genres'],order=pd.value_counts(playdf['Genres']).iloc[:10].index)\n",
        "plt.xticks(rotation=90)\n",
        "plt.show()"
      ],
      "metadata": {
        "id": "oK5x8mllaiKQ"
      },
      "execution_count": null,
      "outputs": []
    },
    {
      "cell_type": "markdown",
      "source": [
        "    Most frequent genres are Tools,Entertainment,Education"
      ],
      "metadata": {
        "id": "Wojmfz6dbvtm"
      }
    },
    {
      "cell_type": "code",
      "source": [
        "gen_15k=apps_with_15k.groupby(['Genres'])"
      ],
      "metadata": {
        "id": "VSwdth3Ab-MZ"
      },
      "execution_count": null,
      "outputs": []
    },
    {
      "cell_type": "code",
      "source": [
        "gen_15k['Rating'].mean().sort_values(ascending=False).iloc[:5]"
      ],
      "metadata": {
        "id": "AEHizZYIcKej"
      },
      "execution_count": null,
      "outputs": []
    },
    {
      "cell_type": "markdown",
      "source": [
        "    Comics;Creativity is the highest rated genre followed by Health & Fitness;Education and Books & Reference"
      ],
      "metadata": {
        "id": "Cs_ZO_TdcvcE"
      }
    },
    {
      "cell_type": "markdown",
      "source": [
        "**Android Version**"
      ],
      "metadata": {
        "id": "HPOrUOMydBfb"
      }
    },
    {
      "cell_type": "code",
      "source": [
        "plt.figure(figsize=(5,5))\n",
        "sns.countplot(y=playdf['Android Ver'],order=pd.value_counts(playdf['Android Ver']).iloc[:10].index)\n",
        "plt.xticks(rotation=90)\n",
        "plt.show()"
      ],
      "metadata": {
        "id": "xfjqBxp1c3ix"
      },
      "execution_count": null,
      "outputs": []
    },
    {
      "cell_type": "markdown",
      "source": [
        "    Most of the apps are made compatible with Android version 4(Jellybean) and above"
      ],
      "metadata": {
        "id": "hqw-zalPdYgg"
      }
    },
    {
      "cell_type": "markdown",
      "source": [
        "**App Size**"
      ],
      "metadata": {
        "id": "20mtTBBNdtZ2"
      }
    },
    {
      "cell_type": "code",
      "source": [
        "plt.figure(figsize=(10,5))\n",
        "sns.distplot(playdf['Size'],color='purple')\n",
        "plt.title('App Size Distribution')\n",
        "plt.ylabel('Frequency')\n",
        "plt.show()"
      ],
      "metadata": {
        "id": "4EP0bSmHdKj3"
      },
      "execution_count": null,
      "outputs": []
    },
    {
      "cell_type": "code",
      "source": [
        "# Many of the apps lie in 0-20 mb range\n",
        "(playdf[playdf['Size']<=20].shape[0]/playdf['Size'].shape[0])*100   #Percentage calculation less than or equal to 20mb"
      ],
      "metadata": {
        "id": "3zaYO0jtd5Rk"
      },
      "execution_count": null,
      "outputs": []
    },
    {
      "cell_type": "markdown",
      "source": [
        "    Almost 65% of apps's size lies between 0-20 Mb"
      ],
      "metadata": {
        "id": "Sk9AY-cReWAp"
      }
    },
    {
      "cell_type": "markdown",
      "source": [
        "**Top Categories based on Installs(having maximum Installs and ratings)**"
      ],
      "metadata": {
        "id": "ibyLJ8Dget6f"
      }
    },
    {
      "cell_type": "code",
      "source": [
        "playdf['Installs'].max()"
      ],
      "metadata": {
        "id": "xzIiSel-eS2K"
      },
      "execution_count": null,
      "outputs": []
    },
    {
      "cell_type": "code",
      "source": [
        "most_installs=playdf[playdf['Installs']==1000000000] "
      ],
      "metadata": {
        "id": "nOhYjSp5etNi"
      },
      "execution_count": null,
      "outputs": []
    },
    {
      "cell_type": "code",
      "source": [
        "cat_download=most_installs.groupby(['Category'])"
      ],
      "metadata": {
        "id": "Ou3pt5d0fcbu"
      },
      "execution_count": null,
      "outputs": []
    },
    {
      "cell_type": "code",
      "source": [
        "cat_download['Rating'].mean().sort_values(ascending=False).iloc[:5]"
      ],
      "metadata": {
        "id": "0dp198fHgISz"
      },
      "execution_count": null,
      "outputs": []
    },
    {
      "cell_type": "markdown",
      "source": [
        "This are the Top 5 Category with maximun download and high rating"
      ],
      "metadata": {
        "id": "2pt3U4JlgmmT"
      }
    },
    {
      "cell_type": "markdown",
      "source": [
        "# **User Reviews Sentiment Analysis**"
      ],
      "metadata": {
        "id": "5rk39uHAYYuE"
      }
    },
    {
      "cell_type": "code",
      "source": [
        "reviews_data=pd.read_csv('/content/drive/MyDrive/ eda project 1/playstore original/User Reviews.csv')"
      ],
      "metadata": {
        "id": "boFgbkbTYdIk"
      },
      "execution_count": null,
      "outputs": []
    },
    {
      "cell_type": "code",
      "source": [
        "reviews_data.head()"
      ],
      "metadata": {
        "id": "lvlUXgV2Y2Xi"
      },
      "execution_count": null,
      "outputs": []
    },
    {
      "cell_type": "code",
      "source": [
        "reviews_data.info()"
      ],
      "metadata": {
        "id": "EDKH9zxsY2RK"
      },
      "execution_count": null,
      "outputs": []
    },
    {
      "cell_type": "code",
      "source": [
        "reviews_data.isna().sum() #Many null values"
      ],
      "metadata": {
        "id": "xlrkd6RiY2NN"
      },
      "execution_count": null,
      "outputs": []
    },
    {
      "cell_type": "code",
      "source": [
        "((reviews_data.isna().sum()[1])/reviews_data.shape[0])*100 # ~42% null values in 3 columns"
      ],
      "metadata": {
        "id": "mxVpIzoAY2Js"
      },
      "execution_count": null,
      "outputs": []
    },
    {
      "cell_type": "markdown",
      "source": [
        "**Merging Data**"
      ],
      "metadata": {
        "id": "kuUTR3MRZVq9"
      }
    },
    {
      "cell_type": "code",
      "source": [
        "df_merged = pd.merge(playdf, reviews_data, on = \"App\", how = \"inner\") #Merging both datasets on Apppl"
      ],
      "metadata": {
        "id": "WaXJHW-sZbDL"
      },
      "execution_count": null,
      "outputs": []
    },
    {
      "cell_type": "code",
      "source": [
        "df_merged = df_merged.dropna(subset=['Translated_Review', 'Sentiment']) #Dropping null values"
      ],
      "metadata": {
        "id": "VhsGN5MfZbPy"
      },
      "execution_count": null,
      "outputs": []
    },
    {
      "cell_type": "code",
      "source": [
        "df_merged.head()"
      ],
      "metadata": {
        "id": "S9cyH8k4ZbLT"
      },
      "execution_count": null,
      "outputs": []
    },
    {
      "cell_type": "markdown",
      "source": [
        "**Sentiment Polarity Between Free and Paid Apps**"
      ],
      "metadata": {
        "id": "nWNBL8AJZyVr"
      }
    },
    {
      "cell_type": "code",
      "source": [
        "plt.figure(figsize=(10,8))\n",
        "sns.boxplot(x='Type', y='Sentiment_Polarity', data=df_merged)\n",
        "plt.title('Sentiment Polarity Destribution')\n",
        "plt.show()"
      ],
      "metadata": {
        "id": "lBGSjj4XZr72"
      },
      "execution_count": null,
      "outputs": []
    },
    {
      "cell_type": "markdown",
      "source": [
        "    Free apps relatively recieve more negative comments(outliers on the negative Y-axis) than paid apps.\n",
        "\n",
        "  "
      ],
      "metadata": {
        "id": "hoQO2WDlZ9gq"
      }
    },
    {
      "cell_type": "markdown",
      "source": [
        "**WORKCLOUD**"
      ],
      "metadata": {
        "id": "tPN4mDjhVQzf"
      }
    },
    {
      "cell_type": "code",
      "source": [
        "from wordcloud import WordCloud,STOPWORDS"
      ],
      "metadata": {
        "id": "BQpgFFoCVOa8"
      },
      "execution_count": null,
      "outputs": []
    },
    {
      "cell_type": "code",
      "source": [
        "stopwords = set(STOPWORDS)"
      ],
      "metadata": {
        "id": "MzTS5PpvVdmU"
      },
      "execution_count": null,
      "outputs": []
    },
    {
      "cell_type": "code",
      "source": [
        "#separating the merged data into negative and positive dataframe\n",
        "negative_df = df_merged[df_merged['Sentiment']=='Negative'] \n",
        "postive_df = df_merged[df_merged['Sentiment']=='Positive']"
      ],
      "metadata": {
        "id": "fER1lomHWsVY"
      },
      "execution_count": null,
      "outputs": []
    },
    {
      "cell_type": "code",
      "source": [
        "#To generate wordcloud image fo positive reviews\n",
        "words = ''\n",
        "for s in postive_df['Translated_Review']:\n",
        "\n",
        "    s = str(s) # typecaste each val to string\n",
        "    x = s.split()# split the value\n",
        "    \n",
        "    for i in range(len(x)):# Converts each token into lowercase\n",
        "        x[i] = x[i].lower()\n",
        "     \n",
        "    words = words + \" \".join(x)+\" \"\n",
        " \n",
        "wc = WordCloud(width = 800, height = 600,\n",
        "                background_color ='black',\n",
        "                stopwords = stopwords,\n",
        "                min_font_size = 10).generate(words)\n",
        "plt.figure(figsize = (8, 8))\n",
        "plt.imshow(wc)\n",
        "plt.axis(\"off\")\n",
        "plt.tight_layout(pad = 0)\n",
        "plt.show()"
      ],
      "metadata": {
        "id": "CE8vKf4HaMWI"
      },
      "execution_count": null,
      "outputs": []
    },
    {
      "cell_type": "code",
      "source": [
        "#To generate wordcloud image for negative reviews\n",
        "words = ''\n",
        "for s in negative_df['Translated_Review']:\n",
        "\n",
        "    s = str(s) # typecaste each val to string\n",
        "    x = s.split()# split the value\n",
        "    \n",
        "    for i in range(len(x)):# Converts each token into lowercase\n",
        "        x[i] = x[i].lower()\n",
        "     \n",
        "    words = words + \" \".join(x)+\" \"\n",
        " \n",
        "wc = WordCloud(width = 800, height = 600,\n",
        "                background_color ='black',\n",
        "                stopwords = stopwords,\n",
        "                min_font_size = 10).generate(words)\n",
        "plt.figure(figsize = (8, 8), facecolor = None)\n",
        "plt.imshow(wc)\n",
        "plt.axis(\"off\")\n",
        "plt.tight_layout(pad = 0)\n",
        "plt.show()"
      ],
      "metadata": {
        "id": "OoTT8peJaQ7B"
      },
      "execution_count": null,
      "outputs": []
    },
    {
      "cell_type": "markdown",
      "source": [
        "\n",
        "**Positive Reviews**: \"great, love, thank, good\"      \n",
        "**Negative Reviews**: \"ad, update,hate,bad\""
      ],
      "metadata": {
        "id": "9rg0eamBaZzh"
      }
    },
    {
      "cell_type": "markdown",
      "source": [
        "#Conclusion:\n",
        "The objective of this Play store Data analysis is to know how different parameters can affect the app ratings and reviews and understand how these can impact the Play store app industry as a whole. So we can conclude that:\n",
        "\n",
        "1.Users mostly prefer the free apps. App size does not affect the decision of   using the paid or free apps much.\n",
        "\n",
        "The apps which have the higher rating above 4 are targeting all the people and not a certain age group.\n",
        "\n",
        "On average the application size is in between 10 MB to 20 MB.\n",
        "Family & Medical category Apps have the highest earning.\n",
        "Also at the same time Medical, Family, Tools, Game category apps are the most expensive apps which is clearly visible because these categories of the application market have the most invested money and indeed these are the right categories to make best profits.\n",
        "Customer ratings actually effect the category to release an app in that category.\n",
        "We can see that most positive sentiment reviews are from most polupar categories.\n",
        "Positive reviews are higher than negative and neutral sentiment reviews."
      ],
      "metadata": {
        "id": "u1iy3Z0fh4GV"
      }
    },
    {
      "cell_type": "markdown",
      "source": [
        "\n",
        "# **The Play Store apps data has enormous potential to drive app-making businesses to success. Actionable insights can be drawn for developers to work on and capture the Android market.**\n",
        "# **Each app (row) has values for catergory, rating, size, and more. Another dataset contains customer reviews of the android apps.**\n",
        "# **Explore and analyze the data to discover key factors responsible for app engagement and success.**\n",
        "\n",
        "I did my best to follow a comprehensive, but not exhaustive, analysis of the data. I'm far from reporting a rigorous study in this kernel, but I hope that it can be useful for the community, so I'm sharing how I applied some of those data analysis principles to this problem."
      ],
      "metadata": {
        "id": "hYSt4cpr8gaM"
      }
    },
    {
      "cell_type": "code",
      "source": [
        "from google.colab import drive\n",
        "drive.mount('/content/drive')"
      ],
      "metadata": {
        "id": "MJ1hwFAw8gaO"
      },
      "execution_count": null,
      "outputs": []
    },
    {
      "cell_type": "markdown",
      "source": [
        "## Importing Libraries"
      ],
      "metadata": {
        "id": "iScc1M2y8gaQ"
      }
    },
    {
      "cell_type": "code",
      "execution_count": null,
      "metadata": {
        "id": "QIq_p0748gaQ"
      },
      "outputs": [],
      "source": [
        "import pandas as pd\n",
        "import numpy as np \n",
        "import matplotlib.pyplot as plt\n",
        "import seaborn as sns \n",
        "%matplotlib inline\n"
      ]
    },
    {
      "cell_type": "code",
      "source": [
        "import warnings\n",
        "warnings.filterwarnings(\"ignore\")"
      ],
      "metadata": {
        "id": "PPlGvn3K8gaR"
      },
      "execution_count": null,
      "outputs": []
    },
    {
      "cell_type": "markdown",
      "source": [
        "## Importing the dataset"
      ],
      "metadata": {
        "id": "W3KgC37U8gaS"
      }
    },
    {
      "cell_type": "code",
      "source": [
        "playdf = pd.read_csv(\"/content/drive/MyDrive/ eda project 1/playstore original/Play Store Data.csv\")"
      ],
      "metadata": {
        "id": "7zCL-AvV8gaS"
      },
      "execution_count": null,
      "outputs": []
    },
    {
      "cell_type": "markdown",
      "source": [
        "## Checking what columns are there in the dataset"
      ],
      "metadata": {
        "id": "PTSoeFj28gaS"
      }
    },
    {
      "cell_type": "code",
      "source": [
        "playdf.columns"
      ],
      "metadata": {
        "id": "IyxCc7uE8gaT"
      },
      "execution_count": null,
      "outputs": []
    },
    {
      "cell_type": "markdown",
      "source": [
        "## Data Overview"
      ],
      "metadata": {
        "id": "Z404XAJn8gaU"
      }
    },
    {
      "cell_type": "code",
      "source": [
        "playdf.head(5)"
      ],
      "metadata": {
        "id": "Wi5xDQbm8gaU"
      },
      "execution_count": null,
      "outputs": []
    },
    {
      "cell_type": "markdown",
      "source": [
        "Descriptive statistics"
      ],
      "metadata": {
        "id": "7BIXcPpY8gaV"
      }
    },
    {
      "cell_type": "code",
      "source": [
        "playdf.describe()"
      ],
      "metadata": {
        "id": "s8RoSBRN8gaV"
      },
      "execution_count": null,
      "outputs": []
    },
    {
      "cell_type": "code",
      "source": [
        "playdf.describe(include='O').T"
      ],
      "metadata": {
        "id": "l-B3c7yW8gaV"
      },
      "execution_count": null,
      "outputs": []
    },
    {
      "cell_type": "code",
      "source": [
        "playdf.info()"
      ],
      "metadata": {
        "id": "ksCVJfng8gaW"
      },
      "execution_count": null,
      "outputs": []
    },
    {
      "cell_type": "markdown",
      "source": [
        "###All features are object data type except rating"
      ],
      "metadata": {
        "id": "5egWTOTZ8gaX"
      }
    },
    {
      "cell_type": "markdown",
      "source": [
        "## Converting Rating,Reviews,Size,Installs and Price columns into 'int' dtype "
      ],
      "metadata": {
        "id": "ealQOIOv8gaX"
      }
    },
    {
      "cell_type": "code",
      "source": [
        "playdf.isnull().sum()"
      ],
      "metadata": {
        "id": "ltZFGkxP8gaX"
      },
      "execution_count": null,
      "outputs": []
    },
    {
      "cell_type": "markdown",
      "source": [
        "'Rating' contains 1474 null values "
      ],
      "metadata": {
        "id": "BuP1gZ7s8gaY"
      }
    },
    {
      "cell_type": "code",
      "source": [
        "playdf['App'].duplicated().value_counts()"
      ],
      "metadata": {
        "id": "fTStDyjM8gaZ"
      },
      "execution_count": null,
      "outputs": []
    },
    {
      "cell_type": "markdown",
      "source": [
        "1181 Apps are duplicated entries in the dataset"
      ],
      "metadata": {
        "id": "cKfmE9XB8gaZ"
      }
    },
    {
      "cell_type": "markdown",
      "source": [
        "# **Data Cleaning**"
      ],
      "metadata": {
        "id": "rO31YRhE8gaa"
      }
    },
    {
      "cell_type": "markdown",
      "source": [
        "## Droping the duplicates"
      ],
      "metadata": {
        "id": "TR187mZT8gaa"
      }
    },
    {
      "cell_type": "code",
      "source": [
        "playdf=playdf.drop_duplicates('App')"
      ],
      "metadata": {
        "id": "d83RHufQ8gab"
      },
      "execution_count": null,
      "outputs": []
    },
    {
      "cell_type": "code",
      "source": [
        "playdf.shape"
      ],
      "metadata": {
        "id": "eaMkvS_g8gab"
      },
      "execution_count": null,
      "outputs": []
    },
    {
      "cell_type": "markdown",
      "source": [
        "All duplicates values are removed from 'App' column"
      ],
      "metadata": {
        "id": "_7mD8Z608gac"
      }
    },
    {
      "cell_type": "code",
      "source": [
        "playdf.isna().sum()"
      ],
      "metadata": {
        "id": "uNeMT_Mp8gac"
      },
      "execution_count": null,
      "outputs": []
    },
    {
      "cell_type": "code",
      "source": [
        "#For minimize the lossing data we fill the null values in (Rating) column by mean through catagory wise.\n",
        "playdf['Rating'].fillna(playdf.groupby('Category')['Rating'].transform('mean'),inplace=True)     "
      ],
      "metadata": {
        "id": "fil9EMLg8gad"
      },
      "execution_count": null,
      "outputs": []
    },
    {
      "cell_type": "code",
      "source": [
        "playdf.isna().sum()"
      ],
      "metadata": {
        "id": "5VHpHhVB8gad"
      },
      "execution_count": null,
      "outputs": []
    },
    {
      "cell_type": "markdown",
      "source": [
        "###Dropping other null rows"
      ],
      "metadata": {
        "id": "tD8iRn4n8gae"
      }
    },
    {
      "cell_type": "code",
      "source": [
        "playdf.dropna(inplace=True)"
      ],
      "metadata": {
        "id": "iqSgbTA48gae"
      },
      "execution_count": null,
      "outputs": []
    },
    {
      "cell_type": "code",
      "source": [
        "playdf.isna().sum()"
      ],
      "metadata": {
        "id": "5GBpS5k08gaf"
      },
      "execution_count": null,
      "outputs": []
    },
    {
      "cell_type": "markdown",
      "source": [
        "## correcting the data types\n",
        "### Which all variables need to be brought to numeric types?\n",
        "### Installs\n",
        "### size\n",
        "### Reviews\n",
        "### Price"
      ],
      "metadata": {
        "id": "4Pq4TQjW8gaf"
      }
    },
    {
      "cell_type": "markdown",
      "source": [
        "\n",
        "### Convert Reviews column to numaric"
      ],
      "metadata": {
        "id": "xCOl7pDb8gag"
      }
    },
    {
      "cell_type": "code",
      "source": [
        "playdf['Reviews']=playdf['Reviews'].astype(int)                   # converting into int dtype"
      ],
      "metadata": {
        "id": "XLfrGz3W8gag"
      },
      "execution_count": null,
      "outputs": []
    },
    {
      "cell_type": "code",
      "source": [
        "playdf['Reviews'].dtype"
      ],
      "metadata": {
        "id": "pE8WKp3W8gag"
      },
      "execution_count": null,
      "outputs": []
    },
    {
      "cell_type": "markdown",
      "source": [
        "###Convert 'Size' column to float type and all values in Megabytes \n",
        "\n"
      ],
      "metadata": {
        "id": "U1Q7evRF8gah"
      }
    },
    {
      "cell_type": "code",
      "source": [
        "playdf['Size'].unique()                              # Values contains M or k at the end as Megabytes or kilobytes resp.\n",
        "                                                     #Some value contains 'Varies with devices' '"
      ],
      "metadata": {
        "id": "09wolpQu8gah"
      },
      "execution_count": null,
      "outputs": []
    },
    {
      "cell_type": "code",
      "source": [
        "playdf['Size'].replace('Varies with device',np.nan, inplace=True)             # converting 'Varies with device' value to Null value"
      ],
      "metadata": {
        "id": "ObVQKRgH8gai"
      },
      "execution_count": null,
      "outputs": []
    },
    {
      "cell_type": "code",
      "source": [
        "playdf['Size']=playdf['Size'].apply(lambda x:str(x).replace('M',''))\n",
        "playdf['Size']=playdf['Size'].apply(lambda x:str(x).replace('k','e-3'))       # replacing k(kilobytes) into Megabytes format "
      ],
      "metadata": {
        "id": "p-E4kKkW8gaj"
      },
      "execution_count": null,
      "outputs": []
    },
    {
      "cell_type": "code",
      "source": [
        "playdf['Size'].shape"
      ],
      "metadata": {
        "id": "d86IVHfw8gaj"
      },
      "execution_count": null,
      "outputs": []
    },
    {
      "cell_type": "code",
      "source": [
        "playdf['Size']=playdf['Size'].astype(float)"
      ],
      "metadata": {
        "id": "KPOTA_KH8gak"
      },
      "execution_count": null,
      "outputs": []
    },
    {
      "cell_type": "code",
      "source": [
        "playdf['Size'].dtype"
      ],
      "metadata": {
        "id": "QhnIFgiq8gak"
      },
      "execution_count": null,
      "outputs": []
    },
    {
      "cell_type": "code",
      "source": [
        "playdf['Size'].fillna(playdf.groupby('Category')['Size'].transform('mean'), inplace=True)"
      ],
      "metadata": {
        "id": "rn6OvlAL8gal"
      },
      "execution_count": null,
      "outputs": []
    },
    {
      "cell_type": "markdown",
      "source": [
        "Conversion of 'Installs' column from object dtype to numerical dtype"
      ],
      "metadata": {
        "id": "MxqR7c6O8gal"
      }
    },
    {
      "cell_type": "code",
      "source": [
        "playdf['Installs']"
      ],
      "metadata": {
        "id": "YZcBOM0G8gal"
      },
      "execution_count": null,
      "outputs": []
    },
    {
      "cell_type": "code",
      "source": [
        "playdf['Installs']=playdf['Installs'].apply(lambda x:x.replace('+',''))\n",
        "playdf['Installs']=playdf['Installs'].apply(lambda x:x.replace(',',''))"
      ],
      "metadata": {
        "id": "hc5d40vR8gam"
      },
      "execution_count": null,
      "outputs": []
    },
    {
      "cell_type": "code",
      "source": [
        "playdf['Installs']=playdf['Installs'].astype(int)                   # converting into int dtype"
      ],
      "metadata": {
        "id": "jAk86tlN8gam"
      },
      "execution_count": null,
      "outputs": []
    },
    {
      "cell_type": "code",
      "source": [
        "playdf['Installs'].dtype"
      ],
      "metadata": {
        "id": "YUnAWUmv8gan"
      },
      "execution_count": null,
      "outputs": []
    },
    {
      "cell_type": "code",
      "source": [
        "#Removing rows in which Reviews is greater than Installs. \n",
        "\n",
        "conditions = [    playdf['Reviews']>playdf['Installs'],                \n",
        "                  playdf['Reviews']<=playdf['Installs']          ]\n",
        "\n",
        "choice = ['Remove', 'Keep']\n",
        "\n",
        "playdf['Decision'] = np.select(conditions, choice)"
      ],
      "metadata": {
        "id": "Gsq8qZI88gan"
      },
      "execution_count": null,
      "outputs": []
    },
    {
      "cell_type": "code",
      "source": [
        "playdf['Decision'].value_counts()"
      ],
      "metadata": {
        "id": "lhPg10Wt8gao"
      },
      "execution_count": null,
      "outputs": []
    },
    {
      "cell_type": "code",
      "source": [
        "playdf.shape"
      ],
      "metadata": {
        "id": "abkQUXlj8gao"
      },
      "execution_count": null,
      "outputs": []
    },
    {
      "cell_type": "code",
      "source": [
        "playdf['Price']=playdf['Price'].apply(lambda x:x.replace('$',''))         # converting dtype of 'Price' from object to numerical."
      ],
      "metadata": {
        "id": "1gwWzo7B8gap"
      },
      "execution_count": null,
      "outputs": []
    },
    {
      "cell_type": "code",
      "source": [
        "playdf['Price'].astype(float)"
      ],
      "metadata": {
        "id": "xcI8m0Aq8gap"
      },
      "execution_count": null,
      "outputs": []
    },
    {
      "cell_type": "code",
      "source": [
        "playdf['Price']=playdf['Price'].astype(float)\n"
      ],
      "metadata": {
        "id": "EvHGQs6K8gaq"
      },
      "execution_count": null,
      "outputs": []
    },
    {
      "cell_type": "code",
      "source": [
        "playdf.isna().sum()"
      ],
      "metadata": {
        "id": "-tDsIF8i8gar"
      },
      "execution_count": null,
      "outputs": []
    },
    {
      "cell_type": "code",
      "source": [
        "playdf.info()"
      ],
      "metadata": {
        "id": "ADWuz1AY8gar"
      },
      "execution_count": null,
      "outputs": []
    },
    {
      "cell_type": "markdown",
      "source": [
        "Now we have five numerical dtype columns such as 'Rating ,Reviews, Size, Installs and Price'\n",
        "\n",
        "\n",
        "---\n",
        "\n"
      ],
      "metadata": {
        "id": "jQHx8OAh8gas"
      }
    },
    {
      "cell_type": "markdown",
      "source": [
        "# Data Visulisation for Basic EDA"
      ],
      "metadata": {
        "id": "607P7Qz88gat"
      }
    },
    {
      "cell_type": "markdown",
      "source": [
        "## Relationship Analysis"
      ],
      "metadata": {
        "id": "eT6IM8L48gat"
      }
    },
    {
      "cell_type": "code",
      "source": [
        "plt.figure(figsize=(6,6))\n",
        "sns.pairplot(playdf,hue=\"Type\")"
      ],
      "metadata": {
        "id": "LAV4QvTX8gat"
      },
      "execution_count": null,
      "outputs": []
    },
    {
      "cell_type": "code",
      "source": [
        "plt.figure(figsize=(8,6))\n",
        "sns.heatmap(playdf.corr(),annot=True,linewidths=0.8,cmap=\"YlGnBu\")\n",
        "plt.show()"
      ],
      "metadata": {
        "id": "2LPAGNNe8gau"
      },
      "execution_count": null,
      "outputs": []
    },
    {
      "cell_type": "markdown",
      "source": [
        "  What we got:\n",
        "\n",
        "  1. We can see that 'Rating' and 'Reviews' are highly positive correlated.\n",
        "  2. 'Installs' and 'Size' are also correlated positive.\n",
        "  3. Most of the columns are negative correlated with 'Price' column"
      ],
      "metadata": {
        "id": "lHfAx6cI8gav"
      }
    },
    {
      "cell_type": "markdown",
      "source": [
        "**Content Rating**"
      ],
      "metadata": {
        "id": "80dDxrQp8gav"
      }
    },
    {
      "cell_type": "code",
      "source": [
        "plt.figure(figsize=(8,5))\n",
        "playdf['Content Rating'].value_counts().plot(kind='bar')\n",
        "print(playdf['Content Rating'].value_counts())"
      ],
      "metadata": {
        "id": "4eIf6pwy8gav"
      },
      "execution_count": null,
      "outputs": []
    },
    {
      "cell_type": "markdown",
      "source": [
        "      Most of the apps are rated \"Everyone\".Only fews are rated for \"Adults ony 18+\" and \"Unrated\""
      ],
      "metadata": {
        "id": "IorNEzS68gaw"
      }
    },
    {
      "cell_type": "markdown",
      "source": [
        "**Categories**"
      ],
      "metadata": {
        "id": "L5Rh5Rxu8gaw"
      }
    },
    {
      "cell_type": "code",
      "source": [
        "plt.figure(figsize=(10,5))\n",
        "sns.countplot(playdf['Category'])\n",
        "plt.xticks(rotation=90)\n",
        "plt.show()"
      ],
      "metadata": {
        "id": "o405h_7O8gax"
      },
      "execution_count": null,
      "outputs": []
    },
    {
      "cell_type": "markdown",
      "source": [
        "Majority of the apps are in Family category"
      ],
      "metadata": {
        "id": "6Cevhwbs8gay"
      }
    },
    {
      "cell_type": "code",
      "source": [
        "sns.countplot(x=playdf['Category'],order=pd.value_counts(playdf['Category']).iloc[:5].index)"
      ],
      "metadata": {
        "id": "6Ike_2gJ8gay"
      },
      "execution_count": null,
      "outputs": []
    },
    {
      "cell_type": "markdown",
      "source": [
        "        Top 5 Categories are:\n",
        "\n",
        "        1. Family\n",
        "        2. Game\n",
        "        3. Tools\n",
        "        4. Business\n",
        "        5. Medical"
      ],
      "metadata": {
        "id": "nJMgtlQS8gaz"
      }
    },
    {
      "cell_type": "markdown",
      "source": [
        "### Total Number of Apps based on Type (Paid/Free)."
      ],
      "metadata": {
        "id": "E0JhpRGm8gaz"
      }
    },
    {
      "cell_type": "code",
      "source": [
        "labels=playdf['Type'].value_counts(sort=True).index\n",
        "plt.figure(figsize=(6,6))\n",
        "plt.pie(playdf['Type'].value_counts(),labels=labels,autopct='%1.1f%%')\n",
        "plt.legend()\n",
        "plt.show()"
      ],
      "metadata": {
        "id": "yaMlCI6v8ga0"
      },
      "execution_count": null,
      "outputs": []
    },
    {
      "cell_type": "markdown",
      "source": [
        "###Paid app price distribution with catagory wise \n",
        "\n",
        "\n"
      ],
      "metadata": {
        "id": "ta7OwtP58ga0"
      }
    },
    {
      "cell_type": "code",
      "source": [
        "paid_apps=playdf[playdf['Type']=='Paid']"
      ],
      "metadata": {
        "id": "TYUkgdV-8ga1"
      },
      "execution_count": null,
      "outputs": []
    },
    {
      "cell_type": "code",
      "source": [
        "playdf['Category']"
      ],
      "metadata": {
        "id": "eJCFWk_c8ga1"
      },
      "execution_count": null,
      "outputs": []
    },
    {
      "cell_type": "code",
      "source": [
        "plt.figure(figsize=(10,7))\n",
        "sns.scatterplot(data=paid_apps,x=playdf['Price'],y=playdf['Category'])\n",
        "plt.show()"
      ],
      "metadata": {
        "id": "mYWdVsgk8ga2"
      },
      "execution_count": null,
      "outputs": []
    },
    {
      "cell_type": "markdown",
      "source": [
        "    Family and Medical have the most paid apps."
      ],
      "metadata": {
        "id": "azvltmCO8ga3"
      }
    },
    {
      "cell_type": "code",
      "source": [
        "paid_apps['Price'].max()"
      ],
      "metadata": {
        "id": "j-ikA2qE8ga3"
      },
      "execution_count": null,
      "outputs": []
    },
    {
      "cell_type": "code",
      "source": [
        "paid_apps[paid_apps['Price']==400]"
      ],
      "metadata": {
        "id": "G6igyJNh8ga4"
      },
      "execution_count": null,
      "outputs": []
    },
    {
      "cell_type": "markdown",
      "source": [
        "    The 'I'm Rich - Trump Edition' app is found to be the highest paid app."
      ],
      "metadata": {
        "id": "2KwpUtw28ga5"
      }
    },
    {
      "cell_type": "code",
      "source": [
        "paid_apps['Installs'].max()"
      ],
      "metadata": {
        "id": "bqTe1ojt8ga5"
      },
      "execution_count": null,
      "outputs": []
    },
    {
      "cell_type": "code",
      "source": [
        "paid_apps[paid_apps['Installs']==10000000]"
      ],
      "metadata": {
        "id": "H6b7jBlM8ga6"
      },
      "execution_count": null,
      "outputs": []
    },
    {
      "cell_type": "markdown",
      "source": [
        "    Minecraft and Hitman Sniper are the most downloaded paid apps "
      ],
      "metadata": {
        "id": "C9Ohx0dH8ga6"
      }
    },
    {
      "cell_type": "markdown",
      "source": [
        "**Rating**"
      ],
      "metadata": {
        "id": "mOLXKuTs8ga7"
      }
    },
    {
      "cell_type": "code",
      "source": [
        "plt.figure(figsize=(12,6))\n",
        "plt.title('Rating Distributions',size = 18)\n",
        "sns.distplot(playdf['Rating'],color='green')\n",
        "plt.xlim(0,7.5)\n",
        "plt.show()"
      ],
      "metadata": {
        "id": "V3hgo_-h8ga8"
      },
      "execution_count": null,
      "outputs": []
    },
    {
      "cell_type": "markdown",
      "source": [
        "Maximum of the apps are rated around 4 to 4.5"
      ],
      "metadata": {
        "id": "CAjJgr4j8ga8"
      }
    },
    {
      "cell_type": "code",
      "source": [
        "plt.figure(figsize=(10,7))\n",
        "sns.scatterplot(data=paid_apps,y=playdf['Rating'],x=playdf['Category'])\n",
        "plt.xticks(rotation=90)\n",
        "plt.show()"
      ],
      "metadata": {
        "id": "fmFUIj7y8ga9"
      },
      "execution_count": null,
      "outputs": []
    },
    {
      "cell_type": "markdown",
      "source": [
        "    Category wise rating donot differ much"
      ],
      "metadata": {
        "id": "O4uZ2gVa8ga-"
      }
    },
    {
      "cell_type": "markdown",
      "source": [
        "**Top 5 Categories based on Ratings (min. 15,000 downloads)**"
      ],
      "metadata": {
        "id": "R7WLxyyW8ga-"
      }
    },
    {
      "cell_type": "code",
      "source": [
        "apps_with_15k=playdf[playdf['Installs']>=15000]"
      ],
      "metadata": {
        "id": "zFz4z8F88ga_"
      },
      "execution_count": null,
      "outputs": []
    },
    {
      "cell_type": "code",
      "source": [
        "category_15k = apps_with_15k.groupby(['Category'])"
      ],
      "metadata": {
        "id": "0kWodAN28ga_"
      },
      "execution_count": null,
      "outputs": []
    },
    {
      "cell_type": "code",
      "source": [
        "category_15k['Rating'].mean().sort_values(ascending=False).iloc[:5]"
      ],
      "metadata": {
        "id": "KASHf9gY8gbA"
      },
      "execution_count": null,
      "outputs": []
    },
    {
      "cell_type": "markdown",
      "source": [
        "    So Top 5 Category based on ratings and having minimum 15k downloads are as shown above"
      ],
      "metadata": {
        "id": "HSXZvkmE8gbA"
      }
    },
    {
      "cell_type": "markdown",
      "source": [
        "**Genres**"
      ],
      "metadata": {
        "id": "c51ypt7A8gbB"
      }
    },
    {
      "cell_type": "code",
      "source": [
        "playdf['Genres'].nunique()"
      ],
      "metadata": {
        "id": "-ZblLAqD8gbB"
      },
      "execution_count": null,
      "outputs": []
    },
    {
      "cell_type": "code",
      "source": [
        "plt.figure(figsize=(10,6))\n",
        "sns.countplot(x=playdf['Genres'],order=pd.value_counts(playdf['Genres']).iloc[:10].index)\n",
        "plt.xticks(rotation=90)\n",
        "plt.show()"
      ],
      "metadata": {
        "id": "4hWC7--j8gbC"
      },
      "execution_count": null,
      "outputs": []
    },
    {
      "cell_type": "markdown",
      "source": [
        "    Most frequent genres are Tools,Entertainment,Education"
      ],
      "metadata": {
        "id": "I_zWEtVy8gbC"
      }
    },
    {
      "cell_type": "code",
      "source": [
        "gen_15k=apps_with_15k.groupby(['Genres'])"
      ],
      "metadata": {
        "id": "W5A_cgRA8gbD"
      },
      "execution_count": null,
      "outputs": []
    },
    {
      "cell_type": "code",
      "source": [
        "gen_15k['Rating'].mean().sort_values(ascending=False).iloc[:5]"
      ],
      "metadata": {
        "id": "a3RJcEkA8gbD"
      },
      "execution_count": null,
      "outputs": []
    },
    {
      "cell_type": "markdown",
      "source": [
        "    Comics;Creativity is the highest rated genre followed by Health & Fitness;Education and Books & Reference"
      ],
      "metadata": {
        "id": "IA_RDk148gbE"
      }
    },
    {
      "cell_type": "markdown",
      "source": [
        "**Android Version**"
      ],
      "metadata": {
        "id": "1wccKLvt8gbE"
      }
    },
    {
      "cell_type": "code",
      "source": [
        "plt.figure(figsize=(5,5))\n",
        "sns.countplot(y=playdf['Android Ver'],order=pd.value_counts(playdf['Android Ver']).iloc[:10].index)\n",
        "plt.xticks(rotation=90)\n",
        "plt.show()"
      ],
      "metadata": {
        "id": "QrsE16DN8gbF"
      },
      "execution_count": null,
      "outputs": []
    },
    {
      "cell_type": "markdown",
      "source": [
        "    Most of the apps are made compatible with Android version 4(Jellybean) and above"
      ],
      "metadata": {
        "id": "Q8Aka83V8gbF"
      }
    },
    {
      "cell_type": "markdown",
      "source": [
        "**App Size**"
      ],
      "metadata": {
        "id": "Vj_8n3Bq8gbG"
      }
    },
    {
      "cell_type": "code",
      "source": [
        "plt.figure(figsize=(10,5))\n",
        "sns.distplot(playdf['Size'],color='purple')\n",
        "plt.title('App Size Distribution')\n",
        "plt.ylabel('Frequency')\n",
        "plt.show()"
      ],
      "metadata": {
        "id": "CjJss-8L8gbG"
      },
      "execution_count": null,
      "outputs": []
    },
    {
      "cell_type": "code",
      "source": [
        "# Many of the apps lie in 0-20 mb range\n",
        "(playdf[playdf['Size']<=20].shape[0]/playdf['Size'].shape[0])*100   #Percentage calculation less than or equal to 20mb"
      ],
      "metadata": {
        "id": "mIH0q0Bd8gbH"
      },
      "execution_count": null,
      "outputs": []
    },
    {
      "cell_type": "markdown",
      "source": [
        "    Almost 65% of apps's size lies between 0-20 Mb"
      ],
      "metadata": {
        "id": "cDyHO-Kq8gbH"
      }
    },
    {
      "cell_type": "markdown",
      "source": [
        "**Top Categories based on Installs(having maximum Installs and ratings)**"
      ],
      "metadata": {
        "id": "O9sTp6zq8gbI"
      }
    },
    {
      "cell_type": "code",
      "source": [
        "playdf['Installs'].max()"
      ],
      "metadata": {
        "id": "weS6iFaF8gbI"
      },
      "execution_count": null,
      "outputs": []
    },
    {
      "cell_type": "code",
      "source": [
        "most_installs=playdf[playdf['Installs']==1000000000] "
      ],
      "metadata": {
        "id": "Thm15xyB8gbJ"
      },
      "execution_count": null,
      "outputs": []
    },
    {
      "cell_type": "code",
      "source": [
        "cat_download=most_installs.groupby(['Category'])"
      ],
      "metadata": {
        "id": "vI3qGICo8gbJ"
      },
      "execution_count": null,
      "outputs": []
    },
    {
      "cell_type": "code",
      "source": [
        "cat_download['Rating'].mean().sort_values(ascending=False).iloc[:5]"
      ],
      "metadata": {
        "id": "3HapzFA98gbK"
      },
      "execution_count": null,
      "outputs": []
    },
    {
      "cell_type": "markdown",
      "source": [
        "This are the Top 5 Category with maximun download and high rating"
      ],
      "metadata": {
        "id": "1v4GVCV_8gbK"
      }
    },
    {
      "cell_type": "markdown",
      "source": [
        "# **User Reviews Sentiment Analysis**"
      ],
      "metadata": {
        "id": "73i9scYe8gbL"
      }
    },
    {
      "cell_type": "code",
      "source": [
        "reviews_data=pd.read_csv('/content/drive/MyDrive/ eda project 1/playstore original/User Reviews.csv')"
      ],
      "metadata": {
        "id": "z7_6Vy8a8gbL"
      },
      "execution_count": null,
      "outputs": []
    },
    {
      "cell_type": "code",
      "source": [
        "reviews_data.head()"
      ],
      "metadata": {
        "id": "O4Bdf_C38gbM"
      },
      "execution_count": null,
      "outputs": []
    },
    {
      "cell_type": "code",
      "source": [
        "reviews_data.info()"
      ],
      "metadata": {
        "id": "SVFkEDct8gbM"
      },
      "execution_count": null,
      "outputs": []
    },
    {
      "cell_type": "code",
      "source": [
        "reviews_data.isna().sum() #Many null values"
      ],
      "metadata": {
        "id": "PekFP_gv8gbN"
      },
      "execution_count": null,
      "outputs": []
    },
    {
      "cell_type": "code",
      "source": [
        "((reviews_data.isna().sum()[1])/reviews_data.shape[0])*100 # ~42% null values in 3 columns"
      ],
      "metadata": {
        "id": "cvMeiiEX8gbN"
      },
      "execution_count": null,
      "outputs": []
    },
    {
      "cell_type": "markdown",
      "source": [
        "**Merging Data**"
      ],
      "metadata": {
        "id": "jeEvHVeE8gbO"
      }
    },
    {
      "cell_type": "code",
      "source": [
        "df_merged = pd.merge(playdf, reviews_data, on = \"App\", how = \"inner\") #Merging both datasets on Apppl"
      ],
      "metadata": {
        "id": "D9P6ep3I8gbO"
      },
      "execution_count": null,
      "outputs": []
    },
    {
      "cell_type": "code",
      "source": [
        "df_merged = df_merged.dropna(subset=['Translated_Review', 'Sentiment']) #Dropping null values"
      ],
      "metadata": {
        "id": "l4sGrCHE8gbP"
      },
      "execution_count": null,
      "outputs": []
    },
    {
      "cell_type": "code",
      "source": [
        "df_merged.head()"
      ],
      "metadata": {
        "id": "9q5hx1c28gbQ"
      },
      "execution_count": null,
      "outputs": []
    },
    {
      "cell_type": "markdown",
      "source": [
        "**Sentiment Polarity Between Free and Paid Apps**"
      ],
      "metadata": {
        "id": "AIplfWLJ8gbQ"
      }
    },
    {
      "cell_type": "code",
      "source": [
        "plt.figure(figsize=(10,8))\n",
        "sns.boxplot(x='Type', y='Sentiment_Polarity', data=df_merged)\n",
        "plt.title('Sentiment Polarity Destribution')\n",
        "plt.show()"
      ],
      "metadata": {
        "id": "yrGAD6SB8gbR"
      },
      "execution_count": null,
      "outputs": []
    },
    {
      "cell_type": "markdown",
      "source": [
        "    Free apps relatively recieve more negative comments(outliers on the negative Y-axis) than paid apps.\n",
        "\n",
        "  "
      ],
      "metadata": {
        "id": "p-exvjAY8gbS"
      }
    },
    {
      "cell_type": "markdown",
      "source": [
        "**WORKCLOUD**"
      ],
      "metadata": {
        "id": "1g35zQ8k8gbS"
      }
    },
    {
      "cell_type": "code",
      "source": [
        "from wordcloud import WordCloud,STOPWORDS"
      ],
      "metadata": {
        "id": "zN0k5Dt58gbS"
      },
      "execution_count": null,
      "outputs": []
    },
    {
      "cell_type": "code",
      "source": [
        "stopwords = set(STOPWORDS)"
      ],
      "metadata": {
        "id": "6VuQWYcK8gbT"
      },
      "execution_count": null,
      "outputs": []
    },
    {
      "cell_type": "code",
      "source": [
        "#separating the merged data into negative and positive dataframe\n",
        "negative_df = df_merged[df_merged['Sentiment']=='Negative'] \n",
        "postive_df = df_merged[df_merged['Sentiment']=='Positive']"
      ],
      "metadata": {
        "id": "QOASc1cv8gbT"
      },
      "execution_count": null,
      "outputs": []
    },
    {
      "cell_type": "code",
      "source": [
        "#To generate wordcloud image fo positive reviews\n",
        "words = ''\n",
        "for s in postive_df['Translated_Review']:\n",
        "\n",
        "    s = str(s) # typecaste each val to string\n",
        "    x = s.split()# split the value\n",
        "    \n",
        "    for i in range(len(x)):# Converts each token into lowercase\n",
        "        x[i] = x[i].lower()\n",
        "     \n",
        "    words = words + \" \".join(x)+\" \"\n",
        " \n",
        "wc = WordCloud(width = 800, height = 600,\n",
        "                background_color ='black',\n",
        "                stopwords = stopwords,\n",
        "                min_font_size = 10).generate(words)\n",
        "plt.figure(figsize = (8, 8))\n",
        "plt.imshow(wc)\n",
        "plt.axis(\"off\")\n",
        "plt.tight_layout(pad = 0)\n",
        "plt.show()"
      ],
      "metadata": {
        "id": "lg-Zu33h8gbU"
      },
      "execution_count": null,
      "outputs": []
    },
    {
      "cell_type": "code",
      "source": [
        "#To generate wordcloud image for negative reviews\n",
        "words = ''\n",
        "for s in negative_df['Translated_Review']:\n",
        "\n",
        "    s = str(s) # typecaste each val to string\n",
        "    x = s.split()# split the value\n",
        "    \n",
        "    for i in range(len(x)):# Converts each token into lowercase\n",
        "        x[i] = x[i].lower()\n",
        "     \n",
        "    words = words + \" \".join(x)+\" \"\n",
        " \n",
        "wc = WordCloud(width = 800, height = 600,\n",
        "                background_color ='black',\n",
        "                stopwords = stopwords,\n",
        "                min_font_size = 10).generate(words)\n",
        "plt.figure(figsize = (8, 8), facecolor = None)\n",
        "plt.imshow(wc)\n",
        "plt.axis(\"off\")\n",
        "plt.tight_layout(pad = 0)\n",
        "plt.show()"
      ],
      "metadata": {
        "id": "rdBDTjAJ8gbV"
      },
      "execution_count": null,
      "outputs": []
    },
    {
      "cell_type": "markdown",
      "source": [
        "\n",
        "**Positive Reviews**: \"great, love, thank, good\"      \n",
        "**Negative Reviews**: \"ad, update,hate,bad\""
      ],
      "metadata": {
        "id": "kC3CxGxg8gbV"
      }
    },
    {
      "cell_type": "markdown",
      "source": [
        "#Conclusion:\n",
        "The objective of this Play store Data analysis is to know how different parameters can affect the app ratings and reviews and understand how these can impact the Play store app industry as a whole. So we can conclude that:\n",
        "\n",
        "1.Users mostly prefer the free apps. App size does not affect the decision of   using the paid or free apps much.\n",
        "\n",
        "The apps which have the higher rating above 4 are targeting all the people and not a certain age group.\n",
        "\n",
        "On average the application size is in between 10 MB to 20 MB.\n",
        "Family & Medical category Apps have the highest earning.\n",
        "Also at the same time Medical, Family, Tools, Game category apps are the most expensive apps which is clearly visible because these categories of the application market have the most invested money and indeed these are the right categories to make best profits.\n",
        "Customer ratings actually effect the category to release an app in that category.\n",
        "We can see that most positive sentiment reviews are from most polupar categories.\n",
        "Positive reviews are higher than negative and neutral sentiment reviews."
      ],
      "metadata": {
        "id": "gBeWHzB78gbW"
      }
    }
  ]
}