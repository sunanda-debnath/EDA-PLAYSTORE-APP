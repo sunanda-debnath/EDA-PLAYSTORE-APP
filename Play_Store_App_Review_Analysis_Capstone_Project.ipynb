{
  "nbformat": 4,
  "nbformat_minor": 0,
  "metadata": {
    "kernelspec": {
      "display_name": "Python 3",
      "language": "python",
      "name": "python3"
    },
    "language_info": {
      "codemirror_mode": {
        "name": "ipython",
        "version": 3
      },
      "file_extension": ".py",
      "mimetype": "text/x-python",
      "name": "python",
      "nbconvert_exporter": "python",
      "pygments_lexer": "ipython3",
      "version": "3.6.6"
    },
    "colab": {
      "name": "Play Store App Review Analysis - Capstone Project.ipynb",
      "provenance": [],
      "collapsed_sections": [],
      "include_colab_link": true
    }
  },
  "cells": [
    {
      "cell_type": "markdown",
      "metadata": {
        "id": "view-in-github",
        "colab_type": "text"
      },
      "source": [
        "<a href=\"https://colab.research.google.com/github/sunanda-debnath/EDA-PLAYSTORE-APP/blob/main/Play_Store_App_Review_Analysis_Capstone_Project.ipynb\" target=\"_parent\"><img src=\"https://colab.research.google.com/assets/colab-badge.svg\" alt=\"Open In Colab\"/></a>"
      ]
    },
    {
      "cell_type": "markdown",
      "metadata": {
        "id": "Y06xIdG26kRF"
      },
      "source": [
        "## <b> The Play Store apps data has enormous potential to drive app-making businesses to success. Actionable insights can be drawn for developers to work on and capture the Android market. </b>\n",
        "\n",
        "## <b> Each app (row) has values for catergory, rating, size, and more. Another dataset contains customer reviews of the android apps.</b>\n",
        "\n",
        "## <b> Explore and analyze the data to discover key factors responsible for app engagement and success. </b>"
      ]
    },
    {
      "cell_type": "markdown",
      "source": [
        ""
      ],
      "metadata": {
        "id": "XSsnmbtjeG2n"
      }
    },
    {
      "cell_type": "markdown",
      "source": [
        "I did my best to follow a comprehensive, but not exhaustive, analysis of the data. I'm far from reporting a rigorous study in this kernel, but I hope that it can be useful for the community, so I'm sharing how I applied some of those data analysis principles to this problem.\n",
        "\n",
        "I gave to the chapters, what we are doing in this kernel is something like:\n",
        "\n",
        "*   **loading the data into data frame**.\n",
        "*   **Basic cleaning**. \n",
        "*   **Multivariate study**.\n",
        "*   **Test assumptions**. We'll check if our data meets the assumptions required by most multivariate techniques.\n",
        "*   **exploratory analysis and visualizations**\n",
        "*   **questions that can be asked from the dataset**\n",
        "*   **conclusion**\n",
        "\n",
        "\n",
        "\n",
        "\n",
        "\n",
        "\n",
        "\n",
        "\n",
        "\n",
        "\n",
        "\n",
        "\n",
        "\n",
        "\n",
        "\n",
        "\n",
        "\n",
        "\n"
      ],
      "metadata": {
        "id": "JshBTbdZATIs"
      }
    },
    {
      "cell_type": "markdown",
      "source": [
        "# **Importing Libraries**"
      ],
      "metadata": {
        "id": "B0J7VC1JTXV2"
      }
    },
    {
      "cell_type": "code",
      "source": [
        "import numpy as np\n",
        "import pandas as pd\n",
        "import seaborn as sns\n",
        "import matplotlib.pyplot as plt\n",
        "%matplotlib inline"
      ],
      "metadata": {
        "id": "nfM6jatASMNP"
      },
      "execution_count": 1,
      "outputs": []
    },
    {
      "cell_type": "code",
      "source": [
        "from google.colab import drive\n",
        "drive.mount('/content/drive')"
      ],
      "metadata": {
        "colab": {
          "base_uri": "https://localhost:8080/"
        },
        "id": "yp4t_5YfU1zc",
        "outputId": "a2f8377f-580b-4dc1-cc3b-979486cb8094"
      },
      "execution_count": 2,
      "outputs": [
        {
          "output_type": "stream",
          "name": "stdout",
          "text": [
            "Mounted at /content/drive\n"
          ]
        }
      ]
    },
    {
      "cell_type": "markdown",
      "source": [
        "# Importing the dataset"
      ],
      "metadata": {
        "id": "WWCfUcBKVTPH"
      }
    },
    {
      "cell_type": "code",
      "source": [
        "df = pd.read_csv(\"/content/drive/MyDrive/ eda project 1/playstore original/Play Store Data.csv\")\n",
        "df_new = df.copy() #for not tampering the original data"
      ],
      "metadata": {
        "id": "mD11WLbvVBtd"
      },
      "execution_count": 3,
      "outputs": []
    },
    {
      "cell_type": "markdown",
      "source": [
        "# Data Overview"
      ],
      "metadata": {
        "id": "ldX-ji6MTycd"
      }
    },
    {
      "cell_type": "code",
      "source": [
        "print(df_new.shape)\n",
        "df_new.tail()"
      ],
      "metadata": {
        "id": "sz2lYiTydsal",
        "colab": {
          "base_uri": "https://localhost:8080/",
          "height": 389
        },
        "outputId": "01dfe6b1-a481-494a-e1ba-310b45512685"
      },
      "execution_count": 4,
      "outputs": [
        {
          "output_type": "stream",
          "name": "stdout",
          "text": [
            "(10841, 13)\n"
          ]
        },
        {
          "output_type": "execute_result",
          "data": {
            "text/plain": [
              "                                                 App             Category  \\\n",
              "10836                               Sya9a Maroc - FR               FAMILY   \n",
              "10837               Fr. Mike Schmitz Audio Teachings               FAMILY   \n",
              "10838                         Parkinson Exercices FR              MEDICAL   \n",
              "10839                  The SCP Foundation DB fr nn5n  BOOKS_AND_REFERENCE   \n",
              "10840  iHoroscope - 2018 Daily Horoscope & Astrology            LIFESTYLE   \n",
              "\n",
              "       Rating Reviews                Size     Installs  Type Price  \\\n",
              "10836     4.5      38                 53M       5,000+  Free     0   \n",
              "10837     5.0       4                3.6M         100+  Free     0   \n",
              "10838     NaN       3                9.5M       1,000+  Free     0   \n",
              "10839     4.5     114  Varies with device       1,000+  Free     0   \n",
              "10840     4.5  398307                 19M  10,000,000+  Free     0   \n",
              "\n",
              "      Content Rating             Genres      Last Updated         Current Ver  \\\n",
              "10836       Everyone          Education     July 25, 2017                1.48   \n",
              "10837       Everyone          Education      July 6, 2018                 1.0   \n",
              "10838       Everyone            Medical  January 20, 2017                 1.0   \n",
              "10839     Mature 17+  Books & Reference  January 19, 2015  Varies with device   \n",
              "10840       Everyone          Lifestyle     July 25, 2018  Varies with device   \n",
              "\n",
              "              Android Ver  \n",
              "10836          4.1 and up  \n",
              "10837          4.1 and up  \n",
              "10838          2.2 and up  \n",
              "10839  Varies with device  \n",
              "10840  Varies with device  "
            ],
            "text/html": [
              "\n",
              "  <div id=\"df-fbf14e1f-954d-48a9-80a0-a2c39b061bfa\">\n",
              "    <div class=\"colab-df-container\">\n",
              "      <div>\n",
              "<style scoped>\n",
              "    .dataframe tbody tr th:only-of-type {\n",
              "        vertical-align: middle;\n",
              "    }\n",
              "\n",
              "    .dataframe tbody tr th {\n",
              "        vertical-align: top;\n",
              "    }\n",
              "\n",
              "    .dataframe thead th {\n",
              "        text-align: right;\n",
              "    }\n",
              "</style>\n",
              "<table border=\"1\" class=\"dataframe\">\n",
              "  <thead>\n",
              "    <tr style=\"text-align: right;\">\n",
              "      <th></th>\n",
              "      <th>App</th>\n",
              "      <th>Category</th>\n",
              "      <th>Rating</th>\n",
              "      <th>Reviews</th>\n",
              "      <th>Size</th>\n",
              "      <th>Installs</th>\n",
              "      <th>Type</th>\n",
              "      <th>Price</th>\n",
              "      <th>Content Rating</th>\n",
              "      <th>Genres</th>\n",
              "      <th>Last Updated</th>\n",
              "      <th>Current Ver</th>\n",
              "      <th>Android Ver</th>\n",
              "    </tr>\n",
              "  </thead>\n",
              "  <tbody>\n",
              "    <tr>\n",
              "      <th>10836</th>\n",
              "      <td>Sya9a Maroc - FR</td>\n",
              "      <td>FAMILY</td>\n",
              "      <td>4.5</td>\n",
              "      <td>38</td>\n",
              "      <td>53M</td>\n",
              "      <td>5,000+</td>\n",
              "      <td>Free</td>\n",
              "      <td>0</td>\n",
              "      <td>Everyone</td>\n",
              "      <td>Education</td>\n",
              "      <td>July 25, 2017</td>\n",
              "      <td>1.48</td>\n",
              "      <td>4.1 and up</td>\n",
              "    </tr>\n",
              "    <tr>\n",
              "      <th>10837</th>\n",
              "      <td>Fr. Mike Schmitz Audio Teachings</td>\n",
              "      <td>FAMILY</td>\n",
              "      <td>5.0</td>\n",
              "      <td>4</td>\n",
              "      <td>3.6M</td>\n",
              "      <td>100+</td>\n",
              "      <td>Free</td>\n",
              "      <td>0</td>\n",
              "      <td>Everyone</td>\n",
              "      <td>Education</td>\n",
              "      <td>July 6, 2018</td>\n",
              "      <td>1.0</td>\n",
              "      <td>4.1 and up</td>\n",
              "    </tr>\n",
              "    <tr>\n",
              "      <th>10838</th>\n",
              "      <td>Parkinson Exercices FR</td>\n",
              "      <td>MEDICAL</td>\n",
              "      <td>NaN</td>\n",
              "      <td>3</td>\n",
              "      <td>9.5M</td>\n",
              "      <td>1,000+</td>\n",
              "      <td>Free</td>\n",
              "      <td>0</td>\n",
              "      <td>Everyone</td>\n",
              "      <td>Medical</td>\n",
              "      <td>January 20, 2017</td>\n",
              "      <td>1.0</td>\n",
              "      <td>2.2 and up</td>\n",
              "    </tr>\n",
              "    <tr>\n",
              "      <th>10839</th>\n",
              "      <td>The SCP Foundation DB fr nn5n</td>\n",
              "      <td>BOOKS_AND_REFERENCE</td>\n",
              "      <td>4.5</td>\n",
              "      <td>114</td>\n",
              "      <td>Varies with device</td>\n",
              "      <td>1,000+</td>\n",
              "      <td>Free</td>\n",
              "      <td>0</td>\n",
              "      <td>Mature 17+</td>\n",
              "      <td>Books &amp; Reference</td>\n",
              "      <td>January 19, 2015</td>\n",
              "      <td>Varies with device</td>\n",
              "      <td>Varies with device</td>\n",
              "    </tr>\n",
              "    <tr>\n",
              "      <th>10840</th>\n",
              "      <td>iHoroscope - 2018 Daily Horoscope &amp; Astrology</td>\n",
              "      <td>LIFESTYLE</td>\n",
              "      <td>4.5</td>\n",
              "      <td>398307</td>\n",
              "      <td>19M</td>\n",
              "      <td>10,000,000+</td>\n",
              "      <td>Free</td>\n",
              "      <td>0</td>\n",
              "      <td>Everyone</td>\n",
              "      <td>Lifestyle</td>\n",
              "      <td>July 25, 2018</td>\n",
              "      <td>Varies with device</td>\n",
              "      <td>Varies with device</td>\n",
              "    </tr>\n",
              "  </tbody>\n",
              "</table>\n",
              "</div>\n",
              "      <button class=\"colab-df-convert\" onclick=\"convertToInteractive('df-fbf14e1f-954d-48a9-80a0-a2c39b061bfa')\"\n",
              "              title=\"Convert this dataframe to an interactive table.\"\n",
              "              style=\"display:none;\">\n",
              "        \n",
              "  <svg xmlns=\"http://www.w3.org/2000/svg\" height=\"24px\"viewBox=\"0 0 24 24\"\n",
              "       width=\"24px\">\n",
              "    <path d=\"M0 0h24v24H0V0z\" fill=\"none\"/>\n",
              "    <path d=\"M18.56 5.44l.94 2.06.94-2.06 2.06-.94-2.06-.94-.94-2.06-.94 2.06-2.06.94zm-11 1L8.5 8.5l.94-2.06 2.06-.94-2.06-.94L8.5 2.5l-.94 2.06-2.06.94zm10 10l.94 2.06.94-2.06 2.06-.94-2.06-.94-.94-2.06-.94 2.06-2.06.94z\"/><path d=\"M17.41 7.96l-1.37-1.37c-.4-.4-.92-.59-1.43-.59-.52 0-1.04.2-1.43.59L10.3 9.45l-7.72 7.72c-.78.78-.78 2.05 0 2.83L4 21.41c.39.39.9.59 1.41.59.51 0 1.02-.2 1.41-.59l7.78-7.78 2.81-2.81c.8-.78.8-2.07 0-2.86zM5.41 20L4 18.59l7.72-7.72 1.47 1.35L5.41 20z\"/>\n",
              "  </svg>\n",
              "      </button>\n",
              "      \n",
              "  <style>\n",
              "    .colab-df-container {\n",
              "      display:flex;\n",
              "      flex-wrap:wrap;\n",
              "      gap: 12px;\n",
              "    }\n",
              "\n",
              "    .colab-df-convert {\n",
              "      background-color: #E8F0FE;\n",
              "      border: none;\n",
              "      border-radius: 50%;\n",
              "      cursor: pointer;\n",
              "      display: none;\n",
              "      fill: #1967D2;\n",
              "      height: 32px;\n",
              "      padding: 0 0 0 0;\n",
              "      width: 32px;\n",
              "    }\n",
              "\n",
              "    .colab-df-convert:hover {\n",
              "      background-color: #E2EBFA;\n",
              "      box-shadow: 0px 1px 2px rgba(60, 64, 67, 0.3), 0px 1px 3px 1px rgba(60, 64, 67, 0.15);\n",
              "      fill: #174EA6;\n",
              "    }\n",
              "\n",
              "    [theme=dark] .colab-df-convert {\n",
              "      background-color: #3B4455;\n",
              "      fill: #D2E3FC;\n",
              "    }\n",
              "\n",
              "    [theme=dark] .colab-df-convert:hover {\n",
              "      background-color: #434B5C;\n",
              "      box-shadow: 0px 1px 3px 1px rgba(0, 0, 0, 0.15);\n",
              "      filter: drop-shadow(0px 1px 2px rgba(0, 0, 0, 0.3));\n",
              "      fill: #FFFFFF;\n",
              "    }\n",
              "  </style>\n",
              "\n",
              "      <script>\n",
              "        const buttonEl =\n",
              "          document.querySelector('#df-fbf14e1f-954d-48a9-80a0-a2c39b061bfa button.colab-df-convert');\n",
              "        buttonEl.style.display =\n",
              "          google.colab.kernel.accessAllowed ? 'block' : 'none';\n",
              "\n",
              "        async function convertToInteractive(key) {\n",
              "          const element = document.querySelector('#df-fbf14e1f-954d-48a9-80a0-a2c39b061bfa');\n",
              "          const dataTable =\n",
              "            await google.colab.kernel.invokeFunction('convertToInteractive',\n",
              "                                                     [key], {});\n",
              "          if (!dataTable) return;\n",
              "\n",
              "          const docLinkHtml = 'Like what you see? Visit the ' +\n",
              "            '<a target=\"_blank\" href=https://colab.research.google.com/notebooks/data_table.ipynb>data table notebook</a>'\n",
              "            + ' to learn more about interactive tables.';\n",
              "          element.innerHTML = '';\n",
              "          dataTable['output_type'] = 'display_data';\n",
              "          await google.colab.output.renderOutput(dataTable, element);\n",
              "          const docLink = document.createElement('div');\n",
              "          docLink.innerHTML = docLinkHtml;\n",
              "          element.appendChild(docLink);\n",
              "        }\n",
              "      </script>\n",
              "    </div>\n",
              "  </div>\n",
              "  "
            ]
          },
          "metadata": {},
          "execution_count": 4
        }
      ]
    },
    {
      "cell_type": "code",
      "metadata": {
        "id": "dByMsuzT8Tnw",
        "colab": {
          "base_uri": "https://localhost:8080/"
        },
        "outputId": "0f32202e-683b-4590-cb68-5cdaced21670"
      },
      "source": [
        "df_new.info()"
      ],
      "execution_count": 5,
      "outputs": [
        {
          "output_type": "stream",
          "name": "stdout",
          "text": [
            "<class 'pandas.core.frame.DataFrame'>\n",
            "RangeIndex: 10841 entries, 0 to 10840\n",
            "Data columns (total 13 columns):\n",
            " #   Column          Non-Null Count  Dtype  \n",
            "---  ------          --------------  -----  \n",
            " 0   App             10841 non-null  object \n",
            " 1   Category        10841 non-null  object \n",
            " 2   Rating          9367 non-null   float64\n",
            " 3   Reviews         10841 non-null  object \n",
            " 4   Size            10841 non-null  object \n",
            " 5   Installs        10841 non-null  object \n",
            " 6   Type            10840 non-null  object \n",
            " 7   Price           10841 non-null  object \n",
            " 8   Content Rating  10840 non-null  object \n",
            " 9   Genres          10841 non-null  object \n",
            " 10  Last Updated    10841 non-null  object \n",
            " 11  Current Ver     10833 non-null  object \n",
            " 12  Android Ver     10838 non-null  object \n",
            "dtypes: float64(1), object(12)\n",
            "memory usage: 1.1+ MB\n"
          ]
        }
      ]
    },
    {
      "cell_type": "markdown",
      "source": [
        "###All features are object data type except rating"
      ],
      "metadata": {
        "id": "_gYL_o9Mi_RZ"
      }
    },
    {
      "cell_type": "markdown",
      "source": [
        "# Checking what columns are there in the dataset"
      ],
      "metadata": {
        "id": "nk6mTx8Bgw4n"
      }
    },
    {
      "cell_type": "code",
      "source": [
        "df_new.columns"
      ],
      "metadata": {
        "colab": {
          "base_uri": "https://localhost:8080/"
        },
        "id": "hiIC7V5Ui3SP",
        "outputId": "e05876fa-8b6b-43ba-8331-2a255baed4ed"
      },
      "execution_count": 6,
      "outputs": [
        {
          "output_type": "execute_result",
          "data": {
            "text/plain": [
              "Index(['App', 'Category', 'Rating', 'Reviews', 'Size', 'Installs', 'Type',\n",
              "       'Price', 'Content Rating', 'Genres', 'Last Updated', 'Current Ver',\n",
              "       'Android Ver'],\n",
              "      dtype='object')"
            ]
          },
          "metadata": {},
          "execution_count": 6
        }
      ]
    },
    {
      "cell_type": "markdown",
      "source": [
        "# Descriptive statistics"
      ],
      "metadata": {
        "id": "Z9c3mKuNjzgH"
      }
    },
    {
      "cell_type": "code",
      "source": [
        "df_new.describe()"
      ],
      "metadata": {
        "colab": {
          "base_uri": "https://localhost:8080/",
          "height": 300
        },
        "id": "xNjlBHKjjy5H",
        "outputId": "1ec87c93-9d52-4850-bedd-4772cbfe3d1d"
      },
      "execution_count": 7,
      "outputs": [
        {
          "output_type": "execute_result",
          "data": {
            "text/plain": [
              "            Rating\n",
              "count  9367.000000\n",
              "mean      4.193338\n",
              "std       0.537431\n",
              "min       1.000000\n",
              "25%       4.000000\n",
              "50%       4.300000\n",
              "75%       4.500000\n",
              "max      19.000000"
            ],
            "text/html": [
              "\n",
              "  <div id=\"df-30b62254-65b7-41bb-a9c6-a16240e44e6b\">\n",
              "    <div class=\"colab-df-container\">\n",
              "      <div>\n",
              "<style scoped>\n",
              "    .dataframe tbody tr th:only-of-type {\n",
              "        vertical-align: middle;\n",
              "    }\n",
              "\n",
              "    .dataframe tbody tr th {\n",
              "        vertical-align: top;\n",
              "    }\n",
              "\n",
              "    .dataframe thead th {\n",
              "        text-align: right;\n",
              "    }\n",
              "</style>\n",
              "<table border=\"1\" class=\"dataframe\">\n",
              "  <thead>\n",
              "    <tr style=\"text-align: right;\">\n",
              "      <th></th>\n",
              "      <th>Rating</th>\n",
              "    </tr>\n",
              "  </thead>\n",
              "  <tbody>\n",
              "    <tr>\n",
              "      <th>count</th>\n",
              "      <td>9367.000000</td>\n",
              "    </tr>\n",
              "    <tr>\n",
              "      <th>mean</th>\n",
              "      <td>4.193338</td>\n",
              "    </tr>\n",
              "    <tr>\n",
              "      <th>std</th>\n",
              "      <td>0.537431</td>\n",
              "    </tr>\n",
              "    <tr>\n",
              "      <th>min</th>\n",
              "      <td>1.000000</td>\n",
              "    </tr>\n",
              "    <tr>\n",
              "      <th>25%</th>\n",
              "      <td>4.000000</td>\n",
              "    </tr>\n",
              "    <tr>\n",
              "      <th>50%</th>\n",
              "      <td>4.300000</td>\n",
              "    </tr>\n",
              "    <tr>\n",
              "      <th>75%</th>\n",
              "      <td>4.500000</td>\n",
              "    </tr>\n",
              "    <tr>\n",
              "      <th>max</th>\n",
              "      <td>19.000000</td>\n",
              "    </tr>\n",
              "  </tbody>\n",
              "</table>\n",
              "</div>\n",
              "      <button class=\"colab-df-convert\" onclick=\"convertToInteractive('df-30b62254-65b7-41bb-a9c6-a16240e44e6b')\"\n",
              "              title=\"Convert this dataframe to an interactive table.\"\n",
              "              style=\"display:none;\">\n",
              "        \n",
              "  <svg xmlns=\"http://www.w3.org/2000/svg\" height=\"24px\"viewBox=\"0 0 24 24\"\n",
              "       width=\"24px\">\n",
              "    <path d=\"M0 0h24v24H0V0z\" fill=\"none\"/>\n",
              "    <path d=\"M18.56 5.44l.94 2.06.94-2.06 2.06-.94-2.06-.94-.94-2.06-.94 2.06-2.06.94zm-11 1L8.5 8.5l.94-2.06 2.06-.94-2.06-.94L8.5 2.5l-.94 2.06-2.06.94zm10 10l.94 2.06.94-2.06 2.06-.94-2.06-.94-.94-2.06-.94 2.06-2.06.94z\"/><path d=\"M17.41 7.96l-1.37-1.37c-.4-.4-.92-.59-1.43-.59-.52 0-1.04.2-1.43.59L10.3 9.45l-7.72 7.72c-.78.78-.78 2.05 0 2.83L4 21.41c.39.39.9.59 1.41.59.51 0 1.02-.2 1.41-.59l7.78-7.78 2.81-2.81c.8-.78.8-2.07 0-2.86zM5.41 20L4 18.59l7.72-7.72 1.47 1.35L5.41 20z\"/>\n",
              "  </svg>\n",
              "      </button>\n",
              "      \n",
              "  <style>\n",
              "    .colab-df-container {\n",
              "      display:flex;\n",
              "      flex-wrap:wrap;\n",
              "      gap: 12px;\n",
              "    }\n",
              "\n",
              "    .colab-df-convert {\n",
              "      background-color: #E8F0FE;\n",
              "      border: none;\n",
              "      border-radius: 50%;\n",
              "      cursor: pointer;\n",
              "      display: none;\n",
              "      fill: #1967D2;\n",
              "      height: 32px;\n",
              "      padding: 0 0 0 0;\n",
              "      width: 32px;\n",
              "    }\n",
              "\n",
              "    .colab-df-convert:hover {\n",
              "      background-color: #E2EBFA;\n",
              "      box-shadow: 0px 1px 2px rgba(60, 64, 67, 0.3), 0px 1px 3px 1px rgba(60, 64, 67, 0.15);\n",
              "      fill: #174EA6;\n",
              "    }\n",
              "\n",
              "    [theme=dark] .colab-df-convert {\n",
              "      background-color: #3B4455;\n",
              "      fill: #D2E3FC;\n",
              "    }\n",
              "\n",
              "    [theme=dark] .colab-df-convert:hover {\n",
              "      background-color: #434B5C;\n",
              "      box-shadow: 0px 1px 3px 1px rgba(0, 0, 0, 0.15);\n",
              "      filter: drop-shadow(0px 1px 2px rgba(0, 0, 0, 0.3));\n",
              "      fill: #FFFFFF;\n",
              "    }\n",
              "  </style>\n",
              "\n",
              "      <script>\n",
              "        const buttonEl =\n",
              "          document.querySelector('#df-30b62254-65b7-41bb-a9c6-a16240e44e6b button.colab-df-convert');\n",
              "        buttonEl.style.display =\n",
              "          google.colab.kernel.accessAllowed ? 'block' : 'none';\n",
              "\n",
              "        async function convertToInteractive(key) {\n",
              "          const element = document.querySelector('#df-30b62254-65b7-41bb-a9c6-a16240e44e6b');\n",
              "          const dataTable =\n",
              "            await google.colab.kernel.invokeFunction('convertToInteractive',\n",
              "                                                     [key], {});\n",
              "          if (!dataTable) return;\n",
              "\n",
              "          const docLinkHtml = 'Like what you see? Visit the ' +\n",
              "            '<a target=\"_blank\" href=https://colab.research.google.com/notebooks/data_table.ipynb>data table notebook</a>'\n",
              "            + ' to learn more about interactive tables.';\n",
              "          element.innerHTML = '';\n",
              "          dataTable['output_type'] = 'display_data';\n",
              "          await google.colab.output.renderOutput(dataTable, element);\n",
              "          const docLink = document.createElement('div');\n",
              "          docLink.innerHTML = docLinkHtml;\n",
              "          element.appendChild(docLink);\n",
              "        }\n",
              "      </script>\n",
              "    </div>\n",
              "  </div>\n",
              "  "
            ]
          },
          "metadata": {},
          "execution_count": 7
        }
      ]
    },
    {
      "cell_type": "code",
      "source": [
        "df_new['App'].duplicated().value_counts()"
      ],
      "metadata": {
        "colab": {
          "base_uri": "https://localhost:8080/"
        },
        "id": "GdYrUljZqW9o",
        "outputId": "a95c1659-d57a-44ac-8eb3-aa1e2c4ac72f"
      },
      "execution_count": 8,
      "outputs": [
        {
          "output_type": "execute_result",
          "data": {
            "text/plain": [
              "False    9660\n",
              "True     1181\n",
              "Name: App, dtype: int64"
            ]
          },
          "metadata": {},
          "execution_count": 8
        }
      ]
    },
    {
      "cell_type": "code",
      "source": [
        "df_new.loc[df_new['App'].duplicated()] #no of duplicates"
      ],
      "metadata": {
        "colab": {
          "base_uri": "https://localhost:8080/",
          "height": 658
        },
        "id": "SizrfeKpqkOu",
        "outputId": "56a94143-3a1c-4fdd-c6df-847082f8e9e8"
      },
      "execution_count": 9,
      "outputs": [
        {
          "output_type": "execute_result",
          "data": {
            "text/plain": [
              "                                      App       Category  Rating Reviews  \\\n",
              "229          Quick PDF Scanner + OCR FREE       BUSINESS     4.2   80805   \n",
              "236                                   Box       BUSINESS     4.2  159872   \n",
              "239                    Google My Business       BUSINESS     4.4   70991   \n",
              "256                   ZOOM Cloud Meetings       BUSINESS     4.4   31614   \n",
              "261             join.me - Simple Meetings       BUSINESS     4.0    6989   \n",
              "...                                   ...            ...     ...     ...   \n",
              "10715                  FarmersOnly Dating         DATING     3.0    1145   \n",
              "10720  Firefox Focus: The privacy browser  COMMUNICATION     4.4   36981   \n",
              "10730                         FP Notebook        MEDICAL     4.5     410   \n",
              "10753      Slickdeals: Coupons & Shopping       SHOPPING     4.5   33599   \n",
              "10768                                AAFP        MEDICAL     3.8      63   \n",
              "\n",
              "                     Size     Installs  Type Price Content Rating  \\\n",
              "229    Varies with device   5,000,000+  Free     0       Everyone   \n",
              "236    Varies with device  10,000,000+  Free     0       Everyone   \n",
              "239    Varies with device   5,000,000+  Free     0       Everyone   \n",
              "256                   37M  10,000,000+  Free     0       Everyone   \n",
              "261    Varies with device   1,000,000+  Free     0       Everyone   \n",
              "...                   ...          ...   ...   ...            ...   \n",
              "10715                1.4M     100,000+  Free     0     Mature 17+   \n",
              "10720                4.0M   1,000,000+  Free     0       Everyone   \n",
              "10730                 60M      50,000+  Free     0       Everyone   \n",
              "10753                 12M   1,000,000+  Free     0       Everyone   \n",
              "10768                 24M      10,000+  Free     0       Everyone   \n",
              "\n",
              "              Genres       Last Updated         Current Ver  \\\n",
              "229         Business  February 26, 2018  Varies with device   \n",
              "236         Business      July 31, 2018  Varies with device   \n",
              "239         Business      July 24, 2018    2.19.0.204537701   \n",
              "256         Business      July 20, 2018      4.1.28165.0716   \n",
              "261         Business      July 16, 2018           4.3.0.508   \n",
              "...              ...                ...                 ...   \n",
              "10715         Dating  February 25, 2016                 2.2   \n",
              "10720  Communication       July 6, 2018                 5.2   \n",
              "10730        Medical     March 24, 2018           2.1.0.372   \n",
              "10753       Shopping      July 30, 2018                 3.9   \n",
              "10768        Medical      June 22, 2018               2.3.1   \n",
              "\n",
              "              Android Ver  \n",
              "229          4.0.3 and up  \n",
              "236    Varies with device  \n",
              "239            4.4 and up  \n",
              "256            4.0 and up  \n",
              "261            4.4 and up  \n",
              "...                   ...  \n",
              "10715          4.0 and up  \n",
              "10720          5.0 and up  \n",
              "10730          4.4 and up  \n",
              "10753          4.4 and up  \n",
              "10768          5.0 and up  \n",
              "\n",
              "[1181 rows x 13 columns]"
            ],
            "text/html": [
              "\n",
              "  <div id=\"df-775152df-ef31-447b-8096-00c36a8b4797\">\n",
              "    <div class=\"colab-df-container\">\n",
              "      <div>\n",
              "<style scoped>\n",
              "    .dataframe tbody tr th:only-of-type {\n",
              "        vertical-align: middle;\n",
              "    }\n",
              "\n",
              "    .dataframe tbody tr th {\n",
              "        vertical-align: top;\n",
              "    }\n",
              "\n",
              "    .dataframe thead th {\n",
              "        text-align: right;\n",
              "    }\n",
              "</style>\n",
              "<table border=\"1\" class=\"dataframe\">\n",
              "  <thead>\n",
              "    <tr style=\"text-align: right;\">\n",
              "      <th></th>\n",
              "      <th>App</th>\n",
              "      <th>Category</th>\n",
              "      <th>Rating</th>\n",
              "      <th>Reviews</th>\n",
              "      <th>Size</th>\n",
              "      <th>Installs</th>\n",
              "      <th>Type</th>\n",
              "      <th>Price</th>\n",
              "      <th>Content Rating</th>\n",
              "      <th>Genres</th>\n",
              "      <th>Last Updated</th>\n",
              "      <th>Current Ver</th>\n",
              "      <th>Android Ver</th>\n",
              "    </tr>\n",
              "  </thead>\n",
              "  <tbody>\n",
              "    <tr>\n",
              "      <th>229</th>\n",
              "      <td>Quick PDF Scanner + OCR FREE</td>\n",
              "      <td>BUSINESS</td>\n",
              "      <td>4.2</td>\n",
              "      <td>80805</td>\n",
              "      <td>Varies with device</td>\n",
              "      <td>5,000,000+</td>\n",
              "      <td>Free</td>\n",
              "      <td>0</td>\n",
              "      <td>Everyone</td>\n",
              "      <td>Business</td>\n",
              "      <td>February 26, 2018</td>\n",
              "      <td>Varies with device</td>\n",
              "      <td>4.0.3 and up</td>\n",
              "    </tr>\n",
              "    <tr>\n",
              "      <th>236</th>\n",
              "      <td>Box</td>\n",
              "      <td>BUSINESS</td>\n",
              "      <td>4.2</td>\n",
              "      <td>159872</td>\n",
              "      <td>Varies with device</td>\n",
              "      <td>10,000,000+</td>\n",
              "      <td>Free</td>\n",
              "      <td>0</td>\n",
              "      <td>Everyone</td>\n",
              "      <td>Business</td>\n",
              "      <td>July 31, 2018</td>\n",
              "      <td>Varies with device</td>\n",
              "      <td>Varies with device</td>\n",
              "    </tr>\n",
              "    <tr>\n",
              "      <th>239</th>\n",
              "      <td>Google My Business</td>\n",
              "      <td>BUSINESS</td>\n",
              "      <td>4.4</td>\n",
              "      <td>70991</td>\n",
              "      <td>Varies with device</td>\n",
              "      <td>5,000,000+</td>\n",
              "      <td>Free</td>\n",
              "      <td>0</td>\n",
              "      <td>Everyone</td>\n",
              "      <td>Business</td>\n",
              "      <td>July 24, 2018</td>\n",
              "      <td>2.19.0.204537701</td>\n",
              "      <td>4.4 and up</td>\n",
              "    </tr>\n",
              "    <tr>\n",
              "      <th>256</th>\n",
              "      <td>ZOOM Cloud Meetings</td>\n",
              "      <td>BUSINESS</td>\n",
              "      <td>4.4</td>\n",
              "      <td>31614</td>\n",
              "      <td>37M</td>\n",
              "      <td>10,000,000+</td>\n",
              "      <td>Free</td>\n",
              "      <td>0</td>\n",
              "      <td>Everyone</td>\n",
              "      <td>Business</td>\n",
              "      <td>July 20, 2018</td>\n",
              "      <td>4.1.28165.0716</td>\n",
              "      <td>4.0 and up</td>\n",
              "    </tr>\n",
              "    <tr>\n",
              "      <th>261</th>\n",
              "      <td>join.me - Simple Meetings</td>\n",
              "      <td>BUSINESS</td>\n",
              "      <td>4.0</td>\n",
              "      <td>6989</td>\n",
              "      <td>Varies with device</td>\n",
              "      <td>1,000,000+</td>\n",
              "      <td>Free</td>\n",
              "      <td>0</td>\n",
              "      <td>Everyone</td>\n",
              "      <td>Business</td>\n",
              "      <td>July 16, 2018</td>\n",
              "      <td>4.3.0.508</td>\n",
              "      <td>4.4 and up</td>\n",
              "    </tr>\n",
              "    <tr>\n",
              "      <th>...</th>\n",
              "      <td>...</td>\n",
              "      <td>...</td>\n",
              "      <td>...</td>\n",
              "      <td>...</td>\n",
              "      <td>...</td>\n",
              "      <td>...</td>\n",
              "      <td>...</td>\n",
              "      <td>...</td>\n",
              "      <td>...</td>\n",
              "      <td>...</td>\n",
              "      <td>...</td>\n",
              "      <td>...</td>\n",
              "      <td>...</td>\n",
              "    </tr>\n",
              "    <tr>\n",
              "      <th>10715</th>\n",
              "      <td>FarmersOnly Dating</td>\n",
              "      <td>DATING</td>\n",
              "      <td>3.0</td>\n",
              "      <td>1145</td>\n",
              "      <td>1.4M</td>\n",
              "      <td>100,000+</td>\n",
              "      <td>Free</td>\n",
              "      <td>0</td>\n",
              "      <td>Mature 17+</td>\n",
              "      <td>Dating</td>\n",
              "      <td>February 25, 2016</td>\n",
              "      <td>2.2</td>\n",
              "      <td>4.0 and up</td>\n",
              "    </tr>\n",
              "    <tr>\n",
              "      <th>10720</th>\n",
              "      <td>Firefox Focus: The privacy browser</td>\n",
              "      <td>COMMUNICATION</td>\n",
              "      <td>4.4</td>\n",
              "      <td>36981</td>\n",
              "      <td>4.0M</td>\n",
              "      <td>1,000,000+</td>\n",
              "      <td>Free</td>\n",
              "      <td>0</td>\n",
              "      <td>Everyone</td>\n",
              "      <td>Communication</td>\n",
              "      <td>July 6, 2018</td>\n",
              "      <td>5.2</td>\n",
              "      <td>5.0 and up</td>\n",
              "    </tr>\n",
              "    <tr>\n",
              "      <th>10730</th>\n",
              "      <td>FP Notebook</td>\n",
              "      <td>MEDICAL</td>\n",
              "      <td>4.5</td>\n",
              "      <td>410</td>\n",
              "      <td>60M</td>\n",
              "      <td>50,000+</td>\n",
              "      <td>Free</td>\n",
              "      <td>0</td>\n",
              "      <td>Everyone</td>\n",
              "      <td>Medical</td>\n",
              "      <td>March 24, 2018</td>\n",
              "      <td>2.1.0.372</td>\n",
              "      <td>4.4 and up</td>\n",
              "    </tr>\n",
              "    <tr>\n",
              "      <th>10753</th>\n",
              "      <td>Slickdeals: Coupons &amp; Shopping</td>\n",
              "      <td>SHOPPING</td>\n",
              "      <td>4.5</td>\n",
              "      <td>33599</td>\n",
              "      <td>12M</td>\n",
              "      <td>1,000,000+</td>\n",
              "      <td>Free</td>\n",
              "      <td>0</td>\n",
              "      <td>Everyone</td>\n",
              "      <td>Shopping</td>\n",
              "      <td>July 30, 2018</td>\n",
              "      <td>3.9</td>\n",
              "      <td>4.4 and up</td>\n",
              "    </tr>\n",
              "    <tr>\n",
              "      <th>10768</th>\n",
              "      <td>AAFP</td>\n",
              "      <td>MEDICAL</td>\n",
              "      <td>3.8</td>\n",
              "      <td>63</td>\n",
              "      <td>24M</td>\n",
              "      <td>10,000+</td>\n",
              "      <td>Free</td>\n",
              "      <td>0</td>\n",
              "      <td>Everyone</td>\n",
              "      <td>Medical</td>\n",
              "      <td>June 22, 2018</td>\n",
              "      <td>2.3.1</td>\n",
              "      <td>5.0 and up</td>\n",
              "    </tr>\n",
              "  </tbody>\n",
              "</table>\n",
              "<p>1181 rows × 13 columns</p>\n",
              "</div>\n",
              "      <button class=\"colab-df-convert\" onclick=\"convertToInteractive('df-775152df-ef31-447b-8096-00c36a8b4797')\"\n",
              "              title=\"Convert this dataframe to an interactive table.\"\n",
              "              style=\"display:none;\">\n",
              "        \n",
              "  <svg xmlns=\"http://www.w3.org/2000/svg\" height=\"24px\"viewBox=\"0 0 24 24\"\n",
              "       width=\"24px\">\n",
              "    <path d=\"M0 0h24v24H0V0z\" fill=\"none\"/>\n",
              "    <path d=\"M18.56 5.44l.94 2.06.94-2.06 2.06-.94-2.06-.94-.94-2.06-.94 2.06-2.06.94zm-11 1L8.5 8.5l.94-2.06 2.06-.94-2.06-.94L8.5 2.5l-.94 2.06-2.06.94zm10 10l.94 2.06.94-2.06 2.06-.94-2.06-.94-.94-2.06-.94 2.06-2.06.94z\"/><path d=\"M17.41 7.96l-1.37-1.37c-.4-.4-.92-.59-1.43-.59-.52 0-1.04.2-1.43.59L10.3 9.45l-7.72 7.72c-.78.78-.78 2.05 0 2.83L4 21.41c.39.39.9.59 1.41.59.51 0 1.02-.2 1.41-.59l7.78-7.78 2.81-2.81c.8-.78.8-2.07 0-2.86zM5.41 20L4 18.59l7.72-7.72 1.47 1.35L5.41 20z\"/>\n",
              "  </svg>\n",
              "      </button>\n",
              "      \n",
              "  <style>\n",
              "    .colab-df-container {\n",
              "      display:flex;\n",
              "      flex-wrap:wrap;\n",
              "      gap: 12px;\n",
              "    }\n",
              "\n",
              "    .colab-df-convert {\n",
              "      background-color: #E8F0FE;\n",
              "      border: none;\n",
              "      border-radius: 50%;\n",
              "      cursor: pointer;\n",
              "      display: none;\n",
              "      fill: #1967D2;\n",
              "      height: 32px;\n",
              "      padding: 0 0 0 0;\n",
              "      width: 32px;\n",
              "    }\n",
              "\n",
              "    .colab-df-convert:hover {\n",
              "      background-color: #E2EBFA;\n",
              "      box-shadow: 0px 1px 2px rgba(60, 64, 67, 0.3), 0px 1px 3px 1px rgba(60, 64, 67, 0.15);\n",
              "      fill: #174EA6;\n",
              "    }\n",
              "\n",
              "    [theme=dark] .colab-df-convert {\n",
              "      background-color: #3B4455;\n",
              "      fill: #D2E3FC;\n",
              "    }\n",
              "\n",
              "    [theme=dark] .colab-df-convert:hover {\n",
              "      background-color: #434B5C;\n",
              "      box-shadow: 0px 1px 3px 1px rgba(0, 0, 0, 0.15);\n",
              "      filter: drop-shadow(0px 1px 2px rgba(0, 0, 0, 0.3));\n",
              "      fill: #FFFFFF;\n",
              "    }\n",
              "  </style>\n",
              "\n",
              "      <script>\n",
              "        const buttonEl =\n",
              "          document.querySelector('#df-775152df-ef31-447b-8096-00c36a8b4797 button.colab-df-convert');\n",
              "        buttonEl.style.display =\n",
              "          google.colab.kernel.accessAllowed ? 'block' : 'none';\n",
              "\n",
              "        async function convertToInteractive(key) {\n",
              "          const element = document.querySelector('#df-775152df-ef31-447b-8096-00c36a8b4797');\n",
              "          const dataTable =\n",
              "            await google.colab.kernel.invokeFunction('convertToInteractive',\n",
              "                                                     [key], {});\n",
              "          if (!dataTable) return;\n",
              "\n",
              "          const docLinkHtml = 'Like what you see? Visit the ' +\n",
              "            '<a target=\"_blank\" href=https://colab.research.google.com/notebooks/data_table.ipynb>data table notebook</a>'\n",
              "            + ' to learn more about interactive tables.';\n",
              "          element.innerHTML = '';\n",
              "          dataTable['output_type'] = 'display_data';\n",
              "          await google.colab.output.renderOutput(dataTable, element);\n",
              "          const docLink = document.createElement('div');\n",
              "          docLink.innerHTML = docLinkHtml;\n",
              "          element.appendChild(docLink);\n",
              "        }\n",
              "      </script>\n",
              "    </div>\n",
              "  </div>\n",
              "  "
            ]
          },
          "metadata": {},
          "execution_count": 9
        }
      ]
    },
    {
      "cell_type": "markdown",
      "source": [
        "### Droping the duplicates"
      ],
      "metadata": {
        "id": "g--PFOMNlxYn"
      }
    },
    {
      "cell_type": "code",
      "source": [
        "df_new = df_new.drop_duplicates('App') "
      ],
      "metadata": {
        "id": "2eQ-EhElkKMH"
      },
      "execution_count": 10,
      "outputs": []
    },
    {
      "cell_type": "code",
      "source": [
        "df_new.info()\n"
      ],
      "metadata": {
        "id": "wk7A7tZCXkSA",
        "colab": {
          "base_uri": "https://localhost:8080/"
        },
        "outputId": "fafb6660-c3f6-4b3e-97b0-625b7bae3a86"
      },
      "execution_count": 11,
      "outputs": [
        {
          "output_type": "stream",
          "name": "stdout",
          "text": [
            "<class 'pandas.core.frame.DataFrame'>\n",
            "Int64Index: 9660 entries, 0 to 10840\n",
            "Data columns (total 13 columns):\n",
            " #   Column          Non-Null Count  Dtype  \n",
            "---  ------          --------------  -----  \n",
            " 0   App             9660 non-null   object \n",
            " 1   Category        9660 non-null   object \n",
            " 2   Rating          8197 non-null   float64\n",
            " 3   Reviews         9660 non-null   object \n",
            " 4   Size            9660 non-null   object \n",
            " 5   Installs        9660 non-null   object \n",
            " 6   Type            9659 non-null   object \n",
            " 7   Price           9660 non-null   object \n",
            " 8   Content Rating  9659 non-null   object \n",
            " 9   Genres          9660 non-null   object \n",
            " 10  Last Updated    9660 non-null   object \n",
            " 11  Current Ver     9652 non-null   object \n",
            " 12  Android Ver     9657 non-null   object \n",
            "dtypes: float64(1), object(12)\n",
            "memory usage: 1.0+ MB\n"
          ]
        }
      ]
    },
    {
      "cell_type": "markdown",
      "source": [
        "###Find null values"
      ],
      "metadata": {
        "id": "2dA4a__6DqAY"
      }
    },
    {
      "cell_type": "code",
      "source": [
        "df_new.isna().sum()"
      ],
      "metadata": {
        "colab": {
          "base_uri": "https://localhost:8080/"
        },
        "id": "2DzFKGuID3Dm",
        "outputId": "fc3393de-95ee-401f-8408-baaba53007e2"
      },
      "execution_count": 12,
      "outputs": [
        {
          "output_type": "execute_result",
          "data": {
            "text/plain": [
              "App                  0\n",
              "Category             0\n",
              "Rating            1463\n",
              "Reviews              0\n",
              "Size                 0\n",
              "Installs             0\n",
              "Type                 1\n",
              "Price                0\n",
              "Content Rating       1\n",
              "Genres               0\n",
              "Last Updated         0\n",
              "Current Ver          8\n",
              "Android Ver          3\n",
              "dtype: int64"
            ]
          },
          "metadata": {},
          "execution_count": 12
        }
      ]
    },
    {
      "cell_type": "code",
      "source": [
        "#For minimize the lossing data we fill the null values in (Rating) column by mean through catagory wise.\n",
        "df_new['Rating'].fillna(df_new.groupby('Category')['Rating'].transform('mean'),inplace=True)"
      ],
      "metadata": {
        "id": "kXYp-qUJEWKs",
        "colab": {
          "base_uri": "https://localhost:8080/"
        },
        "outputId": "a926ee7d-05aa-40a6-c71f-f8058cc75760"
      },
      "execution_count": 13,
      "outputs": [
        {
          "output_type": "stream",
          "name": "stderr",
          "text": [
            "/usr/local/lib/python3.7/dist-packages/pandas/core/generic.py:6392: SettingWithCopyWarning: \n",
            "A value is trying to be set on a copy of a slice from a DataFrame\n",
            "\n",
            "See the caveats in the documentation: https://pandas.pydata.org/pandas-docs/stable/user_guide/indexing.html#returning-a-view-versus-a-copy\n",
            "  return self._update_inplace(result)\n"
          ]
        }
      ]
    },
    {
      "cell_type": "code",
      "source": [
        "df_new.isna().sum()"
      ],
      "metadata": {
        "colab": {
          "base_uri": "https://localhost:8080/"
        },
        "id": "u01kj9XKGwSS",
        "outputId": "003caeed-32c7-4fda-dbf8-494efb286e4c"
      },
      "execution_count": 14,
      "outputs": [
        {
          "output_type": "execute_result",
          "data": {
            "text/plain": [
              "App               0\n",
              "Category          0\n",
              "Rating            0\n",
              "Reviews           0\n",
              "Size              0\n",
              "Installs          0\n",
              "Type              1\n",
              "Price             0\n",
              "Content Rating    1\n",
              "Genres            0\n",
              "Last Updated      0\n",
              "Current Ver       8\n",
              "Android Ver       3\n",
              "dtype: int64"
            ]
          },
          "metadata": {},
          "execution_count": 14
        }
      ]
    },
    {
      "cell_type": "markdown",
      "source": [
        "###Dropping other null rows"
      ],
      "metadata": {
        "id": "g0mwo8raHLlV"
      }
    },
    {
      "cell_type": "code",
      "source": [
        "df_new.dropna(inplace=True)"
      ],
      "metadata": {
        "id": "usf5MfozHTsy"
      },
      "execution_count": 15,
      "outputs": []
    },
    {
      "cell_type": "markdown",
      "source": [
        "## correcting the data types\n",
        "### Which all variables need to be brought to numeric types?\n",
        "### Installs\n",
        "### size\n",
        "### Reviews\n",
        "### Price"
      ],
      "metadata": {
        "id": "hmlzCMEFc5Mx"
      }
    },
    {
      "cell_type": "markdown",
      "source": [
        "### Convert the 'Installs' column to int type"
      ],
      "metadata": {
        "id": "dfdrtMeCRlYc"
      }
    },
    {
      "cell_type": "code",
      "source": [
        "df_new['Installs'] = df_new['Installs'].apply(lambda x:x .replace('+',''))     #replacing '+' sign from each intalls values \n",
        "df_new['Installs'] = df_new['Installs'].apply(lambda x:x .replace(',',''))\n",
        "df_new['Installs'] = df_new['Installs'].astype(int)\n"
      ],
      "metadata": {
        "id": "AdKRA-hNR9uZ"
      },
      "execution_count": 16,
      "outputs": []
    },
    {
      "cell_type": "markdown",
      "source": [
        "###Convert 'Size' column to float type and all values in Megabytes "
      ],
      "metadata": {
        "id": "_QnB7fEfgAzC"
      }
    },
    {
      "cell_type": "code",
      "source": [
        "#replacing the string 'Varies with device' into NaN value and leter filled by mean value catagory wise\n",
        "df_new['Size'].replace('Varies with device', np.nan, inplace = True)\n",
        "df_new['Size'] =df_new['Size'].apply(lambda x:str(x).replace('M',''))\n",
        "df_new['Size'] =df_new['Size'].apply(lambda x:str(x).replace('k','e-3')) #replace k(kilobytes) to megabytes\n",
        "df_new['Size'] =df_new['Size'].astype(float) #convert to float\n",
        "df_new['Size'].fillna(df_new.groupby('Category')['Size'].transform('mean'),inplace = True) #fill NaN values with mean of the size of the apps by its category respectively"
      ],
      "metadata": {
        "id": "vgCE-Qkbigfr"
      },
      "execution_count": 17,
      "outputs": []
    },
    {
      "cell_type": "code",
      "source": [
        "df_new['Size'].unique() #unique values in 'Size' column"
      ],
      "metadata": {
        "colab": {
          "base_uri": "https://localhost:8080/"
        },
        "id": "yUiRh5WMtHM0",
        "outputId": "998842f1-75a8-46c0-829b-97f8cd8d2142"
      },
      "execution_count": 18,
      "outputs": [
        {
          "output_type": "execute_result",
          "data": {
            "text/plain": [
              "array([1.90000000e+01, 1.40000000e+01, 8.70000000e+00, 2.50000000e+01,\n",
              "       2.80000000e+00, 5.60000000e+00, 2.90000000e+01, 3.30000000e+01,\n",
              "       3.10000000e+00, 2.80000000e+01, 1.20000000e+01, 2.00000000e+01,\n",
              "       2.10000000e+01, 3.70000000e+01, 5.50000000e+00, 1.70000000e+01,\n",
              "       3.90000000e+01, 3.10000000e+01, 4.20000000e+00, 7.00000000e+00,\n",
              "       2.30000000e+01, 6.00000000e+00, 6.10000000e+00, 4.60000000e+00,\n",
              "       9.20000000e+00, 5.20000000e+00, 1.10000000e+01, 2.40000000e+01,\n",
              "       1.25295082e+01, 9.40000000e+00, 1.50000000e+01, 1.00000000e+01,\n",
              "       1.20000000e+00, 2.60000000e+01, 8.00000000e+00, 7.90000000e+00,\n",
              "       5.60000000e+01, 5.70000000e+01, 2.00371467e+01, 3.50000000e+01,\n",
              "       5.40000000e+01, 2.01000000e-01, 3.60000000e+00, 5.70000000e+00,\n",
              "       8.60000000e+00, 2.40000000e+00, 2.70000000e+01, 2.70000000e+00,\n",
              "       2.50000000e+00, 1.60000000e+01, 3.40000000e+00, 8.90000000e+00,\n",
              "       3.90000000e+00, 2.90000000e+00, 3.80000000e+01, 3.20000000e+01,\n",
              "       5.40000000e+00, 1.80000000e+01, 1.10000000e+00, 2.20000000e+00,\n",
              "       4.50000000e+00, 9.80000000e+00, 1.37957447e+01, 5.20000000e+01,\n",
              "       9.00000000e+00, 6.70000000e+00, 3.00000000e+01, 2.60000000e+00,\n",
              "       7.10000000e+00, 3.70000000e+00, 2.20000000e+01, 7.40000000e+00,\n",
              "       6.40000000e+00, 3.20000000e+00, 8.20000000e+00, 9.90000000e+00,\n",
              "       1.31993472e+01, 4.90000000e+00, 9.50000000e+00, 5.00000000e+00,\n",
              "       5.90000000e+00, 1.30000000e+01, 7.30000000e+01, 6.80000000e+00,\n",
              "       3.50000000e+00, 4.00000000e+00, 2.30000000e+00, 7.20000000e+00,\n",
              "       2.10000000e+00, 4.20000000e+01, 7.30000000e+00, 1.38671941e+01,\n",
              "       9.10000000e+00, 5.50000000e+01, 2.30000000e-02, 6.50000000e+00,\n",
              "       1.50000000e+00, 7.50000000e+00, 5.10000000e+01, 4.10000000e+01,\n",
              "       4.80000000e+01, 8.50000000e+00, 4.60000000e+01, 1.37949592e+01,\n",
              "       8.30000000e+00, 4.30000000e+00, 4.70000000e+00, 3.30000000e+00,\n",
              "       4.00000000e+01, 7.80000000e+00, 1.13074298e+01, 8.80000000e+00,\n",
              "       6.60000000e+00, 5.10000000e+00, 6.10000000e+01, 6.60000000e+01,\n",
              "       7.90000000e-02, 8.40000000e+00, 1.18000000e-01, 4.40000000e+01,\n",
              "       6.95000000e-01, 1.60000000e+00, 1.56611195e+01, 6.20000000e+00,\n",
              "       1.80000000e-02, 5.30000000e+01, 1.40000000e+00, 3.00000000e+00,\n",
              "       5.80000000e+00, 3.80000000e+00, 9.60000000e+00, 4.50000000e+01,\n",
              "       6.30000000e+01, 4.90000000e+01, 7.70000000e+01, 4.40000000e+00,\n",
              "       4.80000000e+00, 7.00000000e+01, 6.90000000e+00, 9.30000000e+00,\n",
              "       8.10000000e+00, 3.60000000e+01, 1.90571011e+01, 8.40000000e+01,\n",
              "       9.70000000e+01, 2.00000000e+00, 1.90000000e+00, 1.80000000e+00,\n",
              "       5.30000000e+00, 4.70000000e+01, 5.56000000e-01, 5.26000000e-01,\n",
              "       7.60000000e+01, 7.60000000e+00, 5.90000000e+01, 2.30437500e+01,\n",
              "       9.70000000e+00, 7.80000000e+01, 7.20000000e+01, 4.30000000e+01,\n",
              "       7.70000000e+00, 6.30000000e+00, 1.39637544e+01, 3.34000000e-01,\n",
              "       3.40000000e+01, 1.73681271e+01, 9.30000000e+01, 6.50000000e+01,\n",
              "       7.90000000e+01, 1.00000000e+02, 5.80000000e+01, 5.00000000e+01,\n",
              "       6.80000000e+01, 2.04943182e+01, 6.40000000e+01, 2.06697069e+01,\n",
              "       6.70000000e+01, 6.00000000e+01, 9.40000000e+01, 1.59702581e+01,\n",
              "       1.07352812e+01, 2.32000000e-01, 9.90000000e+01, 6.24000000e-01,\n",
              "       9.50000000e+01, 8.50000000e-03, 4.10000000e-02, 2.92000000e-01,\n",
              "       8.00000000e+01, 1.70000000e+00, 1.48449162e+01, 7.40000000e+01,\n",
              "       4.18666094e+01, 6.20000000e+01, 6.90000000e+01, 7.50000000e+01,\n",
              "       9.80000000e+01, 8.50000000e+01, 8.20000000e+01, 9.60000000e+01,\n",
              "       8.70000000e+01, 7.10000000e+01, 8.60000000e+01, 9.10000000e+01,\n",
              "       8.10000000e+01, 9.20000000e+01, 8.30000000e+01, 8.80000000e+01,\n",
              "       2.72228932e+01, 7.04000000e-01, 1.91893995e+01, 8.62000000e-01,\n",
              "       8.99000000e-01, 3.78000000e-01, 2.66000000e-01, 3.75000000e-01,\n",
              "       1.30000000e+00, 9.75000000e-01, 9.80000000e-01, 1.59840899e+01,\n",
              "       4.10000000e+00, 8.90000000e+01, 1.54914345e+01, 1.56661577e+01,\n",
              "       2.40583614e+01, 2.42044104e+01, 8.79467353e+00, 6.96000000e-01,\n",
              "       5.44000000e-01, 5.25000000e-01, 1.12514126e+01, 9.20000000e-01,\n",
              "       7.79000000e-01, 8.53000000e-01, 1.23425052e+01, 7.20000000e-01,\n",
              "       7.13000000e-01, 2.25129630e+01, 1.26800357e+01, 1.57927559e+01,\n",
              "       1.24701891e+01, 1.63681215e+01, 7.72000000e-01, 3.18000000e-01,\n",
              "       5.80000000e-02, 2.41000000e-01, 1.96000000e-01, 8.57000000e-01,\n",
              "       5.10000000e-02, 9.53000000e-01, 8.65000000e-01, 2.51000000e-01,\n",
              "       9.30000000e-01, 5.40000000e-01, 3.13000000e-01, 7.46000000e-01,\n",
              "       2.03000000e-01, 2.60000000e-02, 3.14000000e-01, 2.39000000e-01,\n",
              "       3.71000000e-01, 2.20000000e-01, 7.30000000e-01, 7.56000000e-01,\n",
              "       9.10000000e-02, 2.93000000e-01, 1.70000000e-02, 7.40000000e-02,\n",
              "       1.40000000e-02, 3.17000000e-01, 7.80000000e-02, 9.24000000e-01,\n",
              "       9.02000000e-01, 8.18000000e-01, 8.10000000e-02, 9.39000000e-01,\n",
              "       1.69000000e-01, 4.50000000e-02, 4.75000000e-01, 9.65000000e-01,\n",
              "       9.00000000e+01, 5.45000000e-01, 6.10000000e-02, 2.83000000e-01,\n",
              "       6.55000000e-01, 7.14000000e-01, 9.30000000e-02, 8.72000000e-01,\n",
              "       1.21000000e-01, 3.22000000e-01, 1.00000000e+00, 9.76000000e-01,\n",
              "       1.72000000e-01, 2.38000000e-01, 5.49000000e-01, 2.06000000e-01,\n",
              "       9.54000000e-01, 4.44000000e-01, 7.17000000e-01, 2.10000000e-01,\n",
              "       6.09000000e-01, 3.08000000e-01, 7.05000000e-01, 3.06000000e-01,\n",
              "       9.04000000e-01, 4.73000000e-01, 1.75000000e-01, 3.50000000e-01,\n",
              "       3.83000000e-01, 4.54000000e-01, 4.21000000e-01, 7.00000000e-02,\n",
              "       8.12000000e-01, 4.42000000e-01, 8.42000000e-01, 4.17000000e-01,\n",
              "       4.12000000e-01, 4.59000000e-01, 4.78000000e-01, 3.35000000e-01,\n",
              "       7.82000000e-01, 7.21000000e-01, 4.30000000e-01, 4.29000000e-01,\n",
              "       1.92000000e-01, 2.00000000e-01, 4.60000000e-01, 7.28000000e-01,\n",
              "       4.96000000e-01, 8.16000000e-01, 4.14000000e-01, 5.06000000e-01,\n",
              "       8.87000000e-01, 6.13000000e-01, 2.43000000e-01, 5.69000000e-01,\n",
              "       7.78000000e-01, 6.83000000e-01, 5.92000000e-01, 3.19000000e-01,\n",
              "       1.86000000e-01, 8.40000000e-01, 6.47000000e-01, 1.91000000e-01,\n",
              "       3.73000000e-01, 4.37000000e-01, 5.98000000e-01, 7.16000000e-01,\n",
              "       5.85000000e-01, 9.82000000e-01, 2.19000000e-01, 5.50000000e-02,\n",
              "       9.48000000e-01, 3.23000000e-01, 6.91000000e-01, 5.11000000e-01,\n",
              "       9.51000000e-01, 9.63000000e-01, 2.50000000e-02, 5.54000000e-01,\n",
              "       3.51000000e-01, 2.70000000e-02, 8.20000000e-02, 2.08000000e-01,\n",
              "       9.13000000e-01, 5.14000000e-01, 5.51000000e-01, 2.90000000e-02,\n",
              "       1.03000000e-01, 8.98000000e-01, 7.43000000e-01, 1.16000000e-01,\n",
              "       1.53000000e-01, 2.09000000e-01, 3.53000000e-01, 4.99000000e-01,\n",
              "       1.73000000e-01, 5.97000000e-01, 8.09000000e-01, 1.22000000e-01,\n",
              "       4.11000000e-01, 4.00000000e-01, 8.01000000e-01, 7.87000000e-01,\n",
              "       5.00000000e-02, 6.43000000e-01, 9.86000000e-01, 9.70000000e-02,\n",
              "       5.16000000e-01, 8.37000000e-01, 7.80000000e-01, 9.61000000e-01,\n",
              "       2.69000000e-01, 2.00000000e-02, 4.98000000e-01, 6.00000000e-01,\n",
              "       7.49000000e-01, 6.42000000e-01, 8.81000000e-01, 7.20000000e-02,\n",
              "       6.56000000e-01, 6.01000000e-01, 2.21000000e-01, 2.28000000e-01,\n",
              "       1.08000000e-01, 9.40000000e-01, 1.76000000e-01, 3.30000000e-02,\n",
              "       6.63000000e-01, 3.40000000e-02, 9.42000000e-01, 2.59000000e-01,\n",
              "       1.64000000e-01, 4.58000000e-01, 2.45000000e-01, 6.29000000e-01,\n",
              "       2.80000000e-02, 2.88000000e-01, 7.75000000e-01, 7.85000000e-01,\n",
              "       6.36000000e-01, 9.16000000e-01, 9.94000000e-01, 3.09000000e-01,\n",
              "       4.85000000e-01, 9.14000000e-01, 9.03000000e-01, 6.08000000e-01,\n",
              "       5.00000000e-01, 5.40000000e-02, 5.62000000e-01, 8.47000000e-01,\n",
              "       9.57000000e-01, 6.88000000e-01, 8.11000000e-01, 2.70000000e-01,\n",
              "       4.80000000e-02, 3.29000000e-01, 5.23000000e-01, 9.21000000e-01,\n",
              "       8.74000000e-01, 9.81000000e-01, 7.84000000e-01, 2.80000000e-01,\n",
              "       2.40000000e-02, 5.18000000e-01, 7.54000000e-01, 8.92000000e-01,\n",
              "       1.54000000e-01, 8.60000000e-01, 3.64000000e-01, 3.87000000e-01,\n",
              "       6.26000000e-01, 1.61000000e-01, 8.79000000e-01, 3.90000000e-02,\n",
              "       9.70000000e-01, 1.70000000e-01, 1.41000000e-01, 1.60000000e-01,\n",
              "       1.44000000e-01, 1.43000000e-01, 1.90000000e-01, 3.76000000e-01,\n",
              "       1.93000000e-01, 2.46000000e-01, 7.30000000e-02, 9.92000000e-01,\n",
              "       2.53000000e-01, 4.20000000e-01, 4.04000000e-01, 4.70000000e-01,\n",
              "       2.26000000e-01, 2.40000000e-01, 8.90000000e-02, 2.34000000e-01,\n",
              "       2.57000000e-01, 8.61000000e-01, 4.67000000e-01, 1.57000000e-01,\n",
              "       4.40000000e-02, 6.76000000e-01, 6.70000000e-02, 5.52000000e-01,\n",
              "       8.85000000e-01, 1.02000000e+00, 5.82000000e-01, 6.19000000e-01])"
            ]
          },
          "metadata": {},
          "execution_count": 18
        }
      ]
    },
    {
      "cell_type": "markdown",
      "source": [
        ""
      ],
      "metadata": {
        "id": "EuSJ6h0QbbAZ"
      }
    },
    {
      "cell_type": "markdown",
      "source": [
        "###Convert Price column object to number type"
      ],
      "metadata": {
        "id": "EKc3nKqG20dN"
      }
    },
    {
      "cell_type": "code",
      "source": [
        "df_new['Price']=df_new['Price'].apply(lambda x:x.replace('$',''))\n",
        "df_new['Price']=df_new['Price'].astype(float)"
      ],
      "metadata": {
        "id": "11-z0Wj0vREt"
      },
      "execution_count": 19,
      "outputs": []
    },
    {
      "cell_type": "markdown",
      "source": [
        "convert Reviews column to numaric"
      ],
      "metadata": {
        "id": "xvctx8kz61M-"
      }
    },
    {
      "cell_type": "code",
      "source": [
        "df_new['Reviews'] =df_new['Reviews'].astype(int)"
      ],
      "metadata": {
        "id": "DB31PRvuz8pp"
      },
      "execution_count": 20,
      "outputs": []
    },
    {
      "cell_type": "markdown",
      "source": [
        "# Sanity cheak\n",
        "##1.Avg rating should be between 1 and 5,only these values are allowed on the playstore.\n",
        "###Are there any such records?drop if so"
      ],
      "metadata": {
        "id": "ujWSYa0D7j9F"
      }
    },
    {
      "cell_type": "code",
      "source": [
        "(df_new['Rating']<1).sum()"
      ],
      "metadata": {
        "colab": {
          "base_uri": "https://localhost:8080/"
        },
        "id": "SaRvRnOS7jLl",
        "outputId": "15518eb5-4b8a-4bd2-a6d2-ccb81f07d9da"
      },
      "execution_count": 21,
      "outputs": [
        {
          "output_type": "execute_result",
          "data": {
            "text/plain": [
              "0"
            ]
          },
          "metadata": {},
          "execution_count": 21
        }
      ]
    },
    {
      "cell_type": "code",
      "source": [
        "(df_new['Rating']>5).sum()"
      ],
      "metadata": {
        "colab": {
          "base_uri": "https://localhost:8080/"
        },
        "id": "-54-pQqaz8bU",
        "outputId": "7e743948-da27-453d-f580-f4f52cd437d0"
      },
      "execution_count": 22,
      "outputs": [
        {
          "output_type": "execute_result",
          "data": {
            "text/plain": [
              "0"
            ]
          },
          "metadata": {},
          "execution_count": 22
        }
      ]
    },
    {
      "cell_type": "markdown",
      "source": [
        "##2.Reviews should not be more than installs as only those who installed can review the app\n",
        "###Are there any such records? Drop if so."
      ],
      "metadata": {
        "id": "DrhvZYi3-OVY"
      }
    },
    {
      "cell_type": "code",
      "source": [
        "df_new[df_new['Reviews'] > df_new['Installs']]"
      ],
      "metadata": {
        "colab": {
          "base_uri": "https://localhost:8080/",
          "height": 646
        },
        "id": "v-wP1NhfCNey",
        "outputId": "0b4fd99d-3746-4ecf-e3e8-ffac0bbd3d08"
      },
      "execution_count": 23,
      "outputs": [
        {
          "output_type": "execute_result",
          "data": {
            "text/plain": [
              "                                     App         Category    Rating  Reviews  \\\n",
              "2454                 KBA-EZ Health Guide          MEDICAL  5.000000        4   \n",
              "4550   RMEduS - 음성인식을 활용한 R 프로그래밍 실습 시스템           FAMILY  4.179664        4   \n",
              "4663       Alarmy (Sleep If U Can) - Pro        LIFESTYLE  4.800000    10249   \n",
              "5812             AX Watch for WatchMaker  PERSONALIZATION  4.332215        2   \n",
              "5917                            Ra Ga Ba             GAME  5.000000        2   \n",
              "6508                          Sam.BN Pro            TOOLS  4.039554       11   \n",
              "6700                    Brick Breaker BR             GAME  5.000000        7   \n",
              "7402                Trovami se ci riesci             GAME  5.000000       11   \n",
              "8591                             DN Blog           SOCIAL  5.000000       20   \n",
              "9096                           DZ Puzzle           FAMILY  4.179664       14   \n",
              "10697                            Mu.F.O.             GAME  5.000000        2   \n",
              "\n",
              "            Size  Installs  Type  Price Content Rating           Genres  \\\n",
              "2454   25.000000         1  Free   0.00       Everyone          Medical   \n",
              "4550   64.000000         1  Free   0.00       Everyone        Education   \n",
              "4663   14.844916     10000  Paid   2.49       Everyone        Lifestyle   \n",
              "5812    0.238000         1  Paid   0.99       Everyone  Personalization   \n",
              "5917   20.000000         1  Paid   1.49       Everyone           Arcade   \n",
              "6508    2.000000        10  Paid   0.99       Everyone            Tools   \n",
              "6700   19.000000         5  Free   0.00       Everyone           Arcade   \n",
              "7402    6.100000        10  Free   0.00       Everyone           Arcade   \n",
              "8591    4.200000        10  Free   0.00           Teen           Social   \n",
              "9096   47.000000        10  Paid   0.99       Everyone           Puzzle   \n",
              "10697  16.000000         1  Paid   0.99       Everyone           Arcade   \n",
              "\n",
              "           Last Updated         Current Ver         Android Ver  \n",
              "2454     August 2, 2018              1.0.72        4.0.3 and up  \n",
              "4550      July 17, 2018               1.0.1          4.4 and up  \n",
              "4663      July 30, 2018  Varies with device  Varies with device  \n",
              "5812    August 18, 2017                 1.0          2.3 and up  \n",
              "5917   February 8, 2017               1.0.4          2.3 and up  \n",
              "6508     March 27, 2015               1.0.0        4.0.3 and up  \n",
              "6700      July 23, 2018                 1.0          4.1 and up  \n",
              "7402     March 11, 2017                 0.1          2.3 and up  \n",
              "8591      July 23, 2018                 1.0          4.0 and up  \n",
              "9096     April 22, 2017                 1.2          2.3 and up  \n",
              "10697     March 3, 2017                 1.0          2.3 and up  "
            ],
            "text/html": [
              "\n",
              "  <div id=\"df-6d5147de-ad5b-4502-bc64-e9b3736a38a9\">\n",
              "    <div class=\"colab-df-container\">\n",
              "      <div>\n",
              "<style scoped>\n",
              "    .dataframe tbody tr th:only-of-type {\n",
              "        vertical-align: middle;\n",
              "    }\n",
              "\n",
              "    .dataframe tbody tr th {\n",
              "        vertical-align: top;\n",
              "    }\n",
              "\n",
              "    .dataframe thead th {\n",
              "        text-align: right;\n",
              "    }\n",
              "</style>\n",
              "<table border=\"1\" class=\"dataframe\">\n",
              "  <thead>\n",
              "    <tr style=\"text-align: right;\">\n",
              "      <th></th>\n",
              "      <th>App</th>\n",
              "      <th>Category</th>\n",
              "      <th>Rating</th>\n",
              "      <th>Reviews</th>\n",
              "      <th>Size</th>\n",
              "      <th>Installs</th>\n",
              "      <th>Type</th>\n",
              "      <th>Price</th>\n",
              "      <th>Content Rating</th>\n",
              "      <th>Genres</th>\n",
              "      <th>Last Updated</th>\n",
              "      <th>Current Ver</th>\n",
              "      <th>Android Ver</th>\n",
              "    </tr>\n",
              "  </thead>\n",
              "  <tbody>\n",
              "    <tr>\n",
              "      <th>2454</th>\n",
              "      <td>KBA-EZ Health Guide</td>\n",
              "      <td>MEDICAL</td>\n",
              "      <td>5.000000</td>\n",
              "      <td>4</td>\n",
              "      <td>25.000000</td>\n",
              "      <td>1</td>\n",
              "      <td>Free</td>\n",
              "      <td>0.00</td>\n",
              "      <td>Everyone</td>\n",
              "      <td>Medical</td>\n",
              "      <td>August 2, 2018</td>\n",
              "      <td>1.0.72</td>\n",
              "      <td>4.0.3 and up</td>\n",
              "    </tr>\n",
              "    <tr>\n",
              "      <th>4550</th>\n",
              "      <td>RMEduS - 음성인식을 활용한 R 프로그래밍 실습 시스템</td>\n",
              "      <td>FAMILY</td>\n",
              "      <td>4.179664</td>\n",
              "      <td>4</td>\n",
              "      <td>64.000000</td>\n",
              "      <td>1</td>\n",
              "      <td>Free</td>\n",
              "      <td>0.00</td>\n",
              "      <td>Everyone</td>\n",
              "      <td>Education</td>\n",
              "      <td>July 17, 2018</td>\n",
              "      <td>1.0.1</td>\n",
              "      <td>4.4 and up</td>\n",
              "    </tr>\n",
              "    <tr>\n",
              "      <th>4663</th>\n",
              "      <td>Alarmy (Sleep If U Can) - Pro</td>\n",
              "      <td>LIFESTYLE</td>\n",
              "      <td>4.800000</td>\n",
              "      <td>10249</td>\n",
              "      <td>14.844916</td>\n",
              "      <td>10000</td>\n",
              "      <td>Paid</td>\n",
              "      <td>2.49</td>\n",
              "      <td>Everyone</td>\n",
              "      <td>Lifestyle</td>\n",
              "      <td>July 30, 2018</td>\n",
              "      <td>Varies with device</td>\n",
              "      <td>Varies with device</td>\n",
              "    </tr>\n",
              "    <tr>\n",
              "      <th>5812</th>\n",
              "      <td>AX Watch for WatchMaker</td>\n",
              "      <td>PERSONALIZATION</td>\n",
              "      <td>4.332215</td>\n",
              "      <td>2</td>\n",
              "      <td>0.238000</td>\n",
              "      <td>1</td>\n",
              "      <td>Paid</td>\n",
              "      <td>0.99</td>\n",
              "      <td>Everyone</td>\n",
              "      <td>Personalization</td>\n",
              "      <td>August 18, 2017</td>\n",
              "      <td>1.0</td>\n",
              "      <td>2.3 and up</td>\n",
              "    </tr>\n",
              "    <tr>\n",
              "      <th>5917</th>\n",
              "      <td>Ra Ga Ba</td>\n",
              "      <td>GAME</td>\n",
              "      <td>5.000000</td>\n",
              "      <td>2</td>\n",
              "      <td>20.000000</td>\n",
              "      <td>1</td>\n",
              "      <td>Paid</td>\n",
              "      <td>1.49</td>\n",
              "      <td>Everyone</td>\n",
              "      <td>Arcade</td>\n",
              "      <td>February 8, 2017</td>\n",
              "      <td>1.0.4</td>\n",
              "      <td>2.3 and up</td>\n",
              "    </tr>\n",
              "    <tr>\n",
              "      <th>6508</th>\n",
              "      <td>Sam.BN Pro</td>\n",
              "      <td>TOOLS</td>\n",
              "      <td>4.039554</td>\n",
              "      <td>11</td>\n",
              "      <td>2.000000</td>\n",
              "      <td>10</td>\n",
              "      <td>Paid</td>\n",
              "      <td>0.99</td>\n",
              "      <td>Everyone</td>\n",
              "      <td>Tools</td>\n",
              "      <td>March 27, 2015</td>\n",
              "      <td>1.0.0</td>\n",
              "      <td>4.0.3 and up</td>\n",
              "    </tr>\n",
              "    <tr>\n",
              "      <th>6700</th>\n",
              "      <td>Brick Breaker BR</td>\n",
              "      <td>GAME</td>\n",
              "      <td>5.000000</td>\n",
              "      <td>7</td>\n",
              "      <td>19.000000</td>\n",
              "      <td>5</td>\n",
              "      <td>Free</td>\n",
              "      <td>0.00</td>\n",
              "      <td>Everyone</td>\n",
              "      <td>Arcade</td>\n",
              "      <td>July 23, 2018</td>\n",
              "      <td>1.0</td>\n",
              "      <td>4.1 and up</td>\n",
              "    </tr>\n",
              "    <tr>\n",
              "      <th>7402</th>\n",
              "      <td>Trovami se ci riesci</td>\n",
              "      <td>GAME</td>\n",
              "      <td>5.000000</td>\n",
              "      <td>11</td>\n",
              "      <td>6.100000</td>\n",
              "      <td>10</td>\n",
              "      <td>Free</td>\n",
              "      <td>0.00</td>\n",
              "      <td>Everyone</td>\n",
              "      <td>Arcade</td>\n",
              "      <td>March 11, 2017</td>\n",
              "      <td>0.1</td>\n",
              "      <td>2.3 and up</td>\n",
              "    </tr>\n",
              "    <tr>\n",
              "      <th>8591</th>\n",
              "      <td>DN Blog</td>\n",
              "      <td>SOCIAL</td>\n",
              "      <td>5.000000</td>\n",
              "      <td>20</td>\n",
              "      <td>4.200000</td>\n",
              "      <td>10</td>\n",
              "      <td>Free</td>\n",
              "      <td>0.00</td>\n",
              "      <td>Teen</td>\n",
              "      <td>Social</td>\n",
              "      <td>July 23, 2018</td>\n",
              "      <td>1.0</td>\n",
              "      <td>4.0 and up</td>\n",
              "    </tr>\n",
              "    <tr>\n",
              "      <th>9096</th>\n",
              "      <td>DZ Puzzle</td>\n",
              "      <td>FAMILY</td>\n",
              "      <td>4.179664</td>\n",
              "      <td>14</td>\n",
              "      <td>47.000000</td>\n",
              "      <td>10</td>\n",
              "      <td>Paid</td>\n",
              "      <td>0.99</td>\n",
              "      <td>Everyone</td>\n",
              "      <td>Puzzle</td>\n",
              "      <td>April 22, 2017</td>\n",
              "      <td>1.2</td>\n",
              "      <td>2.3 and up</td>\n",
              "    </tr>\n",
              "    <tr>\n",
              "      <th>10697</th>\n",
              "      <td>Mu.F.O.</td>\n",
              "      <td>GAME</td>\n",
              "      <td>5.000000</td>\n",
              "      <td>2</td>\n",
              "      <td>16.000000</td>\n",
              "      <td>1</td>\n",
              "      <td>Paid</td>\n",
              "      <td>0.99</td>\n",
              "      <td>Everyone</td>\n",
              "      <td>Arcade</td>\n",
              "      <td>March 3, 2017</td>\n",
              "      <td>1.0</td>\n",
              "      <td>2.3 and up</td>\n",
              "    </tr>\n",
              "  </tbody>\n",
              "</table>\n",
              "</div>\n",
              "      <button class=\"colab-df-convert\" onclick=\"convertToInteractive('df-6d5147de-ad5b-4502-bc64-e9b3736a38a9')\"\n",
              "              title=\"Convert this dataframe to an interactive table.\"\n",
              "              style=\"display:none;\">\n",
              "        \n",
              "  <svg xmlns=\"http://www.w3.org/2000/svg\" height=\"24px\"viewBox=\"0 0 24 24\"\n",
              "       width=\"24px\">\n",
              "    <path d=\"M0 0h24v24H0V0z\" fill=\"none\"/>\n",
              "    <path d=\"M18.56 5.44l.94 2.06.94-2.06 2.06-.94-2.06-.94-.94-2.06-.94 2.06-2.06.94zm-11 1L8.5 8.5l.94-2.06 2.06-.94-2.06-.94L8.5 2.5l-.94 2.06-2.06.94zm10 10l.94 2.06.94-2.06 2.06-.94-2.06-.94-.94-2.06-.94 2.06-2.06.94z\"/><path d=\"M17.41 7.96l-1.37-1.37c-.4-.4-.92-.59-1.43-.59-.52 0-1.04.2-1.43.59L10.3 9.45l-7.72 7.72c-.78.78-.78 2.05 0 2.83L4 21.41c.39.39.9.59 1.41.59.51 0 1.02-.2 1.41-.59l7.78-7.78 2.81-2.81c.8-.78.8-2.07 0-2.86zM5.41 20L4 18.59l7.72-7.72 1.47 1.35L5.41 20z\"/>\n",
              "  </svg>\n",
              "      </button>\n",
              "      \n",
              "  <style>\n",
              "    .colab-df-container {\n",
              "      display:flex;\n",
              "      flex-wrap:wrap;\n",
              "      gap: 12px;\n",
              "    }\n",
              "\n",
              "    .colab-df-convert {\n",
              "      background-color: #E8F0FE;\n",
              "      border: none;\n",
              "      border-radius: 50%;\n",
              "      cursor: pointer;\n",
              "      display: none;\n",
              "      fill: #1967D2;\n",
              "      height: 32px;\n",
              "      padding: 0 0 0 0;\n",
              "      width: 32px;\n",
              "    }\n",
              "\n",
              "    .colab-df-convert:hover {\n",
              "      background-color: #E2EBFA;\n",
              "      box-shadow: 0px 1px 2px rgba(60, 64, 67, 0.3), 0px 1px 3px 1px rgba(60, 64, 67, 0.15);\n",
              "      fill: #174EA6;\n",
              "    }\n",
              "\n",
              "    [theme=dark] .colab-df-convert {\n",
              "      background-color: #3B4455;\n",
              "      fill: #D2E3FC;\n",
              "    }\n",
              "\n",
              "    [theme=dark] .colab-df-convert:hover {\n",
              "      background-color: #434B5C;\n",
              "      box-shadow: 0px 1px 3px 1px rgba(0, 0, 0, 0.15);\n",
              "      filter: drop-shadow(0px 1px 2px rgba(0, 0, 0, 0.3));\n",
              "      fill: #FFFFFF;\n",
              "    }\n",
              "  </style>\n",
              "\n",
              "      <script>\n",
              "        const buttonEl =\n",
              "          document.querySelector('#df-6d5147de-ad5b-4502-bc64-e9b3736a38a9 button.colab-df-convert');\n",
              "        buttonEl.style.display =\n",
              "          google.colab.kernel.accessAllowed ? 'block' : 'none';\n",
              "\n",
              "        async function convertToInteractive(key) {\n",
              "          const element = document.querySelector('#df-6d5147de-ad5b-4502-bc64-e9b3736a38a9');\n",
              "          const dataTable =\n",
              "            await google.colab.kernel.invokeFunction('convertToInteractive',\n",
              "                                                     [key], {});\n",
              "          if (!dataTable) return;\n",
              "\n",
              "          const docLinkHtml = 'Like what you see? Visit the ' +\n",
              "            '<a target=\"_blank\" href=https://colab.research.google.com/notebooks/data_table.ipynb>data table notebook</a>'\n",
              "            + ' to learn more about interactive tables.';\n",
              "          element.innerHTML = '';\n",
              "          dataTable['output_type'] = 'display_data';\n",
              "          await google.colab.output.renderOutput(dataTable, element);\n",
              "          const docLink = document.createElement('div');\n",
              "          docLink.innerHTML = docLinkHtml;\n",
              "          element.appendChild(docLink);\n",
              "        }\n",
              "      </script>\n",
              "    </div>\n",
              "  </div>\n",
              "  "
            ]
          },
          "metadata": {},
          "execution_count": 23
        }
      ]
    },
    {
      "cell_type": "code",
      "source": [
        "df_new.drop(df_new[df_new['Reviews']>df_new['Installs']].index,inplace=True) #droping \n",
        "df_new[df_new['Reviews'] > df_new['Installs']] #cheaking the output"
      ],
      "metadata": {
        "colab": {
          "base_uri": "https://localhost:8080/",
          "height": 49
        },
        "id": "zpe_CBjwC1E3",
        "outputId": "91226185-a626-4719-d866-dbc062d77647"
      },
      "execution_count": 24,
      "outputs": [
        {
          "output_type": "execute_result",
          "data": {
            "text/plain": [
              "Empty DataFrame\n",
              "Columns: [App, Category, Rating, Reviews, Size, Installs, Type, Price, Content Rating, Genres, Last Updated, Current Ver, Android Ver]\n",
              "Index: []"
            ],
            "text/html": [
              "\n",
              "  <div id=\"df-5c1198d8-c20c-45e4-89e3-920e248f48b0\">\n",
              "    <div class=\"colab-df-container\">\n",
              "      <div>\n",
              "<style scoped>\n",
              "    .dataframe tbody tr th:only-of-type {\n",
              "        vertical-align: middle;\n",
              "    }\n",
              "\n",
              "    .dataframe tbody tr th {\n",
              "        vertical-align: top;\n",
              "    }\n",
              "\n",
              "    .dataframe thead th {\n",
              "        text-align: right;\n",
              "    }\n",
              "</style>\n",
              "<table border=\"1\" class=\"dataframe\">\n",
              "  <thead>\n",
              "    <tr style=\"text-align: right;\">\n",
              "      <th></th>\n",
              "      <th>App</th>\n",
              "      <th>Category</th>\n",
              "      <th>Rating</th>\n",
              "      <th>Reviews</th>\n",
              "      <th>Size</th>\n",
              "      <th>Installs</th>\n",
              "      <th>Type</th>\n",
              "      <th>Price</th>\n",
              "      <th>Content Rating</th>\n",
              "      <th>Genres</th>\n",
              "      <th>Last Updated</th>\n",
              "      <th>Current Ver</th>\n",
              "      <th>Android Ver</th>\n",
              "    </tr>\n",
              "  </thead>\n",
              "  <tbody>\n",
              "  </tbody>\n",
              "</table>\n",
              "</div>\n",
              "      <button class=\"colab-df-convert\" onclick=\"convertToInteractive('df-5c1198d8-c20c-45e4-89e3-920e248f48b0')\"\n",
              "              title=\"Convert this dataframe to an interactive table.\"\n",
              "              style=\"display:none;\">\n",
              "        \n",
              "  <svg xmlns=\"http://www.w3.org/2000/svg\" height=\"24px\"viewBox=\"0 0 24 24\"\n",
              "       width=\"24px\">\n",
              "    <path d=\"M0 0h24v24H0V0z\" fill=\"none\"/>\n",
              "    <path d=\"M18.56 5.44l.94 2.06.94-2.06 2.06-.94-2.06-.94-.94-2.06-.94 2.06-2.06.94zm-11 1L8.5 8.5l.94-2.06 2.06-.94-2.06-.94L8.5 2.5l-.94 2.06-2.06.94zm10 10l.94 2.06.94-2.06 2.06-.94-2.06-.94-.94-2.06-.94 2.06-2.06.94z\"/><path d=\"M17.41 7.96l-1.37-1.37c-.4-.4-.92-.59-1.43-.59-.52 0-1.04.2-1.43.59L10.3 9.45l-7.72 7.72c-.78.78-.78 2.05 0 2.83L4 21.41c.39.39.9.59 1.41.59.51 0 1.02-.2 1.41-.59l7.78-7.78 2.81-2.81c.8-.78.8-2.07 0-2.86zM5.41 20L4 18.59l7.72-7.72 1.47 1.35L5.41 20z\"/>\n",
              "  </svg>\n",
              "      </button>\n",
              "      \n",
              "  <style>\n",
              "    .colab-df-container {\n",
              "      display:flex;\n",
              "      flex-wrap:wrap;\n",
              "      gap: 12px;\n",
              "    }\n",
              "\n",
              "    .colab-df-convert {\n",
              "      background-color: #E8F0FE;\n",
              "      border: none;\n",
              "      border-radius: 50%;\n",
              "      cursor: pointer;\n",
              "      display: none;\n",
              "      fill: #1967D2;\n",
              "      height: 32px;\n",
              "      padding: 0 0 0 0;\n",
              "      width: 32px;\n",
              "    }\n",
              "\n",
              "    .colab-df-convert:hover {\n",
              "      background-color: #E2EBFA;\n",
              "      box-shadow: 0px 1px 2px rgba(60, 64, 67, 0.3), 0px 1px 3px 1px rgba(60, 64, 67, 0.15);\n",
              "      fill: #174EA6;\n",
              "    }\n",
              "\n",
              "    [theme=dark] .colab-df-convert {\n",
              "      background-color: #3B4455;\n",
              "      fill: #D2E3FC;\n",
              "    }\n",
              "\n",
              "    [theme=dark] .colab-df-convert:hover {\n",
              "      background-color: #434B5C;\n",
              "      box-shadow: 0px 1px 3px 1px rgba(0, 0, 0, 0.15);\n",
              "      filter: drop-shadow(0px 1px 2px rgba(0, 0, 0, 0.3));\n",
              "      fill: #FFFFFF;\n",
              "    }\n",
              "  </style>\n",
              "\n",
              "      <script>\n",
              "        const buttonEl =\n",
              "          document.querySelector('#df-5c1198d8-c20c-45e4-89e3-920e248f48b0 button.colab-df-convert');\n",
              "        buttonEl.style.display =\n",
              "          google.colab.kernel.accessAllowed ? 'block' : 'none';\n",
              "\n",
              "        async function convertToInteractive(key) {\n",
              "          const element = document.querySelector('#df-5c1198d8-c20c-45e4-89e3-920e248f48b0');\n",
              "          const dataTable =\n",
              "            await google.colab.kernel.invokeFunction('convertToInteractive',\n",
              "                                                     [key], {});\n",
              "          if (!dataTable) return;\n",
              "\n",
              "          const docLinkHtml = 'Like what you see? Visit the ' +\n",
              "            '<a target=\"_blank\" href=https://colab.research.google.com/notebooks/data_table.ipynb>data table notebook</a>'\n",
              "            + ' to learn more about interactive tables.';\n",
              "          element.innerHTML = '';\n",
              "          dataTable['output_type'] = 'display_data';\n",
              "          await google.colab.output.renderOutput(dataTable, element);\n",
              "          const docLink = document.createElement('div');\n",
              "          docLink.innerHTML = docLinkHtml;\n",
              "          element.appendChild(docLink);\n",
              "        }\n",
              "      </script>\n",
              "    </div>\n",
              "  </div>\n",
              "  "
            ]
          },
          "metadata": {},
          "execution_count": 24
        }
      ]
    },
    {
      "cell_type": "code",
      "source": [
        "df_new.info()"
      ],
      "metadata": {
        "colab": {
          "base_uri": "https://localhost:8080/"
        },
        "id": "dA5JJlrfEKan",
        "outputId": "b7ce5141-800f-45ec-9cec-40a1ffba1d74"
      },
      "execution_count": 25,
      "outputs": [
        {
          "output_type": "stream",
          "name": "stdout",
          "text": [
            "<class 'pandas.core.frame.DataFrame'>\n",
            "Int64Index: 9637 entries, 0 to 10840\n",
            "Data columns (total 13 columns):\n",
            " #   Column          Non-Null Count  Dtype  \n",
            "---  ------          --------------  -----  \n",
            " 0   App             9637 non-null   object \n",
            " 1   Category        9637 non-null   object \n",
            " 2   Rating          9637 non-null   float64\n",
            " 3   Reviews         9637 non-null   int64  \n",
            " 4   Size            9637 non-null   float64\n",
            " 5   Installs        9637 non-null   int64  \n",
            " 6   Type            9637 non-null   object \n",
            " 7   Price           9637 non-null   float64\n",
            " 8   Content Rating  9637 non-null   object \n",
            " 9   Genres          9637 non-null   object \n",
            " 10  Last Updated    9637 non-null   object \n",
            " 11  Current Ver     9637 non-null   object \n",
            " 12  Android Ver     9637 non-null   object \n",
            "dtypes: float64(3), int64(2), object(8)\n",
            "memory usage: 1.0+ MB\n"
          ]
        }
      ]
    },
    {
      "cell_type": "markdown",
      "source": [
        "# Data Visulisation for Basic EDA\n",
        "###1.App size"
      ],
      "metadata": {
        "id": "cYHl0_vQtF1-"
      }
    },
    {
      "cell_type": "code",
      "source": [
        "plt.figure(figsize=(10,5))\n",
        "sns.distplot(df_new['Size'],color='purple')\n",
        "plt.title('App Size Distribution')\n",
        "plt.ylebel('Frequency')\n",
        "plt.show()"
      ],
      "metadata": {
        "colab": {
          "base_uri": "https://localhost:8080/",
          "height": 605
        },
        "id": "iezJDXF5wbe-",
        "outputId": "8ae373da-8842-4b2f-e6af-50cae062c537"
      },
      "execution_count": 34,
      "outputs": [
        {
          "output_type": "stream",
          "name": "stderr",
          "text": [
            "/usr/local/lib/python3.7/dist-packages/seaborn/distributions.py:2619: FutureWarning: `distplot` is a deprecated function and will be removed in a future version. Please adapt your code to use either `displot` (a figure-level function with similar flexibility) or `histplot` (an axes-level function for histograms).\n",
            "  warnings.warn(msg, FutureWarning)\n"
          ]
        },
        {
          "output_type": "error",
          "ename": "AttributeError",
          "evalue": "ignored",
          "traceback": [
            "\u001b[0;31m---------------------------------------------------------------------------\u001b[0m",
            "\u001b[0;31mAttributeError\u001b[0m                            Traceback (most recent call last)",
            "\u001b[0;32m<ipython-input-34-15763dbd2657>\u001b[0m in \u001b[0;36m<module>\u001b[0;34m()\u001b[0m\n\u001b[1;32m      2\u001b[0m \u001b[0msns\u001b[0m\u001b[0;34m.\u001b[0m\u001b[0mdistplot\u001b[0m\u001b[0;34m(\u001b[0m\u001b[0mdf_new\u001b[0m\u001b[0;34m[\u001b[0m\u001b[0;34m'Size'\u001b[0m\u001b[0;34m]\u001b[0m\u001b[0;34m,\u001b[0m\u001b[0mcolor\u001b[0m\u001b[0;34m=\u001b[0m\u001b[0;34m'purple'\u001b[0m\u001b[0;34m)\u001b[0m\u001b[0;34m\u001b[0m\u001b[0;34m\u001b[0m\u001b[0m\n\u001b[1;32m      3\u001b[0m \u001b[0mplt\u001b[0m\u001b[0;34m.\u001b[0m\u001b[0mtitle\u001b[0m\u001b[0;34m(\u001b[0m\u001b[0;34m'App Size Distribution'\u001b[0m\u001b[0;34m)\u001b[0m\u001b[0;34m\u001b[0m\u001b[0;34m\u001b[0m\u001b[0m\n\u001b[0;32m----> 4\u001b[0;31m \u001b[0mplt\u001b[0m\u001b[0;34m.\u001b[0m\u001b[0mylebel\u001b[0m\u001b[0;34m(\u001b[0m\u001b[0;34m'Frequency'\u001b[0m\u001b[0;34m)\u001b[0m\u001b[0;34m\u001b[0m\u001b[0;34m\u001b[0m\u001b[0m\n\u001b[0m\u001b[1;32m      5\u001b[0m \u001b[0mplt\u001b[0m\u001b[0;34m.\u001b[0m\u001b[0mshow\u001b[0m\u001b[0;34m(\u001b[0m\u001b[0;34m)\u001b[0m\u001b[0;34m\u001b[0m\u001b[0;34m\u001b[0m\u001b[0m\n",
            "\u001b[0;31mAttributeError\u001b[0m: module 'matplotlib.pyplot' has no attribute 'ylebel'"
          ]
        },
        {
          "output_type": "display_data",
          "data": {
            "text/plain": [
              "<Figure size 720x360 with 1 Axes>"
            ],
            "image/png": "[encoded data removed]"
          },
          "metadata": {
            "needs_background": "light"
          }
        }
      ]
    },
    {
      "cell_type": "code",
      "source": [
        "#Most of the apps size lie in 0 to 20 mb range\n",
        "(df_new[df_new['Size']<=20].shape[0]/df_new['Size'].shape[0])*100   # % of the apps size less or equal than to 20 mb"
      ],
      "metadata": {
        "colab": {
          "base_uri": "https://localhost:8080/"
        },
        "id": "9PUqnrLN6Rsn",
        "outputId": "f428a23b-516a-42e5-c515-5d876c1b26c3"
      },
      "execution_count": 33,
      "outputs": [
        {
          "output_type": "execute_result",
          "data": {
            "text/plain": [
              "64.97872781986095"
            ]
          },
          "metadata": {},
          "execution_count": 33
        }
      ]
    },
    {
      "cell_type": "markdown",
      "source": [
        "approx 65% of the apps come under 0 to 20 mb in in size "
      ],
      "metadata": {
        "id": "d4Bv6bsw7c8W"
      }
    }
  ]
}